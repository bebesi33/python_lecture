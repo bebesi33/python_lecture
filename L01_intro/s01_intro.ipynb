{
 "cells": [
  {
   "cell_type": "markdown",
   "metadata": {},
   "source": [
    "### Hello!\n",
    "\n",
    "\n",
    "<br> Elérhetőségek\n",
    "<br> Bebesi László : bebesilaci{at}gmail.com\n",
    "<br> Git: https://github.com/bebesi33/python_lecture\n",
    "<br> Kezdés: Célozzuk meg a 8.20-as kezdést minden Pénteken...\n"
   ]
  },
  {
   "cell_type": "markdown",
   "metadata": {},
   "source": [
    "### Követelmények\n",
    "\n",
    "\n",
    "<br> Hiányzások kezelése az aktuális HKR szerint.\n",
    "\n",
    "<p>A tárgy keretében a szemeszter közepén (6. hét  ) illetve a végén ( 13. hét) írnak dolgozatot. Mindkét dolgozat elméleti és gyakorlati részből fog állni. Az elméleti részt az előadáson, a gyakorlati részt mindenki a gyakorlatvezetőjével egyeztetve írja,  a gyakorlata idejében. </p>\n",
    "\n",
    "<p>Valamennyi dolgozatból el kell érnie a 40%-ot, javításuk pót zárthelyikkel lehetséges (utolsó szorgalmi hét). A dolgozatokkal pontokat gyűjtenek a félév végi jegyekhez.  Az elméleti részek: 10-10 pontot érnek, a gyakorlati részek: 20-20 pontot.</p>\n",
    "\n",
    "<p>A zárthelyik mellett 2 beadandó feladatot is el kell készíteni. Kérem figyeljenek a határidőkre, mert maximum két hetet lehet csúszni vele, utána nincs gyakorlati jegy.  Késés esetén naponta 1 pontot vonunk le a félévben összegyűjtött összes pontokból. Az értékelés elfogad/javítandó (határidőn belül)/nem fogad. A javítást egy héten belül kell elvégezni.  A két elfogadott beadandó feltétele a gyakorlati jegynek.</p>\n",
    "\n",
    "<br>Gyakorlaton kaphatnak szorgalmi feladatokat, amivel plusz pontokat lehet gyűjteni (max 10 pontot összesen).\n",
    "<br>A végső jegy az összegyűjtött pontszámokból számítható.\n",
    "<ul> \n",
    "<li>0%-40% : elégtelen</li>\n",
    "<li>41%-55% : elégséges</li>\n",
    "<li>56%-70% : közepes</li>\n",
    "<li>71%-85% : jó</li>\n",
    "<li>86%-100% : jeles</li>\n",
    "</ul>\n",
    "<br> Üdvözlettel: Bakonyi Viktória"
   ]
  },
  {
   "cell_type": "markdown",
   "metadata": {},
   "source": [
    "\n",
    "### Feladatok:\n",
    "\n",
    "<br> Nézzük meg mi elérhető a sulis gépeken.\n",
    "<br> Futassunk egy \"Hello Python\" kódot a következő módokon:\n",
    "<ul>\n",
    "    <li>Python kernel terminálból</li>\n",
    "    <li>Egy .py állomány futtatása Vs Code-ból</li>\n",
    "    <li>A \"Hello Python\" kiíratása Jupyter notebook-ban - Böngészővel</li>\n",
    "    <li>A \"Hello Python\" kiíratása Jupyter notebook-ban - Vs Code-al</li>\n",
    "</ul>\n",
    "\n",
    "A Jupyter notebook használatához hozzunk létre egy virtuális környezet és telepítsük a jupyter package-et."
   ]
  },
  {
   "cell_type": "markdown",
   "metadata": {},
   "source": [
    "### Fogalmak:\n",
    "\n",
    "<br> <b>Python kernel</b>: ~ A python futtatásáért felelős háttérfolyamat...\n",
    "\n",
    "<br> <b>Python environment</b>: Az a rendszer amiben a kódokat futtatjuk. Ez tartalmazza az interpretert és a module-okat is (package-k).\n",
    "<ul>\n",
    "    <li>Global environment:  Rendszerszintű python környezet, általában csak az alap python package-eket tartalmazza. (Ez az amit a system PATH-hoz hozzá akarunk adni...)</li>\n",
    "    <li>Virtual environment : Egy komolyabb project-hez több 3rd party package-re is szükségünk lehet, ha sok project-ünk van, akkor ezek verziói eltérhetnek. Így érdemes lehet különböző környezeteket létrehozni...</li>\n",
    "</ul>\n",
    "\n",
    "<br> <b> Jupyter notebook </b>: Egy webes alkalmazás ami alkalmas python kódok futtatására. Nagy előnye, hogy interaktív módon lépésről, lépésre lehet a kódokat végrehajtani és a kód, valamint a hozzátartozó magyarázat/ábrák egy állományban szerepelhetnek. \n",
    "Hátránya, hogy komplex alkalmazásokhoz nem javasolt, mivel relatíve lassú és egy állományban van minden... (Jupytext)"
   ]
  },
  {
   "cell_type": "markdown",
   "metadata": {},
   "source": []
  }
 ],
 "metadata": {
  "kernelspec": {
   "display_name": "base",
   "language": "python",
   "name": "python3"
  },
  "language_info": {
   "name": "python",
   "version": "3.9.7"
  }
 },
 "nbformat": 4,
 "nbformat_minor": 2
}
