{
 "cells": [
  {
   "cell_type": "markdown",
   "metadata": {},
   "source": [
    "### Hello!\n",
    "\n",
    "\n",
    "<br> Elérhetőségek\n",
    "<br> Bebesi László : bebesilaci{at}gmail.com\n",
    "<br> Git: https://github.com/bebesi33/python_lecture\n",
    "<br> Kezdés: Célozzuk meg a 8.30-as kezdést minden Pénteken...\n",
    "\n",
    "### Feladatok:\n",
    "\n",
    "<br> Nézzük meg mi elérhető a sulis gépeken.\n",
    "<br> Futassunk egy \"Hello Python\" kódot a következő módokon:\n",
    "<ul>\n",
    "    <li>Python kernel terminálból</li>\n",
    "    <li>Egy .py állomány futtatása Vs Code-ból</li>\n",
    "    <li>A \"Hello Python\" kiíratása Jupyter notebook-ban - Böngészővel</li>\n",
    "    <li>A \"Hello Python\" kiíratása Jupyter notebook-ban - Vs Code-al</li>\n",
    "</ul>\n",
    "\n",
    "A Jupyter notebook használatához hozzunk létre egy virtuális környezet és telepítsük a jupyter package-et."
   ]
  },
  {
   "cell_type": "markdown",
   "metadata": {},
   "source": [
    "### Fogalmak:\n",
    "\n",
    "<br> <b>Python kernel</b>: ~ A python futtatásáért felelős háttérfolyamat...\n",
    "\n",
    "<br> <b>Python environment</b>: Az a rendszer amiben a kódokat futtatjuk. Ez tartalmazza az interpretert és a module-okat is (package-k).\n",
    "<ul>\n",
    "    <li>Global environment:  Rendszerszintű python környezet, általában csak az alap python package-eket tartalmazza. (Ez az amit a system PATH-hoz hozzá akarunk adni...)</li>\n",
    "    <li>Virtual environment : Egy komolyabb project-hez több 3rd party package-re is szükségünk lehet, ha sok project-ünk van, akkor ezek verziói eltérhetnek. Így érdemes lehet különböző környezeteket létrehozni...</li>\n",
    "</ul>\n",
    "\n",
    "<br> <b> Jupyter notebook </b>: Egy webes alkalmazás ami alkalmas python kódok futtatására. Nagy előnye, hogy interaktív módon lépésről, lépésre lehet a kódokat végrehajtani és a kód, valamint a hozzátartozó magyarázat/ábrák egy állományban szerepelhetnek. \n",
    "Hátránya, hogy komplex alkalmazásokhoz nem javasolt, mivel relatíve lassú és egy állományban van minden... (Jupytext)"
   ]
  },
  {
   "cell_type": "markdown",
   "metadata": {},
   "source": []
  }
 ],
 "metadata": {
  "kernelspec": {
   "display_name": "base",
   "language": "python",
   "name": "python3"
  },
  "language_info": {
   "name": "python",
   "version": "3.9.7"
  }
 },
 "nbformat": 4,
 "nbformat_minor": 2
}
