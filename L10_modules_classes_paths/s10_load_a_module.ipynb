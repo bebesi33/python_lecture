{
 "cells": [
  {
   "cell_type": "markdown",
   "id": "2be63357",
   "metadata": {},
   "source": [
    "### Python module-ok, package-ek és library-k"
   ]
  },
  {
   "cell_type": "markdown",
   "id": "bcf24ccd",
   "metadata": {},
   "source": [
    "\n",
    "<p><b>Module</b>: Egy darab .py file (e.g., base_container.py), amit importálni lehet. </p>\n",
    "\n",
    "<p><b>Package</b>: Egy folder/mappa amiben található egy __init__.py fájl. \n",
    "<br>Fontos: \n",
    "<li>A folder-ben több Module is lehet. (több .py file)</li>\n",
    "<li>Az __init__.py file jelenléte mutatja a python interpreternek, hogy adott folder tartalma package-ként értelmezendő.</li>\n",
    "<li>Az __init__.py file lehet üres. (Sőt legtöbbször az...) Ha az __init__.py nem üres, akkor általában valami package szintű inicializációt rejtenek el benne.</li>\n",
    "</p>\n",
    "<p><b>Library</b>: package-ek és module-ok gyűjteménye, ami más számára is felhasználható. Példák: Numpy, Pandas, Seaborn, Matplotlib etc.</p>"
   ]
  },
  {
   "cell_type": "markdown",
   "id": "9e059bf3",
   "metadata": {},
   "source": [
    "<p><b> Általában: Python-ban a project folder struktúrája indukálja a kód struktúrát. A megfelelő folder struktúra segítségével építhetjük fel a saját package-ünket. <br> A mappa- és fájlstruktúra határozza meg, hogyan lehet a kódot modulokként és csomagként (package) használni és importálni.\n",
    "</b></p>\n",
    "\n",
    "<p><b>Abszolút import</b>: Project root-ból. Például: from sajat_package.module_a import module_a</p>\n",
    "<p><b>Relatív import</b>: Package-en belül... \".\" -> a jelenlegi package. \"..\" -> a package feletti package. </p>\n"
   ]
  },
  {
   "cell_type": "markdown",
   "id": "626b6143",
   "metadata": {},
   "source": [
    "### Illusztráció ( a mellékelt s10 package használatára )"
   ]
  },
  {
   "cell_type": "code",
   "execution_count": 11,
   "id": "162a4027",
   "metadata": {},
   "outputs": [],
   "source": [
    "from s10.element_loaders.txt_loader import read_txt_file\n",
    "from s10.simple_containers.queue import Queue\n",
    "from pathlib import Path\n"
   ]
  },
  {
   "cell_type": "code",
   "execution_count": 9,
   "id": "2995c682",
   "metadata": {},
   "outputs": [
    {
     "name": "stdout",
     "output_type": "stream",
     "text": [
      "Tartalom : Queue([1, 2])\n",
      "Első törölt elem : 1\n",
      "A Queue üres : False\n",
      "Második törölt elem : 2\n",
      "A Queue üres : True\n"
     ]
    }
   ],
   "source": [
    "# 10. heti feladt sor 1. feladat:\n",
    "# Készítsünk egy Sor osztályt, amely egy listában tárolja az elemeket és implementálja a szokásos műveleteket\n",
    "# (létrehoz, sorba, sorból, soreleje, üres_e, üres, töröl)! Teszteljük!\n",
    "# Nézzük meg, hogy a Queue osztály valóban tudja-e ezeket!\n",
    "\n",
    "gyak10f1_queue = Queue()\n",
    "\n",
    "gyak10f1_queue.add(1)\n",
    "gyak10f1_queue.add(2)\n",
    "print(f\"Tartalom : {str(gyak10f1_queue)}\")\n",
    "\n",
    "elso_torolt_elem = gyak10f1_queue.remove()\n",
    "print(f\"Első törölt elem : {str(elso_torolt_elem)}\")\n",
    "print(f\"A Queue üres : {str(gyak10f1_queue.is_empty())}\")\n",
    "\n",
    "masodik_torolt_elem = gyak10f1_queue.remove()\n",
    "print(f\"Második törölt elem : {str(masodik_torolt_elem)}\")\n",
    "print(f\"A Queue üres : {str(gyak10f1_queue.is_empty())}\")"
   ]
  },
  {
   "cell_type": "markdown",
   "id": "01f0c14f",
   "metadata": {},
   "source": [
    "### Feladatok"
   ]
  },
  {
   "cell_type": "code",
   "execution_count": null,
   "id": "7817730f",
   "metadata": {},
   "outputs": [],
   "source": [
    "# 10. heti feladat sor 5. feladat:\n",
    "# Készítsd el a saját Verem osztályodat \n",
    "# a megszokott műveletekkel (létrehoz, verembe, veremből, tető, üres-e, üres)! Teszteld le!\n",
    "# ITT most írjuk meg a verem osztályt úgy, hogy kompatibilis legyen a Queue osztályból \n",
    "# és a simple_containers. CustomContainer metódusait implementáljuk!"
   ]
  },
  {
   "cell_type": "code",
   "execution_count": null,
   "id": "b01d7a35",
   "metadata": {},
   "outputs": [],
   "source": []
  },
  {
   "cell_type": "code",
   "execution_count": null,
   "id": "1c8fa0cf",
   "metadata": {},
   "outputs": [],
   "source": [
    "# 10. heti feladat sor 2. feladat:\n",
    "# Készíts alkalmazást, amelyik egy szövegmanipulációt végez. Az S szövegben lehetnek ( ) zárójelekbe tett részek, \n",
    "# és a zárójelekbe tett részekben is lehetnek újabb zárójeles részek, akár többszörös mélységben is.\n",
    "# Állítsd elő ebből azt a kimenetet, ami úgy készül, hogy a zárójelbe tett részeket teljes egészében kihagyja! \n",
    "# Feltehetjük, hogy helyesen vannak elhelyezve a zárójelek. A megoldásban használ sort!\n",
    "# pl. túró(lekvár( szilva) sa(j)t)gombóc => túrógombóc\n",
    "# Használd az általad készített sort!\n",
    "# Használd a deque duplavégű sor adatszerkezetet!"
   ]
  },
  {
   "cell_type": "code",
   "execution_count": 15,
   "id": "2bb8a331",
   "metadata": {},
   "outputs": [],
   "source": [
    "input_path = Path(r\"K:\\python_lecture\\d2024202502\\python_lecture\\L10_modules_classes_paths\\s10\\example_inputs\")\n",
    "example_input = read_txt_file(input_path / \"s10_f2_pelda_3.txt\")"
   ]
  },
  {
   "cell_type": "code",
   "execution_count": null,
   "id": "bfebe2ae",
   "metadata": {},
   "outputs": [],
   "source": []
  },
  {
   "cell_type": "code",
   "execution_count": null,
   "id": "8f693c2e",
   "metadata": {},
   "outputs": [],
   "source": [
    "# Készíts alkalmazást, amelyik beolvas egy szöveget és megállapítja, hogy palindrom-e \n",
    "# (visszafelé olvasva ugyanazt adja-e a szóközök elhagyásával pl. indul a görög aludni). A megoldáshoz használj sort és vermet!\n",
    "# Használd az általad készített verem osztályt!\n",
    "# Használd a dequet erre a feladatra!"
   ]
  }
 ],
 "metadata": {
  "kernelspec": {
   "display_name": "Python 3",
   "language": "python",
   "name": "python3"
  },
  "language_info": {
   "codemirror_mode": {
    "name": "ipython",
    "version": 3
   },
   "file_extension": ".py",
   "mimetype": "text/x-python",
   "name": "python",
   "nbconvert_exporter": "python",
   "pygments_lexer": "ipython3",
   "version": "3.12.6"
  }
 },
 "nbformat": 4,
 "nbformat_minor": 5
}
