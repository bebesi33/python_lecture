{
 "cells": [
  {
   "cell_type": "markdown",
   "metadata": {},
   "source": [
    "### Python functions..."
   ]
  },
  {
   "cell_type": "code",
   "execution_count": null,
   "metadata": {},
   "outputs": [
    {
     "name": "stdout",
     "output_type": "stream",
     "text": [
      "We need the second input 6.0\n",
      "We do not need the second input 6.0\n"
     ]
    }
   ],
   "source": [
    "# A simple function...\n",
    "def calc_sum_v1(value, multiplier):\n",
    "    return value * multiplier\n",
    "\n",
    "\n",
    "# A simple function with default params\n",
    "def calc_sum_v2(value, multiplier=2.0):  # notice the default input value setting\n",
    "    return value * multiplier\n",
    "\n",
    "\n",
    "print(f\"We need the second input {calc_sum_v1(3, 2.0)}\")\n",
    "\n",
    "print(f\"We do not need the second input {calc_sum_v2(3)}\")"
   ]
  },
  {
   "cell_type": "code",
   "execution_count": null,
   "metadata": {},
   "outputs": [
    {
     "name": "stdout",
     "output_type": "stream",
     "text": [
      "Before the function execution: {'pass': 4, 'pass2': 8}\n",
      "Before the function execution: {'pass': 4, 'pass2': 8, 'pass3': 16}\n",
      "returned_result is None : True\n"
     ]
    }
   ],
   "source": [
    "# A function with not output, but....\n",
    "\n",
    "random_dict = {\"pass\": 4, \"pass2\": 8}\n",
    "\n",
    "\n",
    "def return_nothing_but_modify(dict_input):\n",
    "    dict_input[\"pass3\"] = 16\n",
    "\n",
    "\n",
    "print(f\"Before the function execution: {str(random_dict)}\")\n",
    "returned_result = return_nothing_but_modify(random_dict)\n",
    "print(f\"Before the function execution: {str(random_dict)}\")\n",
    "print(f\"returned_result is None : {returned_result is None}\")\n",
    "# Szóval a python-ban ha nincs return kulcsszó a függvényhez akkor a return None\n",
    "# !!!!!\n",
    "### PASS-by-OBJECT-REFERENCE, or PASS-BY-ASSIGNMENT"
   ]
  },
  {
   "cell_type": "markdown",
   "metadata": {},
   "source": [
    "<p> A Pythonban a változók nem tárolják közvetlenül az értékeket. \n",
    "Ehelyett hivatkozásokat (vagy pointereket) tárolnak a memóriában lévő objektumokra. \n",
    "->>> Amikor egy változót átadsz egy függvénynek, nem az objektum másolatát adod át, hanem a változó által mutatott objektum hivatkozását. Ezt a <b>pass-by-object-reference</b> vagy <b>pass-by-assignment</b>. </p>\n",
    "\n",
    "Másképpen:\n",
    "\n",
    "<li>A változó nem közvetlenül tartja az értéket, hanem egy hivatkozást tárol arra a memóriahelyre, ahol az érték tárolódik (azaz az objektumra).</li>\n",
    "<li>Amikor egy változót átadsz egy függvénynek, a hivatkozás kerül átadásra, így a függvényben végzett módosítások hatással lehetnek az eredeti objektumra. (Lásd előző példa...)</li>\n",
    "<li>Azonban, ha a függvény új objektumra köti a hivatkozást, az nem befolyásolja a külső változót, mivel a referencia csak a függvényen belül változik meg.</li>\n",
    "\n",
    "Magyarul:\n",
    "A fenti trükk csak módosítható elemekre működik (a legtöbb összetett osztály ilyen), a lenti függvényen látszik, hogy\n",
    "nem egészen így sül el a történet..."
   ]
  },
  {
   "cell_type": "code",
   "execution_count": null,
   "metadata": {},
   "outputs": [
    {
     "name": "stdout",
     "output_type": "stream",
     "text": [
      "The number before function call : 5\n",
      "The number after function call : 5\n"
     ]
    }
   ],
   "source": [
    "def modify_number(n):\n",
    "    n += 10  # itt most új objektum jön létre...\n",
    "\n",
    "\n",
    "original_number = 5\n",
    "print(f\"The number before function call : {original_number}\")\n",
    "modify_number(original_number)\n",
    "\n",
    "print(f\"The number after function call : {original_number}\")"
   ]
  },
  {
   "cell_type": "markdown",
   "metadata": {},
   "source": [
    "### DocsStrings and Typehints..."
   ]
  },
  {
   "cell_type": "code",
   "execution_count": null,
   "metadata": {},
   "outputs": [],
   "source": []
  },
  {
   "cell_type": "markdown",
   "metadata": {},
   "source": [
    "### Args and Kwargs"
   ]
  },
  {
   "cell_type": "code",
   "execution_count": null,
   "metadata": {},
   "outputs": [],
   "source": []
  },
  {
   "cell_type": "markdown",
   "metadata": {},
   "source": [
    "### Lambda functions"
   ]
  },
  {
   "cell_type": "markdown",
   "metadata": {},
   "source": []
  }
 ],
 "metadata": {
  "kernelspec": {
   "display_name": "Python 3",
   "language": "python",
   "name": "python3"
  },
  "language_info": {
   "codemirror_mode": {
    "name": "ipython",
    "version": 3
   },
   "file_extension": ".py",
   "mimetype": "text/x-python",
   "name": "python",
   "nbconvert_exporter": "python",
   "pygments_lexer": "ipython3",
   "version": "3.12.6"
  }
 },
 "nbformat": 4,
 "nbformat_minor": 2
}
