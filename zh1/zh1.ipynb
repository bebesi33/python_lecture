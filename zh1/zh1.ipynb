{
 "cells": [
  {
   "cell_type": "code",
   "execution_count": 59,
   "metadata": {},
   "outputs": [],
   "source": [
    "# Készítsünk egy dictionary-t (Python dict) ami két kulcs értékkel rendelkezik: „Névkonvenciók”, „Kódformázás”.\n",
    "# Mindkét kulcshoz tartozó érték legyen egy lista (Python list). Idézzük fel, mit tanultunk a PEP8-as szabályokról.\n",
    "# A „Névkonvenciók”-hoz kapcsolódóan írjunk legalább két szabályt, míg a „Kódformázás” listához adjunk hozzá 3 string-et,\n",
    "# amelyek mindegyike egy kódformázásással kapcsolatos szabályt említ meg. (Másképpen fogalmazva a „Névkonvekciók”-oz legalább 2 szabályt,\n",
    "#                                                                          a „Kódformázás”-hoz kapcsolódóan legalább 3 szabályt kell említeni.)\n",
    "# Az így kapott struktúrán iteráljunk végig, és írjuk ki a tartalmát az alábbi formában: „PEP 8 szabály [kulcs]: [lista elem]”."
   ]
  },
  {
   "cell_type": "code",
   "execution_count": 60,
   "metadata": {},
   "outputs": [
    {
     "name": "stdout",
     "output_type": "stream",
     "text": [
      "PEP 8 szabály Névkonvenciók: CamelCase a class nevekre\n",
      "PEP 8 szabály Névkonvenciók: snake_case a változó és függvény nevekre\n",
      "PEP 8 szabály Kódformázás: Az indentation 4 space hosszú\n",
      "PEP 8 szabály Kódformázás: operátorok körül van space...\n",
      "PEP 8 szabály Kódformázás: új fv def után két sor kihagyás, metódusok után 1 üres sor\n"
     ]
    }
   ],
   "source": [
    "random_dict = {\n",
    "    \"Névkonvenciók\": [\n",
    "        \"CamelCase a class nevekre\",\n",
    "        \"snake_case a változó és függvény nevekre\",\n",
    "    ],\n",
    "    \"Kódformázás\": [\n",
    "        \"Az indentation 4 space hosszú\",\n",
    "        \"operátorok körül van space...\",\n",
    "        \"új fv def után két sor kihagyás, metódusok után 1 üres sor\",\n",
    "    ],\n",
    "}\n",
    "\n",
    "for key in random_dict.keys():\n",
    "    for record in random_dict[key]:\n",
    "        print(f\"PEP 8 szabály {key}: {record}\")"
   ]
  },
  {
   "cell_type": "code",
   "execution_count": 61,
   "metadata": {},
   "outputs": [],
   "source": [
    "# Készítsünk egy függvényt, amely pozitív egész számok egy listáját kapja bemenetként. Számoljuk ki a kapott páros számok összegének\n",
    "# és a kapott páratlan számok összegének hányadosát. A kapott összegekhez adjunk hozzá 1-et.\n",
    "# Így, ha nincs páros szám a listában, a páros számok összege 1. Hasonlóan a páratlan számok esetén,\n",
    "# ha nincs páratlan szám a listában, akkor az összeg 1. A függvény kimenete a páros és páratlan számok összegének hányadosa.\n",
    "# (Páros összeg / páratlan összeg.)"
   ]
  },
  {
   "cell_type": "code",
   "execution_count": 62,
   "metadata": {},
   "outputs": [],
   "source": [
    "example_1 = \"0 1 2 3 4\"\n",
    "example_2 = \"0\"\n",
    "example_3 = \"1\"\n",
    "example_4 = \"4\"\n",
    "example_5 = \"\"\n",
    "\n",
    "\n",
    "def integer_summary(integer_stuff: str):\n",
    "    try:\n",
    "        ints = [int(x) for x in integer_stuff.split(\" \")]\n",
    "    except ValueError:\n",
    "        ints = []\n",
    "    even_sum = 0\n",
    "    odd_sum = 0\n",
    "    for val in ints:\n",
    "        if val % 2 == 0:\n",
    "            even_sum += val\n",
    "        else:\n",
    "            odd_sum += val\n",
    "    if even_sum < 1:\n",
    "        even_sum = 1\n",
    "    if odd_sum < 1:\n",
    "        odd_sum = 1\n",
    "\n",
    "    return even_sum / odd_sum\n",
    "\n",
    "\n",
    "# Egyebek: az üres input esetét most elengedem, egyébként a try catch-el meg van oldva az is...\n",
    "# Azt is feltesszük, hogy a string minden tagja konvertálható intre...\n",
    "# tegyük fel itt, hogyha 0 lenne az összeg, akkor állítsuk 1re"
   ]
  },
  {
   "cell_type": "code",
   "execution_count": 63,
   "metadata": {},
   "outputs": [
    {
     "name": "stdout",
     "output_type": "stream",
     "text": [
      "Example 1: 1.5\n",
      "Example 2: 1.0\n",
      "Example 3: 1.0\n",
      "Example 4: 4.0\n",
      "Example 5: 1.0\n"
     ]
    }
   ],
   "source": [
    "print(f\"Example 1: {integer_summary(example_1)}\")\n",
    "print(f\"Example 2: {integer_summary(example_2)}\")\n",
    "print(f\"Example 3: {integer_summary(example_3)}\")\n",
    "print(f\"Example 4: {integer_summary(example_4)}\")\n",
    "print(f\"Example 5: {integer_summary(example_5)}\")"
   ]
  },
  {
   "cell_type": "code",
   "execution_count": 64,
   "metadata": {},
   "outputs": [],
   "source": [
    "# Írjunk egy függvényt, ami egy mondatot kap bemenetként. (Tehát a bemenet egy darab string.)\n",
    "# A szavakat szóközökkel választjuk el egymástól. Gyűjtsük ki a 4 karakter vagy annál rövidebb szavakat egy listába.\n",
    "# Az így kapott lista legyen a függvény egyik kimenete. Legyen egy második kimenet is,\n",
    "# ami a kapott lista elemeit nagybetűkre transzformálva összefűzi a „&” jellel.\n",
    "# Példa:\n",
    "# sentence = \"Ez egy egyszerű példa a feladathoz\"\n",
    "# 1. Várt kimenet: [„Ez”, „egy”, „a”]\n",
    "# 2. Várt kimenet: EZ&EGY&A"
   ]
  },
  {
   "cell_type": "code",
   "execution_count": 65,
   "metadata": {},
   "outputs": [],
   "source": [
    "sentence_1 = \"Ez egy egyszerű példa a feladathoz\"\n",
    "sentence_2 = \"\"\n",
    "sentence_3 = \"ffffffffffff hhhhhhhhhhhhhh\"\n",
    "sentence_4 = \"a aa aaa aaaa aaaaa\"\n",
    "\n",
    "\n",
    "def word_selector(sentence: str):\n",
    "    selected_words = []\n",
    "    words = sentence.split(\" \")\n",
    "    for word in words:\n",
    "        if len(word) < 5:\n",
    "            selected_words.append(word)\n",
    "    appended_words = \"&\".join([word.upper() for word in selected_words])\n",
    "    return selected_words, appended_words\n",
    "\n",
    "\n",
    "# Egyebek...\n",
    "# Az írásjelek bent maradhatnak a szavakban elfogadom a megoldást így is."
   ]
  },
  {
   "cell_type": "code",
   "execution_count": 66,
   "metadata": {},
   "outputs": [
    {
     "name": "stdout",
     "output_type": "stream",
     "text": [
      "Example 1: (['Ez', 'egy', 'a'], 'EZ&EGY&A')\n",
      "Example 2: ([''], '')\n",
      "Example 3: ([], '')\n",
      "Example 4: (['a', 'aa', 'aaa', 'aaaa'], 'A&AA&AAA&AAAA')\n"
     ]
    }
   ],
   "source": [
    "print(f\"Example 1: {str(word_selector(sentence_1))}\")\n",
    "print(f\"Example 2: {str(word_selector(sentence_2))}\")\n",
    "print(f\"Example 3: {str(word_selector(sentence_3))}\")\n",
    "print(f\"Example 4: {str(word_selector(sentence_4))}\")"
   ]
  },
  {
   "cell_type": "code",
   "execution_count": 67,
   "metadata": {},
   "outputs": [],
   "source": [
    "# Írjunk egy függvényt, ami két listát vár bemenetként, a listákban egész számok szerepelnek.\n",
    "# A függvény kimenete legyen azoknak az egész számoknak a halmaza, amik mindkét listában szerepelnek,\n",
    "# a kimenetben ne legyenek ismétlődő számok. Amennyiben a két lista hosszúsága azonos, írjuk a két lista tartalmát\n",
    "# egy dictionary-be és az legyen a függvény kimenete. (Ez utóbbi esetben a sorrend ne változzon, az első lista elemei legyenek a kulcsok.)\n",
    "# Azonos hosszúságú listák esetén problémát jelent, hogy ha van ismétlődés az első listában,\n",
    "# akkor információ vesztés lehetséges a dictionary-be rendezés során. Például:\n",
    "# list1 = [1, 2, 3, 3, 5]\n",
    "# list2 = [3, 4, 5, 6, 7]\n",
    "\n",
    "# Találjunk valami megoldást, arra, hogy megtartsunk minden értéket.\n",
    "# (Másképpen fogalmazva a dictionary value-jai között megmaradjon a példában az 5-ös érték.)"
   ]
  },
  {
   "cell_type": "code",
   "execution_count": null,
   "metadata": {},
   "outputs": [],
   "source": [
    "list1 = [1, 2, 3, 3, 5]\n",
    "list2 = [3, 4, 5, 6, 7]\n",
    "\n",
    "\n",
    "def list_manipulation(list1: list[int], list2: list[int]):\n",
    "    out_struct_1 = set(list1).union(set(list2))\n",
    "    # nem volt teljesen oks a megfogalmazás lehetett unió-ként és metszetként is értelmezni a\n",
    "    # mindkét listában szereplést... így mindkét eset el volt fogadva...\n",
    "\n",
    "    out_struct_corrected = {}\n",
    "    if len(list1) == len(list2):\n",
    "        out_struct_simple = dict(\n",
    "            zip(list1, list2)\n",
    "        )  # vegyük észre hogy itt a második 3-as eltűnik\n",
    "        for idx in range(len(list1)):\n",
    "            out_struct_corrected[(list1[idx], idx)] = list2[idx]\n",
    "            # itt változtatok a kulcson, az eredeti lista indexe (adott elem pozíciója) is a kulcs része...\n",
    "            # így már megmarad minden info...\n",
    "    else:\n",
    "        out_struct_simple = {}\n",
    "    return out_struct_1, out_struct_simple, out_struct_corrected"
   ]
  },
  {
   "cell_type": "code",
   "execution_count": 69,
   "metadata": {},
   "outputs": [
    {
     "name": "stdout",
     "output_type": "stream",
     "text": [
      "{1, 2, 3, 4, 5, 6, 7}\n",
      "{1: 3, 2: 4, 3: 6, 5: 7}\n",
      "{(1, 0): 3, (2, 1): 4, (3, 2): 5, (3, 3): 6, (5, 4): 7}\n"
     ]
    }
   ],
   "source": [
    "out_struct_1, out_struct_simple, out_struct_corrected = list_manipulation(list1, list2)\n",
    "print(out_struct_1)\n",
    "print(out_struct_simple)\n",
    "print(out_struct_corrected)"
   ]
  },
  {
   "cell_type": "code",
   "execution_count": 70,
   "metadata": {},
   "outputs": [
    {
     "name": "stdout",
     "output_type": "stream",
     "text": [
      "{1}\n",
      "{}\n",
      "{}\n"
     ]
    }
   ],
   "source": [
    "out_struct_1, out_struct_simple, out_struct_corrected = list_manipulation(\n",
    "    list1=[], list2=[1]\n",
    ")\n",
    "print(out_struct_1)\n",
    "print(out_struct_simple)\n",
    "print(out_struct_corrected)"
   ]
  },
  {
   "cell_type": "code",
   "execution_count": 71,
   "metadata": {},
   "outputs": [
    {
     "name": "stdout",
     "output_type": "stream",
     "text": [
      "{1, 2}\n",
      "{}\n",
      "{}\n"
     ]
    }
   ],
   "source": [
    "out_struct_1, out_struct_simple, out_struct_corrected = list_manipulation(\n",
    "    list1=[2, 1], list2=[1]\n",
    ")\n",
    "print(out_struct_1)\n",
    "print(out_struct_simple)\n",
    "print(out_struct_corrected)"
   ]
  },
  {
   "cell_type": "code",
   "execution_count": 72,
   "metadata": {},
   "outputs": [
    {
     "name": "stdout",
     "output_type": "stream",
     "text": [
      "{1, 2, 3}\n",
      "{2: 1, 1: 3}\n",
      "{(2, 0): 1, (1, 1): 3}\n"
     ]
    }
   ],
   "source": [
    "out_struct_1, out_struct_simple, out_struct_corrected = list_manipulation(\n",
    "    list1=[2, 1], list2=[1, 3]\n",
    ")\n",
    "print(out_struct_1)\n",
    "print(out_struct_simple)\n",
    "print(out_struct_corrected)"
   ]
  },
  {
   "cell_type": "code",
   "execution_count": null,
   "metadata": {},
   "outputs": [],
   "source": []
  }
 ],
 "metadata": {
  "kernelspec": {
   "display_name": "Python 3",
   "language": "python",
   "name": "python3"
  },
  "language_info": {
   "codemirror_mode": {
    "name": "ipython",
    "version": 3
   },
   "file_extension": ".py",
   "mimetype": "text/x-python",
   "name": "python",
   "nbconvert_exporter": "python",
   "pygments_lexer": "ipython3",
   "version": "3.12.6"
  }
 },
 "nbformat": 4,
 "nbformat_minor": 2
}
