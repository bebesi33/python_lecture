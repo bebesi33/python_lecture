{
 "cells": [
  {
   "cell_type": "markdown",
   "id": "94f030c3",
   "metadata": {},
   "source": [
    "### A note on getters and setter"
   ]
  },
  {
   "cell_type": "markdown",
   "id": "d6a9466a",
   "metadata": {},
   "source": [
    "#### Lets redefine the Animal class"
   ]
  },
  {
   "cell_type": "code",
   "execution_count": null,
   "id": "b1145626",
   "metadata": {},
   "outputs": [],
   "source": [
    "from enum import Enum\n",
    "\n",
    "\n",
    "# Let's define some Enums first to represent Cat Colors\n",
    "class CatColor(Enum):\n",
    "    BLACK = \"blaack\"\n",
    "    WHITE = \"white\"\n",
    "    GRAY = \"grey\"\n",
    "    ORANGE = \"orange\"\n",
    "    BROWN = \"Brown\"\n",
    "    SPOTTED = \"spotted\"\n",
    "    TABBY = \"tabby\"\n",
    "\n",
    "\n",
    "class Sex(Enum):\n",
    "    MALE = \"male\"\n",
    "    FEMALE = \"female\""
   ]
  },
  {
   "cell_type": "code",
   "execution_count": null,
   "id": "a9f321a6",
   "metadata": {},
   "outputs": [],
   "source": [
    "class Animal:\n",
    "    def __init__(self, name: str, species: str, sex: Sex = None):\n",
    "        \"\"\"\n",
    "        Lets define a constructor for the Animal class\n",
    "        This can be used to instatiate an object of the class...\n",
    "\n",
    "        Args:\n",
    "            name (str): Az állat neve\n",
    "            species (str): Az állat típusa\n",
    "            sex (Sex): Az állat neme\n",
    "        \"\"\"\n",
    "        self._name = name\n",
    "        self._species = species\n",
    "        self._sex = sex\n",
    "        print(f\"Animal constructor call: {self._name}\")\n",
    "\n",
    "    # Getter and setter for name\n",
    "    @property\n",
    "    def name(self):\n",
    "        return self._name\n",
    "\n",
    "    @name.setter\n",
    "    def name(self, value: str):\n",
    "        if not value:\n",
    "            raise ValueError(\"Name cannot be empty.\")\n",
    "        self._name = value\n",
    "\n",
    "    # Getter and setter for species\n",
    "    @property\n",
    "    def species(self):\n",
    "        return self._species\n",
    "\n",
    "    @species.setter\n",
    "    def species(self, value: str):\n",
    "        if not value:\n",
    "            raise ValueError(\"Species cannot be empty.\")\n",
    "        self._species = value\n",
    "\n",
    "    # Getter and setter for sex\n",
    "    @property\n",
    "    def sex(self):\n",
    "        return self._sex\n",
    "\n",
    "    @sex.setter\n",
    "    def sex(self, value: Sex):\n",
    "        if value is not None and not isinstance(value, Sex):\n",
    "            raise ValueError(\"Sex must be a Sex enum or None.\")\n",
    "        self._sex = value\n",
    "\n",
    "    def __str__(self):\n",
    "        \"\"\"magic method or dunder method\"\"\"\n",
    "        return f\"Name: {self.name} & Type: {self.species}\"\n",
    "\n",
    "    def makes_a_sound(self):\n",
    "        print(f\"{self.name} is making a sound typical of its species...\")"
   ]
  },
  {
   "cell_type": "markdown",
   "id": "f17de1f5",
   "metadata": {},
   "source": [
    "Using property-based getters and setters has some advantage on the original solution:\n",
    "\n",
    "  - Encapsulation & Data Protection: Properties allow you to control how attributes are accessed and modified. Validation can be added...\n",
    "\n",
    "  - Future changes: \n",
    "The code may need changes later, using this constructs the interior of the class logic can be easily and freely modified. Breaking existing code is not an issue here, the class interface can be also kept unchanged.\n",
    "\n",
    "\n",
    "\n",
    "  - Readability & Consistency: The syntax is kept simple (animal.name instead of animal.get_name()), but still gets the benefits of method calls.\n",
    "\n",
    "  - Debugging & Logging: Logging can be added to these methods, to track where the values are accessed or changed.\n",
    "\n",
    "  - Compatibility with Existing Code: Properties allow the dev to start with public attributes and later add logic without changing how the attribute is accessed from outside the class."
   ]
  },
  {
   "cell_type": "markdown",
   "id": "736c67bd",
   "metadata": {},
   "source": [
    "### Class level attributes / methods?"
   ]
  },
  {
   "cell_type": "code",
   "execution_count": null,
   "id": "78eb56ce",
   "metadata": {},
   "outputs": [
    {
     "name": "stdout",
     "output_type": "stream",
     "text": [
      "Generic Animal\n",
      "Cat\n"
     ]
    }
   ],
   "source": [
    "class Animal:\n",
    "    def __init__(self, name):\n",
    "        self._name = name\n",
    "        self._species = \"Generic Animal\"\n",
    "\n",
    "\n",
    "class Cat(Animal):\n",
    "    _species = \"Cat\"\n",
    "\n",
    "\n",
    "c = Cat(\"Lujzi\")\n",
    "print(\n",
    "    c._species\n",
    ")  # Output: \"Generic Animal\" (instance-level wins even if its in the parent)\n",
    "print(\n",
    "    Cat._species\n",
    ")  # Output: \"Cat\" (class-level attribute is presented if called on class level)\n",
    "# What happened here?\n",
    "# Did we mess up attribute resolution?"
   ]
  },
  {
   "cell_type": "code",
   "execution_count": null,
   "id": "15829892",
   "metadata": {},
   "outputs": [],
   "source": [
    "## an alternative design choice for the Animal/Cat class\n",
    "\n",
    "\n",
    "class Animal:\n",
    "    species = \"Generic Animal\"  # Class attribute\n",
    "    # We no longer allow new animal to be created with different species values\n",
    "    # this is a shared attribute for all instances of Animal and its subclasses\n",
    "\n",
    "    def __init__(self, name):\n",
    "        self._name = name  # Instance attribute\n",
    "\n",
    "    @classmethod  # yes, this is a class method\n",
    "    def change_species(cls, new_species):\n",
    "        \"\"\"\n",
    "        This method allows controlled manipulation of the class-level attribute.\n",
    "        The cls is used instead of self to highlight that this method operates on the class itself\n",
    "        \"\"\"\n",
    "        cls.species = new_species"
   ]
  },
  {
   "cell_type": "code",
   "execution_count": null,
   "id": "11aeaacb",
   "metadata": {},
   "outputs": [
    {
     "name": "stdout",
     "output_type": "stream",
     "text": [
      "\n",
      "Initial species for Mickey: Generic Animal\n",
      "Initial species for Birdy: Generic Animal\n",
      "\n",
      "After changing species:\n",
      "Species for Mickey: Mouse\n",
      "Species for Birdy: Mouse\n"
     ]
    }
   ],
   "source": [
    "# Instantiate two animals\n",
    "mouse = Animal(\"Mickey\")\n",
    "birdy = Animal(\"Birdy\")\n",
    "\n",
    "# Show initial species\n",
    "print(f\"\\nInitial species for {mouse._name}: {mouse.species}\")\n",
    "print(f\"Initial species for {birdy._name}: {birdy.species}\")\n",
    "\n",
    "# Change species using class method\n",
    "Animal.change_species(\"Mouse\")\n",
    "\n",
    "# Show updated species\n",
    "print(f\"\\nAfter changing species:\")\n",
    "print(f\"Species for {mouse._name}: {mouse.species}\")\n",
    "print(f\"Species for {birdy._name}: {birdy.species}\")"
   ]
  },
  {
   "cell_type": "markdown",
   "id": "6e482040",
   "metadata": {},
   "source": [
    "### Static methods"
   ]
  },
  {
   "cell_type": "code",
   "execution_count": 21,
   "id": "87a9f371",
   "metadata": {},
   "outputs": [],
   "source": [
    "# Static method example to explain utility functions\n",
    "\n",
    "class Animal:\n",
    "    species = \"Generic Animal\"  # Class attribute\n",
    "    # We no longer allow new animal to be created with different species values\n",
    "    # this is a shared attribute for all instances of Animal and its subclasses\n",
    "\n",
    "    def __init__(self, name):\n",
    "        self._name = name  # Instance attribute\n",
    "\n",
    "    @staticmethod\n",
    "    def is_valid_name(name: str) -> bool:\n",
    "        return name.isalpha() and len(name) > 2"
   ]
  },
  {
   "cell_type": "markdown",
   "id": "bac56d43",
   "metadata": {},
   "source": [
    "A static method have the following features:\n",
    "- Belongs to the class (not the instance).\n",
    "- Does not take self or cls as its first argument.\n",
    "- Is used for functionality that’s related to the class, but doesn’t access or modify class or instance level attributes.\n",
    "\n",
    "\n",
    "<br> Note that the above example take the \"name\" input argurment, but does not look into the classes internal state\n"
   ]
  },
  {
   "cell_type": "code",
   "execution_count": null,
   "id": "895c6c4d",
   "metadata": {},
   "outputs": [
    {
     "name": "stdout",
     "output_type": "stream",
     "text": [
      "True\n",
      "False\n"
     ]
    }
   ],
   "source": [
    "print(Animal.is_valid_name(\"Mici\"))  # True\n",
    "print(Animal.is_valid_name(\"123\"))  # False"
   ]
  }
 ],
 "metadata": {
  "kernelspec": {
   "display_name": "Python 3",
   "language": "python",
   "name": "python3"
  },
  "language_info": {
   "codemirror_mode": {
    "name": "ipython",
    "version": 3
   },
   "file_extension": ".py",
   "mimetype": "text/x-python",
   "name": "python",
   "nbconvert_exporter": "python",
   "pygments_lexer": "ipython3",
   "version": "3.13.3"
  }
 },
 "nbformat": 4,
 "nbformat_minor": 5
}
