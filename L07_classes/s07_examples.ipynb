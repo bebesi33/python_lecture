{
 "cells": [
  {
   "cell_type": "code",
   "execution_count": null,
   "metadata": {},
   "outputs": [],
   "source": [
    "# 1) Készítsen London osztályt, amelyben van osztály attribútum, a GPS koordinátája a városnak\n",
    "# (Szélességi fok: 51.509865, Hosszúsági fok: -0.118092) és a főbb általunk látott látványosságok nevei,\n",
    "# amely lista a példányhoz tartozik. Készítsünk __init__ konstruktort *args paraméterrel.\n",
    "# Legyen __str__ dunder függvény, amely szövegként adja vissza a látványosságokat!\n",
    "# Legyen property is létrehozva az adattaghoz. Próbáljuk is ki a funkcionalitásokat!\n",
    "# Hozzuk létre Jancsi és Juliska példányt különböző adatokkal."
   ]
  },
  {
   "cell_type": "code",
   "execution_count": 10,
   "metadata": {},
   "outputs": [],
   "source": [
    "class London:\n",
    "    szelesseg = 51.509\n",
    "    hosszusag = -0.118\n",
    "    __fff = \"private\"\n",
    "\n",
    "    def __init__(self, *args):\n",
    "        self.sights = list(args)\n",
    "\n",
    "    def advanced_print(self):\n",
    "        for sight in self.sights:\n",
    "            print(sight)\n",
    "\n",
    "    def __str__(self):\n",
    "        return \"|\".join(self.sights)"
   ]
  },
  {
   "cell_type": "code",
   "execution_count": 11,
   "metadata": {},
   "outputs": [
    {
     "ename": "AttributeError",
     "evalue": "type object 'London' has no attribute '__fff'",
     "output_type": "error",
     "traceback": [
      "\u001b[1;31m---------------------------------------------------------------------------\u001b[0m",
      "\u001b[1;31mAttributeError\u001b[0m                            Traceback (most recent call last)",
      "Cell \u001b[1;32mIn[11], line 1\u001b[0m\n\u001b[1;32m----> 1\u001b[0m \u001b[43mLondon\u001b[49m\u001b[38;5;241;43m.\u001b[39;49m\u001b[43m__fff\u001b[49m\n",
      "\u001b[1;31mAttributeError\u001b[0m: type object 'London' has no attribute '__fff'"
     ]
    }
   ],
   "source": [
    "London.__fff"
   ]
  },
  {
   "cell_type": "code",
   "execution_count": 7,
   "metadata": {},
   "outputs": [],
   "source": [
    "laci = London(\"Tower bridge\", \"Big Ben\", \"Canary Warf\")"
   ]
  },
  {
   "cell_type": "code",
   "execution_count": 13,
   "metadata": {},
   "outputs": [
    {
     "ename": "AttributeError",
     "evalue": "'London' object has no attribute '__fff'",
     "output_type": "error",
     "traceback": [
      "\u001b[1;31m---------------------------------------------------------------------------\u001b[0m",
      "\u001b[1;31mAttributeError\u001b[0m                            Traceback (most recent call last)",
      "Cell \u001b[1;32mIn[13], line 1\u001b[0m\n\u001b[1;32m----> 1\u001b[0m \u001b[43mlaci\u001b[49m\u001b[38;5;241;43m.\u001b[39;49m\u001b[43m__fff\u001b[49m\n",
      "\u001b[1;31mAttributeError\u001b[0m: 'London' object has no attribute '__fff'"
     ]
    }
   ],
   "source": [
    "laci.__fff"
   ]
  },
  {
   "cell_type": "code",
   "execution_count": 16,
   "metadata": {},
   "outputs": [
    {
     "ename": "AttributeError",
     "evalue": "'London' object has no attribute '_London__fff'",
     "output_type": "error",
     "traceback": [
      "\u001b[1;31m---------------------------------------------------------------------------\u001b[0m",
      "\u001b[1;31mAttributeError\u001b[0m                            Traceback (most recent call last)",
      "Cell \u001b[1;32mIn[16], line 1\u001b[0m\n\u001b[1;32m----> 1\u001b[0m \u001b[43mlaci\u001b[49m\u001b[38;5;241;43m.\u001b[39;49m\u001b[43m_London__fff\u001b[49m\n",
      "\u001b[1;31mAttributeError\u001b[0m: 'London' object has no attribute '_London__fff'"
     ]
    }
   ],
   "source": [
    "laci._London__fff"
   ]
  },
  {
   "cell_type": "code",
   "execution_count": 8,
   "metadata": {},
   "outputs": [
    {
     "data": {
      "text/plain": [
       "'Tower bridge|Big Ben|Canary Warf'"
      ]
     },
     "execution_count": 8,
     "metadata": {},
     "output_type": "execute_result"
    }
   ],
   "source": [
    "str(laci)"
   ]
  },
  {
   "cell_type": "code",
   "execution_count": 9,
   "metadata": {},
   "outputs": [
    {
     "name": "stdout",
     "output_type": "stream",
     "text": [
      "Tower bridge|Big Ben|Canary Warf\n"
     ]
    }
   ],
   "source": [
    "print(laci)"
   ]
  },
  {
   "cell_type": "code",
   "execution_count": null,
   "metadata": {},
   "outputs": [],
   "source": []
  }
 ],
 "metadata": {
  "kernelspec": {
   "display_name": "Python 3",
   "language": "python",
   "name": "python3"
  },
  "language_info": {
   "codemirror_mode": {
    "name": "ipython",
    "version": 3
   },
   "file_extension": ".py",
   "mimetype": "text/x-python",
   "name": "python",
   "nbconvert_exporter": "python",
   "pygments_lexer": "ipython3",
   "version": "3.12.6"
  }
 },
 "nbformat": 4,
 "nbformat_minor": 2
}
