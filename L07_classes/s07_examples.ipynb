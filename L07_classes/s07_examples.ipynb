{
 "cells": [
  {
   "cell_type": "code",
   "execution_count": null,
   "metadata": {},
   "outputs": [],
   "source": [
    "# 1) Készítsen London osztályt, amelyben van osztály attribútum, a GPS koordinátája a városnak \n",
    "# (Szélességi fok: 51.509865, Hosszúsági fok: -0.118092) és a főbb általunk látott látványosságok nevei, \n",
    "# amely lista a példányhoz tartozik. Készítsünk __init__ konstruktort *args paraméterrel. \n",
    "# Legyen __str__ dunder függvény, amely szövegként adja vissza a látványosságokat! \n",
    "# Legyen property is létrehozva az adattaghoz. Próbáljuk is ki a funkcionalitásokat! \n",
    "# Hozzuk létre Jancsi és Juliska példányt különböző adatokkal."
   ]
  },
  {
   "cell_type": "code",
   "execution_count": null,
   "metadata": {},
   "outputs": [],
   "source": []
  }
 ],
 "metadata": {
  "language_info": {
   "name": "python"
  }
 },
 "nbformat": 4,
 "nbformat_minor": 2
}
