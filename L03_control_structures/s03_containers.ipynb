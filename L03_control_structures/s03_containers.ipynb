{
 "cells": [
  {
   "cell_type": "markdown",
   "metadata": {},
   "source": [
    "### Összetett adattípusok"
   ]
  },
  {
   "cell_type": "markdown",
   "metadata": {},
   "source": [
    "Több módon is csoportosíthatók:\n",
    "\n",
    "<p> Mutable (módosítható) / Immutable (nem módosítható) dimenzió, Ordered (rendezett), Key container (van kulcsa) </p>\n",
    "<ul>\n",
    "<li><b>Python List</b>: Egy olyan szerkezet ami elemeket tárol sorrendben. Az elemek nem feltétlen azonos típusúak...\n",
    "<br>Módosítható, Rendezett, nincs kulcs...</li>\n",
    "<br><li><b>Python Tuple</b>: Egy olyan nem változtatható szerkezet ami elemeket tárol sorrendben. Az elemek nem feltétlen azonos típusúak...\n",
    "<br>Nem Módosítható, Ordered, nincs kulcs...</li>\n",
    "<br><li><b>Python Set</b>: A halmaz nem rendezett, egyedülálló, nem ismétlődő elemeket tartalmaz...\n",
    "<br> Mutable, Not Ordered, No keys</li>\n",
    "<br><li><b>Python Dictionary</b>: A dictionary kulcs értékpárokhoz tartozó elemeket tartalmaz...\n",
    "<br> Mutable, Ordered, Yes it has keys :)</li>\n",
    "</ul>"
   ]
  },
  {
   "cell_type": "code",
   "execution_count": null,
   "metadata": {},
   "outputs": [],
   "source": []
  },
  {
   "cell_type": "markdown",
   "metadata": {},
   "source": [
    "### Feladatok"
   ]
  },
  {
   "cell_type": "code",
   "execution_count": 4,
   "metadata": {},
   "outputs": [
    {
     "data": {
      "text/plain": [
       "[('I', 1), ('love', 2), ('Python', 3), ('!', 4)]"
      ]
     },
     "execution_count": 4,
     "metadata": {},
     "output_type": "execute_result"
    }
   ],
   "source": [
    "### Rendezzük az alábbi kulcs érték párokat egy dictionary-be!\n",
    "#  a dictionary legyen dict[str, int], alakú\n",
    "keys = [\"I\", \"love\", \"Python\", \"!\"]  # dict[str]\n",
    "values = [1, 2, 3, 4]  # dict[int]\n",
    "\n",
    "# Mi az a zip ?\n",
    "# legyen most az output list[tuple[str, int]] alakú..."
   ]
  },
  {
   "cell_type": "markdown",
   "metadata": {},
   "source": [
    "# Python 3.10+ only\n",
    "def switch_example(value):\n",
    "    match value:\n",
    "        case 1:\n",
    "            print(\"Option 1\")\n",
    "        case 2:\n",
    "            print(\"Option 2\")\n",
    "        case 3:\n",
    "            print(\"Option 3\")\n",
    "        case _:\n",
    "            print(\"Default case\")\n",
    "\n",
    "switch_example(2)  # Output: Option 2\n"
   ]
  }
 ],
 "metadata": {
  "kernelspec": {
   "display_name": "Python 3",
   "language": "python",
   "name": "python3"
  },
  "language_info": {
   "codemirror_mode": {
    "name": "ipython",
    "version": 3
   },
   "file_extension": ".py",
   "mimetype": "text/x-python",
   "name": "python",
   "nbconvert_exporter": "python",
   "pygments_lexer": "ipython3",
   "version": "3.12.6"
  }
 },
 "nbformat": 4,
 "nbformat_minor": 2
}
