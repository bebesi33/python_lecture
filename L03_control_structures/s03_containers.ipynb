{
 "cells": [
  {
   "cell_type": "markdown",
   "metadata": {},
   "source": [
    "### Összetett adattípusok"
   ]
  },
  {
   "cell_type": "markdown",
   "metadata": {},
   "source": [
    "Több módon is csoportosíthatók:\n",
    "\n",
    "<p> Mutable (módosítható) / Immutable (nem módosítható) dimenzió, Ordered (rendezett), Key container (van kulcsa) </p>\n",
    "<ul>\n",
    "<li><b>Python List</b>: Egy olyan szerkezet ami elemeket tárol sorrendben. Az elemek nem feltétlen azonos típusúak...\n",
    "<br>Módosítható, Rendezett, nincs kulcs de indexelhető...</li>\n",
    "<br><li><b>Python Tuple</b>: Egy olyan nem változtatható szerkezet ami elemeket tárol sorrendben. Az elemek nem feltétlen azonos típusúak...\n",
    "<br>Nem Módosítható, Ordered, nincs kulcs de indexelhető...</li>\n",
    "<br><li><b>Python Set</b>: A halmaz nem rendezett, egyedülálló, nem ismétlődő elemeket tartalmaz...\n",
    "<br> Mutable, Not Ordered, No keys\n",
    "<br> frozenset!!?? -> a nem módosítható változat\n",
    "</li>\n",
    "<br><li><b>Python Dictionary</b>: A dictionary kulcs értékpárokhoz tartozó elemeket tartalmaz...\n",
    "<br> Mutable, Ordered, Yes it has keys :)</li>\n",
    "</ul>\n",
    "\n",
    "<br> Mi az előny a tuple-nek a list-el szemben, valamint a frozenset-nek a set-el szemben, miközben sokkal kevesebb lehetőséget adnak a módosíthatóság hiánya miatt?\n",
    "\n",
    "<br> -> Sokkal kevesebb memóriát használ a tuple és a frozentset a módosítható verziójukhoz képest. A set és a list tart extra memóriát a későbbi újraallokálás és hozzáadások kezelésére."
   ]
  },
  {
   "cell_type": "code",
   "execution_count": 1,
   "metadata": {},
   "outputs": [
    {
     "name": "stdout",
     "output_type": "stream",
     "text": [
      "['mango', 'banana']\n"
     ]
    }
   ],
   "source": [
    "### List...\n",
    "# definition\n",
    "fruits = [\"apple\", \"mango\", \"banana\"]\n",
    "empty_list = []  # preffered\n",
    "epmty_list = list()\n",
    "\n",
    "# comprehension\n",
    "selected_fruits = [fruit for fruit in fruits if fruit.find(\"n\") > -1]\n",
    "print(selected_fruits)\n",
    "\n",
    "# Nézzük meg a [], .remove és az .append műveleteket!"
   ]
  },
  {
   "cell_type": "code",
   "execution_count": 2,
   "metadata": {},
   "outputs": [
    {
     "name": "stdout",
     "output_type": "stream",
     "text": [
      "['MANGO', 'BANANA']\n"
     ]
    }
   ],
   "source": [
    "selected_fruits = [fruit.upper() for fruit in fruits if fruit.find(\"n\") > -1]\n",
    "print(selected_fruits)"
   ]
  },
  {
   "cell_type": "code",
   "execution_count": 3,
   "metadata": {},
   "outputs": [
    {
     "name": "stdout",
     "output_type": "stream",
     "text": [
      "'tuple' object does not support item assignment: -> Valóban nincs tuple-re értékadás\n"
     ]
    }
   ],
   "source": [
    "### Tuple\n",
    "empty_tuple = ()\n",
    "empty_tuple = tuple()\n",
    "\n",
    "# tuple-re nincs comprehensions ellenben generátorokat lehet használni a tuple constructorban...\n",
    "# a range az valóban egy generátor, erről majd később...\n",
    "\n",
    "example_tuple = tuple(x * 2 for x in range(0, 5))\n",
    "try:\n",
    "    example_tuple[0] = 4\n",
    "except TypeError as e:\n",
    "    print(f\"{e}: -> Valóban nincs tuple-re értékadás\")"
   ]
  },
  {
   "cell_type": "code",
   "execution_count": null,
   "metadata": {},
   "outputs": [
    {
     "name": "stdout",
     "output_type": "stream",
     "text": [
      "{'Mojo'}\n",
      "Union :{'Duna', 'Kerbin', 'Mojo', 'Eve', 'Jool', 'Dres', 'Eeloo'}\n",
      "Intersection :{'Jool'}\n",
      "Negation :{'Eeloo', 'Dres'}\n"
     ]
    }
   ],
   "source": [
    "### Set\n",
    "planets = {\"Mojo\", \"Eve\", \"Kerbin\", \"Duna\", \"Jool\"}\n",
    "\n",
    "# comprehension\n",
    "\n",
    "selected_planets = {planet for planet in planets if planet.startswith(\"M\")}\n",
    "print(selected_planets)\n",
    "\n",
    "outer_planets = {\"Dres\", \"Jool\", \"Eeloo\"}\n",
    "\n",
    "# some operations\n",
    "print(\"Union :\" + str(outer_planets.union(planets)))\n",
    "print(\"Intersection :\" + str(outer_planets.intersection(planets)))\n",
    "print(\"Negation :\" + str(outer_planets - planets))"
   ]
  },
  {
   "cell_type": "code",
   "execution_count": 9,
   "metadata": {},
   "outputs": [
    {
     "ename": "TypeError",
     "evalue": "unsupported operand type(s) for +: 'set' and 'set'",
     "output_type": "error",
     "traceback": [
      "\u001b[1;31m---------------------------------------------------------------------------\u001b[0m",
      "\u001b[1;31mTypeError\u001b[0m                                 Traceback (most recent call last)",
      "Cell \u001b[1;32mIn[9], line 1\u001b[0m\n\u001b[1;32m----> 1\u001b[0m \u001b[38;5;28mprint\u001b[39m(\u001b[38;5;124m\"\u001b[39m\u001b[38;5;124mAddition :\u001b[39m\u001b[38;5;124m\"\u001b[39m \u001b[38;5;241m+\u001b[39m \u001b[38;5;28mstr\u001b[39m(\u001b[43mouter_planets\u001b[49m\u001b[43m \u001b[49m\u001b[38;5;241;43m+\u001b[39;49m\u001b[43m \u001b[49m\u001b[43mplanets\u001b[49m))\n\u001b[0;32m      2\u001b[0m \u001b[38;5;66;03m# csak kivonás van, összeadás nincs (használjunk uniót)\u001b[39;00m\n",
      "\u001b[1;31mTypeError\u001b[0m: unsupported operand type(s) for +: 'set' and 'set'"
     ]
    }
   ],
   "source": [
    "print(\"Addition :\" + str(outer_planets + planets))\n",
    "# csak kivonás van, összeadás nincs (használjunk uniót)"
   ]
  },
  {
   "cell_type": "code",
   "execution_count": 7,
   "metadata": {},
   "outputs": [
    {
     "name": "stdout",
     "output_type": "stream",
     "text": [
      "<class 'set'>\n",
      "<class 'list'>\n"
     ]
    }
   ],
   "source": [
    "selected_planets = {planet for planet in planets if planet.startswith(\"M\")}\n",
    "print(type(selected_planets))\n",
    "selected_planets = [planet for planet in planets if planet.startswith(\"M\")]\n",
    "print(type(selected_planets))"
   ]
  },
  {
   "cell_type": "code",
   "execution_count": null,
   "metadata": {},
   "outputs": [
    {
     "name": "stdout",
     "output_type": "stream",
     "text": [
      "{'Kerbin': 600, 'Eve': 700, 'Jool': 6000}\n"
     ]
    }
   ],
   "source": [
    "### Dict\n",
    "kerbal_planets = {\"Kerbin\": 600, \"Duna\": 320, \"Eve\": 700, \"Jool\": 6000, \"Laythe\": 500}\n",
    "\n",
    "# Creating a dictionary with planet names as keys and their diameters as values\n",
    "planet_diameters = {\n",
    "    planet: diameter for planet, diameter in kerbal_planets.items() if diameter > 550\n",
    "}\n",
    "print(planet_diameters)\n",
    "\n",
    "## Check the [] operation..."
   ]
  },
  {
   "cell_type": "markdown",
   "metadata": {},
   "source": [
    "### Feladatok (block 1)"
   ]
  },
  {
   "cell_type": "code",
   "execution_count": null,
   "metadata": {},
   "outputs": [],
   "source": [
    "### F.1 Rendezzük az alábbi kulcs érték párokat egy dictionary-be!\n",
    "#  a dictionary legyen dict[str, int], alakú\n",
    "keys = [\"I\", \"love\", \"Python\", \"!\"]  # list[str]\n",
    "values = [1, 2, 3, 4]  # list[int]\n",
    "\n",
    "# Mi az a zip ?\n",
    "# legyen most az output list[tuple[str, int]] alakú..."
   ]
  },
  {
   "cell_type": "code",
   "execution_count": 6,
   "metadata": {},
   "outputs": [],
   "source": [
    "### F.2 Ellenőrizzük a tuple/list, frozenset/set memória használatát...\n",
    "### Valóban kevesebba az immutable verziók memória haználata?"
   ]
  },
  {
   "cell_type": "markdown",
   "metadata": {},
   "source": [
    "### Feladatok (block 2)"
   ]
  },
  {
   "cell_type": "code",
   "execution_count": null,
   "metadata": {},
   "outputs": [],
   "source": [
    "# •\tKészítsen programot, amelyik egy szavakból álló listánál azokat a szavakat adja vissza, amelyeknek a hossza éppen 5!  A szavakat egy sorban kapjuk, szóközzel elválasztva!\n",
    "# o\tAdjuk meg, hogy hányadik szó a “fagyi”, ha köztük van! (index())\n",
    "# o\tA megoldását módosítsa úgy, hogy használja a list comprehension szintaxist!"
   ]
  },
  {
   "cell_type": "code",
   "execution_count": null,
   "metadata": {},
   "outputs": [],
   "source": [
    "# •\tKészítsen programot, amelyik egyetlen sorban vár egész számokat (egymástól vesszővel elválasztva) és az egészeknek megfelelően létrehoz egy-egy szót, amelyikben a * karaktert ismétlődik a számszor! Írja ki ezeket!\n",
    "# o\tMódosítsa a megoldását úgy, hogy függvényt használ a beolvasáshoz és a generáláshoz is!"
   ]
  },
  {
   "cell_type": "code",
   "execution_count": null,
   "metadata": {},
   "outputs": [],
   "source": [
    "# •\tKészítsen programot, amelyik az 1 és 100 közé eső számok közül kiválasztja azokat, amelyek hárommal nem oszthatóak és nem tartalmazzák a 3-as számjegyet!\n",
    "# o\tAdja össze az eredményül kapott számokat! (sum())\n",
    "# o\tAdjuk meg a legnagyobbat! (max())\n",
    "# o\tHasználjon list comprehension megoldást!\n",
    "# o\tMódosítsa úgy, hogy a 3-as számjegyet vagy 3-mal osztható számok helyett a bumm szót írja ki!"
   ]
  },
  {
   "cell_type": "code",
   "execution_count": null,
   "metadata": {},
   "outputs": [],
   "source": [
    "# •\tKészítsen programot, amelyik beolvas N darab szót, listában tárolja ezeket és rendre kiírja a hosszukat!\n",
    "# o\tA megoldását módosítsa úgy, hogy használja a list comprehension szintaxist!\n",
    "# o\tA megoldását módosítsa úgy, hogy hozzon létre egy szóból és hosszból álló tuple listát!\n",
    "# o\tA megoldását módosítsa úgy, hogy a beolvasáshoz és a feldolgozáshoz is használjon függvényeket"
   ]
  }
 ],
 "metadata": {
  "kernelspec": {
   "display_name": "Python 3",
   "language": "python",
   "name": "python3"
  },
  "language_info": {
   "codemirror_mode": {
    "name": "ipython",
    "version": 3
   },
   "file_extension": ".py",
   "mimetype": "text/x-python",
   "name": "python",
   "nbconvert_exporter": "python",
   "pygments_lexer": "ipython3",
   "version": "3.12.6"
  }
 },
 "nbformat": 4,
 "nbformat_minor": 2
}
