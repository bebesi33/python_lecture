{
 "cells": [
  {
   "cell_type": "markdown",
   "metadata": {},
   "source": [
    "### Vezérlési szerkezetek"
   ]
  },
  {
   "cell_type": "code",
   "execution_count": 1,
   "metadata": {},
   "outputs": [
    {
     "name": "stdout",
     "output_type": "stream",
     "text": [
      "x pozitív\n"
     ]
    }
   ],
   "source": [
    "# if statement\n",
    "x = 10\n",
    "if x > 0:\n",
    "    print(\"x pozitív\")\n",
    "elif x < 0:\n",
    "    print(\"x negatív\")\n",
    "else:\n",
    "    print(\"x  zéró\")"
   ]
  },
  {
   "cell_type": "code",
   "execution_count": 2,
   "metadata": {},
   "outputs": [
    {
     "name": "stdout",
     "output_type": "stream",
     "text": [
      "0\n",
      "1\n",
      "2\n",
      "3\n",
      "4\n",
      "5\n"
     ]
    }
   ],
   "source": [
    "# for loop\n",
    "numbers = list(range(0, 6))  # a listába helyezés teljesen felesleges itt\n",
    "\n",
    "for num in numbers:\n",
    "    print(num)"
   ]
  },
  {
   "cell_type": "code",
   "execution_count": 3,
   "metadata": {},
   "outputs": [
    {
     "name": "stdout",
     "output_type": "stream",
     "text": [
      "break használat : 1\n",
      "break használat : 2\n",
      "break használat : 3\n",
      "continue használat : 1\n",
      "continue használat : 2\n",
      "continue használat : 4\n",
      "continue használat : 5\n"
     ]
    }
   ],
   "source": [
    "# break használata...\n",
    "for i in range(1, 6):\n",
    "    if i == 4:\n",
    "        break\n",
    "    print(f\"break használat : {i}\")\n",
    "\n",
    "# continue használata\n",
    "for i in range(1, 6):\n",
    "    if i == 3:\n",
    "        continue\n",
    "    print(f\"continue használat : {i}\")"
   ]
  },
  {
   "cell_type": "code",
   "execution_count": 4,
   "metadata": {},
   "outputs": [
    {
     "name": "stdout",
     "output_type": "stream",
     "text": [
      "0\n",
      "1\n",
      "2\n",
      "3\n",
      "4\n"
     ]
    }
   ],
   "source": [
    "# while block\n",
    "x = 0\n",
    "\n",
    "while x < 5:\n",
    "    print(x)\n",
    "    x += 1  # Inkrementálás 1-el"
   ]
  },
  {
   "cell_type": "code",
   "execution_count": 5,
   "metadata": {},
   "outputs": [
    {
     "name": "stdout",
     "output_type": "stream",
     "text": [
      "Valami más hiba történt: unsupported operand type(s) for /: 'int' and 'str'\n"
     ]
    }
   ],
   "source": [
    "try:\n",
    "    result = 10 / \"few\"  # 0-val osztály exception-re vezet...\n",
    "except ZeroDivisionError:\n",
    "    print(\"Nem lehet 0-val osztani!\")\n",
    "except Exception as e:  #\n",
    "    print(f\"Valami más hiba történt: {e}\")"
   ]
  },
  {
   "cell_type": "code",
   "execution_count": 6,
   "metadata": {},
   "outputs": [
    {
     "name": "stdout",
     "output_type": "stream",
     "text": [
      "Option 2\n"
     ]
    }
   ],
   "source": [
    "# Python 3.10+ után létezik....\n",
    "def switch_example(value):\n",
    "    match value:\n",
    "        case 1:\n",
    "            print(\"Option 1\")\n",
    "        case 2:\n",
    "            print(\"Option 2\")\n",
    "        case 3:\n",
    "            print(\"Option 3\")\n",
    "        case _:\n",
    "            print(\"Default case\")\n",
    "\n",
    "\n",
    "switch_example(2)"
   ]
  },
  {
   "cell_type": "markdown",
   "metadata": {},
   "source": [
    "### Feladatok"
   ]
  },
  {
   "cell_type": "code",
   "execution_count": null,
   "metadata": {},
   "outputs": [],
   "source": [
    "# •\tKészítsen programot, amelyik beolvas egy szót és meghatározza, hogy ez a szó milyen hosszú!\n",
    "# •\tKészítsen programot, amelyik két szöveget olvas be. Írja ki a hosszabbikat!"
   ]
  },
  {
   "cell_type": "code",
   "execution_count": 11,
   "metadata": {},
   "outputs": [
    {
     "name": "stdout",
     "output_type": "stream",
     "text": [
      "Szoveg 2 gerfgregre\n"
     ]
    }
   ],
   "source": [
    "pelda = \"Szöveg 1\"\n",
    "alternativ_pelda = \"Szoveg 2 gerfgregre\"\n",
    "if len(pelda) <= len(alternativ_pelda):\n",
    "    print(alternativ_pelda)\n",
    "else:\n",
    "    print(pelda)"
   ]
  },
  {
   "cell_type": "code",
   "execution_count": null,
   "metadata": {},
   "outputs": [],
   "source": [
    "# •\tKészítsen programot, amelyik beolvas egy mondatot! Írja ki, hogy kijelentő, felkiáltó vagy kérdő mondat volt-e. (utolsó karakter)\n",
    "# •\tKészítsen programot, amelyik beolvas egy szót és kiírja, hogy az első és utolsó karaktere ugyanaz-e! Ellenőrizzük függvénnyel, hogy tényleg egy szó-e! (Nincs benne szóköz.)\n",
    "# •\tKészítsünk programot, amelyik beolvas egy szót és ritkítva írja ki! pl. fagylalt => f a g y l a l t"
   ]
  },
  {
   "cell_type": "code",
   "execution_count": null,
   "metadata": {},
   "outputs": [
    {
     "name": "stdout",
     "output_type": "stream",
     "text": [
      "M\n",
      "!\n"
     ]
    }
   ],
   "source": [
    "mondat = \"Minden jó!\"\n",
    "\n",
    "print(mondat[-10])  # hátulról számolva a 0. elem lenne a - len() sorszámú elem\n",
    "print(mondat[-1])  # utolsó elem elérése\n",
    "# listára tuple-re is működik ez."
   ]
  },
  {
   "cell_type": "code",
   "execution_count": null,
   "metadata": {},
   "outputs": [
    {
     "name": "stdout",
     "output_type": "stream",
     "text": [
      "M i n d e n   j ó ! \n",
      "M i n d e n   j ó !\n",
      "M i n d e n   j ó !\n",
      "M[SEP]i[SEP]n[SEP]d[SEP]e[SEP]n[SEP] [SEP]j[SEP]ó[SEP]!\n"
     ]
    }
   ],
   "source": [
    "all_together = []\n",
    "for betu in mondat:\n",
    "    all_together.append(betu)\n",
    "    all_together.append(\" \")\n",
    "\n",
    "print(\"\".join(all_together))\n",
    "\n",
    "rossz_str = \"\"\n",
    "for betu in mondat:\n",
    "    rossz_str += f\"{betu} \"\n",
    "print(rossz_str[:-1])\n",
    "\n",
    "print(\" \".join(mondat))  # korrekt megoldás\n",
    "print(\"[SEP]\".join(mondat))  # korrekt megoldás"
   ]
  },
  {
   "cell_type": "code",
   "execution_count": null,
   "metadata": {},
   "outputs": [
    {
     "name": "stdout",
     "output_type": "stream",
     "text": [
      "Van 'e' : True\n",
      "Nincs 'e' : False\n",
      "Van 'e' : True\n",
      "Nincs 'e' : True\n"
     ]
    }
   ],
   "source": [
    "# •\tKészítsen egy programot, amelyik beolvas egy szót és megadja, hogy van-e benne e betű!\n",
    "# •\tKészítsen egy programot, amelyik beolvas egy szót és megadja, hogy hány darab e betű van benne!\n",
    "pelda1 = \"efwew\"\n",
    "pelda2 = \"blvnkbmnb\"\n",
    "\n",
    "\n",
    "def check_for_e(input_str: str) -> bool:\n",
    "    return input_str.find(\"e\") > -1\n",
    "\n",
    "\n",
    "print(f\"\"\"Van 'e' : {check_for_e(pelda1)}\"\"\")\n",
    "print(f\"\"\"Nincs 'e' : {check_for_e(pelda2)}\"\"\")\n",
    "\n",
    "\n",
    "def check_for_e_v2(input_str: str) -> bool:\n",
    "    return \"e\" in set(pelda1)\n",
    "\n",
    "\n",
    "print(f\"\"\"Van 'e' : {check_for_e_v2(pelda1)}\"\"\")\n",
    "print(f\"\"\"Nincs 'e' : {check_for_e_v2(pelda2)}\"\"\")"
   ]
  },
  {
   "cell_type": "code",
   "execution_count": 52,
   "metadata": {},
   "outputs": [
    {
     "name": "stdout",
     "output_type": "stream",
     "text": [
      "{'H': 3, 'A': 3, 'S': 4, 'Z': 5, 'N': 1, 'Á': 2, 'L': 1, 'J': 1, ' ': 5, '4': 1, 'Ó': 1, 'K': 2, 'Ö': 1, 'T': 2, 'B': 2, 'E': 1, 'Ú': 1, 'O': 2, '(': 1, ')': 1}\n"
     ]
    }
   ],
   "source": [
    "pep_rule = \"Használj 4 szóközt a behúzásokhoz (tabs)\"\n",
    "\n",
    "betuk = dict() # {}\n",
    "betuk_lista = list(pep_rule.upper())\n",
    "\n",
    "for betu in betuk_lista:\n",
    "    if betu in betuk.keys():\n",
    "        betuk[betu] +=1\n",
    "    else:\n",
    "        betuk[betu] = 1\n",
    "print(betuk)"
   ]
  },
  {
   "cell_type": "code",
   "execution_count": 54,
   "metadata": {},
   "outputs": [
    {
     "name": "stdout",
     "output_type": "stream",
     "text": [
      "{'HASZNÁLJ': 1, '4': 1, 'SZÓKÖZT': 1, 'A': 1, 'BEHÚZÁSOKHOZ': 1, '(TABS)': 1}\n",
      "HASZNÁLJ 4 SZÓKÖZT A BEHÚZÁSOKHOZ (TABS)\n"
     ]
    }
   ],
   "source": [
    "pep_rule = \"Használj 4 szóközt a behúzásokhoz (tabs)\"\n",
    "\n",
    "betuk = dict() # {}\n",
    "betuk_lista = pep_rule.upper().split(\" \")\n",
    "\n",
    "for betu in betuk_lista:\n",
    "    if betu in betuk.keys():\n",
    "        betuk[betu] +=1\n",
    "    else:\n",
    "        betuk[betu] = 1\n",
    "print(betuk)\n",
    "print(\" \".join(betuk.keys()))"
   ]
  },
  {
   "cell_type": "code",
   "execution_count": null,
   "metadata": {},
   "outputs": [],
   "source": [
    "# •\tKészítsen programot, amelyik beolvas egy pozitív egész számot és a rákövetkezők közül írjon ki 5 darabot,\n",
    "# amelyik nem osztható 3-mal! \n",
    "# (pl. induló érték 5, rákövetkező 5db: 7,8,10,11,13"
   ]
  },
  {
   "cell_type": "code",
   "execution_count": 73,
   "metadata": {},
   "outputs": [
    {
     "name": "stdout",
     "output_type": "stream",
     "text": [
      "7\n",
      "8\n",
      "10\n",
      "11\n",
      "13\n"
     ]
    }
   ],
   "source": [
    "input_int = 5\n",
    "\n",
    "num_of_printed_elements = 0\n",
    "for idx in range(input_int + 1, input_int + 10):\n",
    "    if idx % 3 != 0:\n",
    "        print(idx)\n",
    "        num_of_printed_elements += 1\n",
    "    if num_of_printed_elements > 4:\n",
    "        break"
   ]
  },
  {
   "cell_type": "code",
   "execution_count": 69,
   "metadata": {},
   "outputs": [
    {
     "data": {
      "text/plain": [
       "0"
      ]
     },
     "execution_count": 69,
     "metadata": {},
     "output_type": "execute_result"
    }
   ],
   "source": [
    "12 % 3"
   ]
  },
  {
   "cell_type": "code",
   "execution_count": 66,
   "metadata": {},
   "outputs": [
    {
     "data": {
      "text/plain": [
       "True"
      ]
     },
     "execution_count": 66,
     "metadata": {},
     "output_type": "execute_result"
    }
   ],
   "source": [
    "kk = \"görög\"\n",
    "kk[::-1] == kk"
   ]
  },
  {
   "cell_type": "code",
   "execution_count": null,
   "metadata": {},
   "outputs": [],
   "source": []
  }
 ],
 "metadata": {
  "kernelspec": {
   "display_name": "Python 3",
   "language": "python",
   "name": "python3"
  },
  "language_info": {
   "codemirror_mode": {
    "name": "ipython",
    "version": 3
   },
   "file_extension": ".py",
   "mimetype": "text/x-python",
   "name": "python",
   "nbconvert_exporter": "python",
   "pygments_lexer": "ipython3",
   "version": "3.12.6"
  }
 },
 "nbformat": 4,
 "nbformat_minor": 2
}
