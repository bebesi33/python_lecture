{
 "cells": [
  {
   "cell_type": "markdown",
   "metadata": {},
   "source": [
    "### Vezérlési szerkezetek"
   ]
  },
  {
   "cell_type": "code",
   "execution_count": 1,
   "metadata": {},
   "outputs": [
    {
     "name": "stdout",
     "output_type": "stream",
     "text": [
      "x pozitív\n"
     ]
    }
   ],
   "source": [
    "# if statement\n",
    "x = 10\n",
    "if x > 0:\n",
    "    print(\"x pozitív\")\n",
    "elif x < 0:\n",
    "    print(\"x negatív\")\n",
    "else:\n",
    "    print(\"x  zéró\")"
   ]
  },
  {
   "cell_type": "code",
   "execution_count": 3,
   "metadata": {},
   "outputs": [
    {
     "name": "stdout",
     "output_type": "stream",
     "text": [
      "0\n",
      "1\n",
      "2\n",
      "3\n",
      "4\n",
      "5\n"
     ]
    }
   ],
   "source": [
    "# for loop\n",
    "numbers = list(range(0, 6))  # a listába helyezés teljesen felesleges itt\n",
    "\n",
    "for num in numbers:\n",
    "    print(num)"
   ]
  },
  {
   "cell_type": "code",
   "execution_count": 10,
   "metadata": {},
   "outputs": [
    {
     "name": "stdout",
     "output_type": "stream",
     "text": [
      "break használat : 1\n",
      "break használat : 2\n",
      "break használat : 3\n",
      "continue használat : 1\n",
      "continue használat : 2\n",
      "continue használat : 4\n",
      "continue használat : 5\n"
     ]
    }
   ],
   "source": [
    "# break használata...\n",
    "for i in range(1, 6):\n",
    "    if i == 4:\n",
    "        break\n",
    "    print(f\"break használat : {i}\")\n",
    "\n",
    "# continue használata\n",
    "for i in range(1, 6):\n",
    "    if i == 3:\n",
    "        continue\n",
    "    print(f\"continue használat : {i}\")"
   ]
  },
  {
   "cell_type": "code",
   "execution_count": 4,
   "metadata": {},
   "outputs": [
    {
     "name": "stdout",
     "output_type": "stream",
     "text": [
      "0\n",
      "1\n",
      "2\n",
      "3\n",
      "4\n"
     ]
    }
   ],
   "source": [
    "# while block\n",
    "x = 0\n",
    "\n",
    "while x < 5:\n",
    "    print(x)\n",
    "    x += 1  # Inkrementálás 1-el"
   ]
  },
  {
   "cell_type": "code",
   "execution_count": 8,
   "metadata": {},
   "outputs": [
    {
     "name": "stdout",
     "output_type": "stream",
     "text": [
      "Valami más hiba történt: unsupported operand type(s) for /: 'int' and 'str'\n"
     ]
    }
   ],
   "source": [
    "try:\n",
    "    result = 10 / \"few\"  # 0-val osztály exception-re vezet...\n",
    "except ZeroDivisionError:\n",
    "    print(\"Nem lehet 0-val osztani!\")\n",
    "except Exception as e:  #\n",
    "    print(f\"Valami más hiba történt: {e}\")"
   ]
  },
  {
   "cell_type": "code",
   "execution_count": 12,
   "metadata": {},
   "outputs": [
    {
     "name": "stdout",
     "output_type": "stream",
     "text": [
      "Option 2\n"
     ]
    }
   ],
   "source": [
    "# Python 3.10+ után létezik....\n",
    "def switch_example(value):\n",
    "    match value:\n",
    "        case 1:\n",
    "            print(\"Option 1\")\n",
    "        case 2:\n",
    "            print(\"Option 2\")\n",
    "        case 3:\n",
    "            print(\"Option 3\")\n",
    "        case _:\n",
    "            print(\"Default case\")\n",
    "\n",
    "\n",
    "switch_example(2)"
   ]
  },
  {
   "cell_type": "markdown",
   "metadata": {},
   "source": [
    "### Feladatok"
   ]
  },
  {
   "cell_type": "code",
   "execution_count": null,
   "metadata": {},
   "outputs": [],
   "source": [
    "## Második gyakról...\n",
    "# F.1: Számoljuk ki a gyök kettő értékét...\n",
    "# A hatványra emelést (**) ne használjuk, megengedett műveletek: +,-,/ és * (szorzás)\n",
    "# használhatunk loopokat és elágazást is..."
   ]
  }
 ],
 "metadata": {
  "kernelspec": {
   "display_name": "Python 3 (ipykernel)",
   "language": "python",
   "name": "python3"
  }
 },
 "nbformat": 4,
 "nbformat_minor": 2
}
