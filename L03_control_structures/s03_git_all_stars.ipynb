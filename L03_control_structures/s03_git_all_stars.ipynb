{
 "cells": [
  {
   "cell_type": "markdown",
   "metadata": {},
   "source": [
    "### TODO\n",
    "### A felkészültség alapján meg kéne nézni, hogy mi a helyzet a git ismeretekkel"
   ]
  }
 ],
 "metadata": {
  "language_info": {
   "name": "python"
  }
 },
 "nbformat": 4,
 "nbformat_minor": 2
}
