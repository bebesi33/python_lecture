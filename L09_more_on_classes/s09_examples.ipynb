{
 "cells": [
  {
   "cell_type": "code",
   "execution_count": null,
   "metadata": {},
   "outputs": [],
   "source": [
    "# Készítsünk Felhasználó osztályt, névvel és telefonszámmal. Származtassunk ebből egy SMS osztályt,\n",
    "# amely a címzett telefonszámát is tartalmazza.\n",
    "# Az SMS osztálynak legyen az Üzenet osztály a leszármazottja, egy üzenet mezővel kiegészítve.\n",
    "# Valósítsuk meg az egyes osztályokban az __init__ és az __str__ függvényeket.\n",
    "# Hozzunk létre egy üzenet példányt és teszteljük is.\n",
    "# User -> Sms -> Message"
   ]
  },
  {
   "cell_type": "code",
   "execution_count": 7,
   "metadata": {},
   "outputs": [
    {
     "name": "stdout",
     "output_type": "stream",
     "text": [
      "Laci - 643643643643\n",
      "Laci - 643643643643\n",
      "Miért rossz a második print!\n",
      "Laci - 643643643643 - 76785756746 - titok\n"
     ]
    }
   ],
   "source": [
    "class User:\n",
    "    def __init__(self, name: str, phone_number: str):\n",
    "        self.name = name\n",
    "        self.phone_number = phone_number\n",
    "\n",
    "    def __str__(self):\n",
    "        return f\"{self.name} - {self.phone_number}\"\n",
    "\n",
    "\n",
    "class Sms(User):\n",
    "    def __init__(self, name: str, phone_number: str, recipient_phone_number: str):\n",
    "        super().__init__(name, phone_number)\n",
    "        self.recipient_phone_number = recipient_phone_number\n",
    "\n",
    "\n",
    "class Message(Sms):\n",
    "    def __init__(\n",
    "        self, name: str, phone_number: str, recipient_phone_number: str, message: str\n",
    "    ):\n",
    "        super().__init__(name, phone_number, recipient_phone_number)\n",
    "        self.message = message\n",
    "\n",
    "    def __str__(self):\n",
    "        return f\"{self.name} - {self.phone_number} - {self.recipient_phone_number} - {self.message}\"\n",
    "\n",
    "\n",
    "user = User(\"Laci\", \"643643643643\")\n",
    "print(user)\n",
    "sms_example = Sms(\"Laci\", \"643643643643\", \"76785756746\")\n",
    "print(sms_example)\n",
    "print(\"Miért rossz a második print!\")\n",
    "message_example = Message(\"Laci\", \"643643643643\", \"76785756746\", \"titok\")\n",
    "print(message_example)"
   ]
  },
  {
   "cell_type": "code",
   "execution_count": null,
   "metadata": {},
   "outputs": [
    {
     "name": "stdout",
     "output_type": "stream",
     "text": [
      "UserD(nev='Laci', phone_number='32432')\n",
      "SmsD(nev='Laci', phone_number='32432', recipient_phone_number='342432')\n"
     ]
    }
   ],
   "source": [
    "from dataclasses import dataclass\n",
    "\n",
    "\n",
    "@dataclass(frozen=True)\n",
    "class UserD:\n",
    "    nev: str\n",
    "    phone_number: str\n",
    "\n",
    "\n",
    "@dataclass(frozen=True)\n",
    "class SmsD(UserD):\n",
    "    recipient_phone_number: str\n",
    "\n",
    "\n",
    "u1 = UserD(\"Laci\", \"32432\")\n",
    "sms1 = SmsD(\"Laci\", \"32432\", \"342432\")\n",
    "print(u1)\n",
    "print(sms1)"
   ]
  },
  {
   "cell_type": "code",
   "execution_count": null,
   "metadata": {},
   "outputs": [],
   "source": [
    "# Készítsünk Mű osztályt, amely tárolja a mű címét és egy listában a mű szereplőit! Készítsünk egy Szerző osztályt is,\n",
    "# amelyik a szerző nevét és születési idejét tartalmazza!\n",
    "# Legyen egy leszármazott Vígjáték, amelynek mindkét előbbi osztály (Mű, Szerző) az őse!\n",
    "# A Vígjáték osztályban elegendő az __init__ és az __str__ dundereket megvalósítani hivatkozva az ősökére.\n",
    "# Hozzunk létre egy Vígjáték példányt és írjuk ki az adatait!\n",
    "# a)\tpickle segítségével mentsük fájlba a példányt és olvassuk vissza.\n",
    "# Mű -> Vígjáték\n",
    "# Szerző -> Vígjáték"
   ]
  },
  {
   "cell_type": "code",
   "execution_count": null,
   "metadata": {},
   "outputs": [
    {
     "name": "stdout",
     "output_type": "stream",
     "text": [
      "Vigyél a Holdra - Greg Berlanti\n",
      "['Scarlett Johansson', 'Channing Tatum']\n",
      "Author: Greg Berlanti - /1966/\n"
     ]
    }
   ],
   "source": [
    "class ArtWork:\n",
    "    def __init__(self, title: str, cast: list[str]):\n",
    "        self.title = title\n",
    "        self.cast = cast\n",
    "\n",
    "    def print_cast(self):\n",
    "        print(self.cast)\n",
    "\n",
    "\n",
    "class Author:\n",
    "    def __init__(self, name: str, year_of_birth: int):\n",
    "        self.name = name\n",
    "        self.year_of_birth = year_of_birth\n",
    "\n",
    "    def print_author_details(self):\n",
    "        print(f\"Author: {self.name} - /{self.year_of_birth}/\")\n",
    "\n",
    "\n",
    "class Comedy(Author, ArtWork):\n",
    "    def __init__(self, title: str, cast: list[str], name: str, year_of_birth: int):\n",
    "        ArtWork.__init__(self, title=title, cast=cast)\n",
    "        # Author.__init__(self, name=name, year_of_birth=year_of_birth)\n",
    "        # Szerintem az Author konstruktort hívni az osztály nevével korrektebb, mivel\n",
    "        # egyértelműsíti, hogy melyiket hívjuk.\n",
    "        super().__init__(\n",
    "            name=name, year_of_birth=year_of_birth\n",
    "        )  # ilyenkor a super az author-ra utal...\n",
    "        # Mivel az Author az első ősosztály amiből leszármaztatunk...\n",
    "\n",
    "    def __str__(self):\n",
    "        return f\"{self.title} - {self.name}\"\n",
    "\n",
    "\n",
    "work1 = ArtWork(title=\"Vigyél a Holdra\", cast=[\"Scarlett Johansson\", \"Channing Tatum\"])\n",
    "author = Author(name=\"Greg Berlanti\", year_of_birth=1966)\n",
    "\n",
    "comedy = Comedy(\n",
    "    name=\"Greg Berlanti\",\n",
    "    year_of_birth=1966,\n",
    "    title=\"Vigyél a Holdra\",\n",
    "    cast=[\"Scarlett Johansson\", \"Channing Tatum\"],\n",
    ")\n",
    "print(comedy)\n",
    "comedy.print_cast()\n",
    "comedy.print_author_details()"
   ]
  },
  {
   "cell_type": "code",
   "execution_count": null,
   "metadata": {},
   "outputs": [],
   "source": []
  }
 ],
 "metadata": {
  "kernelspec": {
   "display_name": "Python 3",
   "language": "python",
   "name": "python3"
  },
  "language_info": {
   "codemirror_mode": {
    "name": "ipython",
    "version": 3
   },
   "file_extension": ".py",
   "mimetype": "text/x-python",
   "name": "python",
   "nbconvert_exporter": "python",
   "pygments_lexer": "ipython3",
   "version": "3.12.6"
  }
 },
 "nbformat": 4,
 "nbformat_minor": 2
}
