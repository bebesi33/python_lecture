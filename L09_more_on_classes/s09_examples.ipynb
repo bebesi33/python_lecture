{
 "cells": [
  {
   "cell_type": "code",
   "execution_count": null,
   "metadata": {},
   "outputs": [],
   "source": [
    "# Készítsünk Felhasználó osztályt, névvel és telefonszámmal. Származtassunk ebből egy SMS osztályt, \n",
    "# amely a címzett telefonszámát is tartalmazza.\n",
    "# Az SMS osztálynak legyen az Üzenet osztály a leszármazottja, egy üzenet mezővel kiegészítve.\n",
    "# Valósítsuk meg az egyes osztályokban az __init__ és az __str__ függvényeket. \n",
    "# Hozzunk létre egy üzenet példányt és teszteljük is. "
   ]
  },
  {
   "cell_type": "code",
   "execution_count": null,
   "metadata": {},
   "outputs": [],
   "source": []
  },
  {
   "cell_type": "code",
   "execution_count": 3,
   "metadata": {},
   "outputs": [],
   "source": [
    "# Készítsünk Mű osztályt, amely tárolja a mű címét és egy listában a mű szereplőit! Készítsünk egy Szerző osztályt is, \n",
    "# amelyik a szerző nevét és születési idejét tartalmazza! \n",
    "# Legyen egy leszármazott Vígjáték, amelynek mindkét előbbi osztály (Mű, Szerző) az őse! \n",
    "# A Vígjáték osztályban elegendő az __init__ és az __str__ dundereket megvalósítani hivatkozva az ősökére.\n",
    "# Hozzunk létre egy Vígjáték példányt és írjuk ki az adatait!\n",
    "# a)\tpickle segítségével mentsük fájlba a példányt és olvassuk vissza.\n"
   ]
  },
  {
   "cell_type": "code",
   "execution_count": null,
   "metadata": {},
   "outputs": [],
   "source": []
  }
 ],
 "metadata": {
  "kernelspec": {
   "display_name": "Python 3",
   "language": "python",
   "name": "python3"
  },
  "language_info": {
   "codemirror_mode": {
    "name": "ipython",
    "version": 3
   },
   "file_extension": ".py",
   "mimetype": "text/x-python",
   "name": "python",
   "nbconvert_exporter": "python",
   "pygments_lexer": "ipython3",
   "version": "3.12.6"
  }
 },
 "nbformat": 4,
 "nbformat_minor": 2
}
