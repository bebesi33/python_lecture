{
 "cells": [
  {
   "cell_type": "markdown",
   "metadata": {},
   "source": [
    "### Additional topics related to classes"
   ]
  },
  {
   "cell_type": "code",
   "execution_count": 13,
   "metadata": {},
   "outputs": [],
   "source": [
    "class Film:\n",
    "    all_films = []\n",
    "\n",
    "    def __init__(self, title: str, director: str, year: int, cast: list[str] = []):\n",
    "        self._title = title\n",
    "        self._director = director\n",
    "        self._year = year\n",
    "        self._cast = cast\n",
    "        Film.all_films.append(self)\n",
    "\n",
    "    @classmethod\n",
    "    def get_number_of_elements(cls) -> int:\n",
    "        \"\"\"Visszaadja az eddig összesen létrehozott film databszámát\"\"\"\n",
    "        return len(cls.all_films)\n",
    "\n",
    "    @classmethod\n",
    "    def get_all_titles(cls) -> list[str]:\n",
    "        \"\"\"Visszaadja a filmek címeit...\"\"\"\n",
    "        return [film._title for film in cls.all_films]\n",
    "\n",
    "    @staticmethod\n",
    "    def is_valid_year(year) -> bool:\n",
    "        \"\"\"Ellenőrzi, hogy értelmes-e az év... 1990 és 2025 közötti...\"\"\"\n",
    "        return year > 1900 and year < 2026\n",
    "\n",
    "    def __setattr__(self, name, value):\n",
    "        \"\"\"Adott attribútumok megadására...\"\"\"\n",
    "        if name == \"year\" and Film.is_valid_year(value):\n",
    "            raise ValueError(\"Year must be between 1900 and 2023.\")\n",
    "        super().__setattr__(name, value)\n",
    "\n",
    "    @property\n",
    "    def basic_info(self) -> str:\n",
    "        return f\"{self._title} - {self._year}\"\n",
    "\n",
    "    @property\n",
    "    def year(self):\n",
    "        return self._year\n",
    "\n",
    "    @property\n",
    "    def director(self):\n",
    "        return self._director\n",
    "\n",
    "    @property\n",
    "    def all_cast(self):\n",
    "        return self._cast\n",
    "\n",
    "    @property\n",
    "    def title(self):\n",
    "        return self.title\n",
    "\n",
    "    @year.setter\n",
    "    def year(self, value):\n",
    "        if not Film.is_valid_year(value):\n",
    "            raise ValueError(\"Year must be between 1900 and 2025.\")\n",
    "        self._year = value\n",
    "\n",
    "    @year.getter\n",
    "    def year(self):\n",
    "        return self._year + 1000\n",
    "\n",
    "    def __add__(self, other):\n",
    "        if isinstance(other, Film):\n",
    "            combined_cast = list(set(self._cast + other._cast))\n",
    "            if (\n",
    "                self._title == other._title\n",
    "                and self._director == other._director\n",
    "                and self._year == other._year\n",
    "            ):\n",
    "                return Film(self._title, self._director, self._year, combined_cast)\n",
    "            else:\n",
    "                return ValueError\n",
    "        return NotImplemented"
   ]
  },
  {
   "cell_type": "markdown",
   "metadata": {},
   "source": [
    "### OOP és dekorátorok\n",
    "\n",
    "<p><b>@staticmethod</b>: <br>\n",
    "A statikus metódus nem fér hozzá sem az osztály példányához (self), sem az osztályához (cls), és nincs szüksége ezekre ahhoz, hogy működjön. Általában segédfüggvények, amelyek az osztályhoz kapcsolódó műveleteket végeznek, de nem manipulálnak osztály- vagy példányadatokat\n",
    "</p>\n",
    "\n",
    "<p><b>@classmethod</b>: Lehetővé teszi, hogy egy metódus az osztály szintjén működjön, ne pedig egy adott példányhoz legyen kötve. A classmethod mindig az osztályhoz (cls) fér hozzá, nem pedig az osztály példányához (self)<br>\n",
    "</p>\n",
    "\n",
    "<p><b>@property</b>: <br> Lehetővé teszi, hogy egy osztály attribútumot úgy kezeljünk, mint egy metódust, miközben az osztály példányán keresztül közvetlenül elérhető, mintha egy egyszerű változó lenne.</p>\n",
    "\n",
    "<p><b>setters/getters...</b>: <br> a property dekorátor jó getternek, ha ennél is összetettebb logika kellene, akkor ott van a [name].getter és [name].setter megoldás...</p>\n"
   ]
  },
  {
   "cell_type": "markdown",
   "metadata": {},
   "source": [
    "### Néhány észrevétel a dataclass-okról..."
   ]
  },
  {
   "cell_type": "markdown",
   "metadata": {},
   "source": [
    "<p><b>@dataclass</b>: <br>Nagyon hasznos eszköz, ha olyan osztályokat szeretnénk használni, amiben csak adatok vannak. \n",
    "<br> Automatikusan generált metódusok: __init__, __repr__, __eq__, __ne__, __hash__\n",
    "<br>\n",
    "</p>\n",
    "<p> Immutable verzió: @dataclass(frozen=True)  -> Ha ezt módosítanánk, akkor AttributeError-t kapunk. </p>\n",
    "<p> Mutable verzió: @dataclass(frozen=False), vagy @dataclass</p>"
   ]
  },
  {
   "cell_type": "code",
   "execution_count": null,
   "metadata": {},
   "outputs": [
    {
     "name": "stdout",
     "output_type": "stream",
     "text": [
      "u1 == u2 : False\n",
      "u1 != u2 : True\n",
      "u1 : 1579564280233288503\n"
     ]
    }
   ],
   "source": [
    "from dataclasses import dataclass\n",
    "\n",
    "\n",
    "@dataclass(frozen=True)\n",
    "class User:\n",
    "    nev: str\n",
    "    telefonszam: str\n",
    "\n",
    "    # def __str__(self):\n",
    "    #     return f\"Felhasználó: {self.nev}, Telefonszám: {self.telefonszam}\"\n",
    "\n",
    "\n",
    "u1 = User(\"Laci\", \"32432\")\n",
    "u2 = User(\"Laci\", \"gfff\")\n",
    "\n",
    "print(f\"u1 == u2 : {u1==u2}\")\n",
    "print(f\"u1 != u2 : {u1!=u2}\")\n",
    "\n",
    "print(\n",
    "    f\"u1 : {hash(u1)}\"\n",
    ")  # csak akkor elérhető a dataclass-ra ha immutable-t választjuk..."
   ]
  },
  {
   "cell_type": "markdown",
   "metadata": {},
   "source": [
    "### Feladat 1"
   ]
  },
  {
   "cell_type": "code",
   "execution_count": null,
   "metadata": {},
   "outputs": [],
   "source": [
    "# Legyen Könyv osztály is...\n",
    "# Vegyük elő az abc package-et...\n",
    "\n",
    "\n",
    "# és használjuk az abstractmethod decoratort arra hogy definiáljunk Book osztályt is...\n",
    "\n",
    "\n",
    "# Legyen egy ős osztály amiből származik a Film és Book, az ős osztályban legyen abstract method...\n",
    "\n",
    "\n",
    "from abc import ABC, abstractmethod\n",
    "\n",
    "\n",
    "\n",
    "# Az abstractmethod egyfajta interface lenne, ennek használatával megkövetelhetjük hogy a\n",
    "\n",
    "\n",
    "# derived class-okban legyen bizonyos metódus definiálva minden esetben..."
   ]
  },
  {
   "cell_type": "code",
   "execution_count": null,
   "metadata": {},
   "outputs": [],
   "source": []
  },
  {
   "cell_type": "markdown",
   "metadata": {},
   "source": [
    "### Feladat 2"
   ]
  },
  {
   "cell_type": "code",
   "execution_count": null,
   "metadata": {},
   "outputs": [],
   "source": [
    "# Terlheljünk túl pár operátort a film osztályon...\n",
    "flow1 = Film(\n",
    "    title=\"Áradás\", director=\"\tGints Zilbalodis\", year=2024, cast=[\"Fekete Macska\"]\n",
    ")\n",
    "flow2 = Film(\n",
    "    title=\"Áradás\", director=\"\tGints Zilbalodis\", year=2024, cast=[\"Sas\", \"Kutya\"]\n",
    ")"
   ]
  },
  {
   "cell_type": "code",
   "execution_count": 19,
   "metadata": {},
   "outputs": [
    {
     "data": {
      "text/plain": [
       "['Kutya', 'Sas', 'Fekete Macska']"
      ]
     },
     "execution_count": 19,
     "metadata": {},
     "output_type": "execute_result"
    }
   ],
   "source": [
    "flow3 = flow2 + flow1\n",
    "flow3.all_cast\n",
    "# érdemes figyelni hogy az operátor túlterhelésen belül ne a property gettereket használjuk, mert akkor végtelen rekurzió lehet..."
   ]
  },
  {
   "cell_type": "code",
   "execution_count": null,
   "metadata": {},
   "outputs": [],
   "source": [
    "# 1. legyen egy __eq__ metódus is\n",
    "# 2. legyen egy __lt__ és __gt__ ( < és > ) operátor is\n",
    "# 3. Írjunk az __add__-ra egy olyan változatot, ahol egy list[str]-et adunk hozzá a példányhoz"
   ]
  }
 ],
 "metadata": {
  "kernelspec": {
   "display_name": "Python 3",
   "language": "python",
   "name": "python3"
  },
  "language_info": {
   "codemirror_mode": {
    "name": "ipython",
    "version": 3
   },
   "file_extension": ".py",
   "mimetype": "text/x-python",
   "name": "python",
   "nbconvert_exporter": "python",
   "pygments_lexer": "ipython3",
   "version": "3.12.6"
  }
 },
 "nbformat": 4,
 "nbformat_minor": 2
}
