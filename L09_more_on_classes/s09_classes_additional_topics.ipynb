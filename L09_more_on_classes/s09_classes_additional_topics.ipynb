{
 "cells": [
  {
   "cell_type": "markdown",
   "metadata": {},
   "source": [
    "### Additional topics related to classes"
   ]
  },
  {
   "cell_type": "code",
   "execution_count": null,
   "metadata": {},
   "outputs": [],
   "source": [
    "class Film:\n",
    "    all_films = []\n",
    "\n",
    "    def __init__(self, title: str, director: str, year: int, cast: list[str] = []):\n",
    "        self._title = title\n",
    "        self._director = director\n",
    "        self._year = year\n",
    "        self._cast = cast\n",
    "        Film.all_films.append(self)\n",
    "\n",
    "    @classmethod\n",
    "    def get_number_of_elements(cls) -> int:\n",
    "        \"\"\"Visszaadja az eddig összesen létrehozott film databszámát\"\"\"\n",
    "        return len(cls.all_films)\n",
    "\n",
    "    @classmethod\n",
    "    def get_all_titles(cls) -> list[str]:\n",
    "        \"\"\"Visszaadja a filmek címeit...\"\"\"\n",
    "        return [film._title for film in cls.all_films]\n",
    "\n",
    "    @staticmethod\n",
    "    def is_valid_year(year) -> bool:\n",
    "        \"\"\"Ellenőrzi, hogy értelmes-e az év... 1900 és 2025 közötti...\"\"\"\n",
    "        return year > 1900 and year < 2026\n",
    "\n",
    "    # def __setattr__(self, name, value):\n",
    "    #     \"\"\"Adott attribútumok megadására...\"\"\"\n",
    "    #     print(Film.is_valid_year(value))\n",
    "    #     print(name)\n",
    "    #     if name == \"year\" and Film.is_valid_year(value):\n",
    "    #         raise ValueError(\"Year must be between 1900 and 2025.\")\n",
    "    #     super().__setattr__(name, value)\n",
    "\n",
    "    @property\n",
    "    def basic_info(self) -> str:\n",
    "        return f\"{self._title} - {self._year}\"\n",
    "\n",
    "    @property\n",
    "    def year(self):\n",
    "        return self._year\n",
    "\n",
    "    @property\n",
    "    def director(self):\n",
    "        return self._director\n",
    "\n",
    "    @property\n",
    "    def all_cast(self):\n",
    "        return self._cast\n",
    "\n",
    "    @property\n",
    "    def title(self):\n",
    "        return self.title\n",
    "\n",
    "    @year.setter\n",
    "    def year(self, value):\n",
    "        if not Film.is_valid_year(value):\n",
    "            raise ValueError(\"Year must be between 1900 and 2025.\")\n",
    "        self._year = value\n",
    "\n",
    "    @year.getter\n",
    "    def year(self):\n",
    "        return self._year + 1000\n",
    "\n",
    "    def __add__(self, other):\n",
    "        if isinstance(other, Film):\n",
    "            combined_cast = list(set(self._cast + other._cast))\n",
    "            if (\n",
    "                self._title == other._title\n",
    "                and self._director == other._director\n",
    "                and self._year == other._year\n",
    "            ):\n",
    "                return Film(self._title, self._director, self._year, combined_cast)\n",
    "            else:\n",
    "                raise ValueError(\"Valami nem egyenlő, cím/director vagy év....\")\n",
    "        if isinstance(other , list):\n",
    "            combined_cast = list(set(self._cast + other))\n",
    "            return Film(self._title, self._director, self._year, combined_cast)\n",
    "        # return self  # lehetne megoldás és akkor bármivel összeadva, visszaadja saját magát.\n",
    "        raise NotImplementedError(f\"A {type(other)} típusra ez nincs definiálva\")"
   ]
  },
  {
   "cell_type": "code",
   "execution_count": 56,
   "metadata": {},
   "outputs": [],
   "source": [
    "film_example = Film(title=\"A\", director=\"C\", year=1960)\n",
    "film_example.year = 1930\n"
   ]
  },
  {
   "cell_type": "markdown",
   "metadata": {},
   "source": [
    "### OOP és dekorátorok\n",
    "\n",
    "<p><b>@staticmethod</b>: <br>\n",
    "A statikus metódus nem fér hozzá sem az osztály példányához (self), sem az osztályához (cls), és nincs szüksége ezekre ahhoz, hogy működjön. Általában segédfüggvények, amelyek az osztályhoz kapcsolódó műveleteket végeznek, de nem manipulálnak osztály- vagy példányadatokat\n",
    "</p>\n",
    "\n",
    "<p><b>@classmethod</b>: Lehetővé teszi, hogy egy metódus az osztály szintjén működjön, ne pedig egy adott példányhoz legyen kötve. A classmethod mindig az osztályhoz (cls) fér hozzá, nem pedig az osztály példányához (self)<br>\n",
    "</p>\n",
    "\n",
    "<p><b>@property</b>: <br> Lehetővé teszi, hogy egy osztály attribútumot úgy kezeljünk, mint egy metódust, miközben az osztály példányán keresztül közvetlenül elérhető, mintha egy egyszerű változó lenne.</p>\n",
    "\n",
    "<p><b>setters/getters...</b>: <br> a property dekorátor jó getternek, ha ennél is összetettebb logika kellene, akkor ott van a [name].getter és [name].setter megoldás...</p>\n"
   ]
  },
  {
   "cell_type": "markdown",
   "metadata": {},
   "source": [
    "### Néhány észrevétel a dataclass-okról..."
   ]
  },
  {
   "cell_type": "markdown",
   "metadata": {},
   "source": [
    "<p><b>@dataclass</b>: <br>Nagyon hasznos eszköz, ha olyan osztályokat szeretnénk használni, amiben csak adatok vannak. \n",
    "<br> Automatikusan generált metódusok: __init__, __repr__, __eq__, __ne__, __hash__\n",
    "<br>\n",
    "</p>\n",
    "<p> Immutable verzió: @dataclass(frozen=True)  -> Ha ezt módosítanánk, akkor AttributeError-t kapunk. </p>\n",
    "<p> Mutable verzió: @dataclass(frozen=False), vagy @dataclass</p>"
   ]
  },
  {
   "cell_type": "code",
   "execution_count": 57,
   "metadata": {},
   "outputs": [
    {
     "name": "stdout",
     "output_type": "stream",
     "text": [
      "u1 == u2 : False\n",
      "u1 != u2 : True\n",
      "u1 : 2799622068868062716\n",
      "User(nev='Laci', telefonszam='32432')\n"
     ]
    }
   ],
   "source": [
    "from dataclasses import dataclass\n",
    "\n",
    "\n",
    "@dataclass(frozen=True)\n",
    "class User:\n",
    "    nev: str\n",
    "    telefonszam: str\n",
    "\n",
    "    # def __str__(self):\n",
    "    #     return f\"Felhasználó: {self.nev}, Telefonszám: {self.telefonszam}\"\n",
    "\n",
    "\n",
    "u1 = User(\"Laci\", \"32432\")\n",
    "u2 = User(\"Laci\", \"gfff\")\n",
    "\n",
    "print(f\"u1 == u2 : {u1==u2}\")\n",
    "print(f\"u1 != u2 : {u1!=u2}\")\n",
    "\n",
    "print(\n",
    "    f\"u1 : {hash(u1)}\"\n",
    ")  # csak akkor elérhető a dataclass-ra ha immutable-t választjuk...\n",
    "print(str(u1))"
   ]
  },
  {
   "cell_type": "markdown",
   "metadata": {},
   "source": [
    "### Feladat 1"
   ]
  },
  {
   "cell_type": "code",
   "execution_count": 70,
   "metadata": {},
   "outputs": [
    {
     "data": {
      "text/plain": [
       "<__main__.Book at 0x18a7fa7fe90>"
      ]
     },
     "execution_count": 70,
     "metadata": {},
     "output_type": "execute_result"
    }
   ],
   "source": [
    "# Legyen Könyv osztály is...\n",
    "# Vegyük elő az abc package-et...\n",
    "\n",
    "\n",
    "# és használjuk az abstractmethod decoratort arra hogy definiáljunk Book osztályt is...\n",
    "\n",
    "\n",
    "# Legyen egy ős osztály amiből származik a Film és Book, az ős osztályban legyen abstract method...\n",
    "\n",
    "\n",
    "from abc import ABC, abstractmethod\n",
    "\n",
    "\n",
    "# Az abstractmethod egyfajta interface lenne, ennek használatával megkövetelhetjük hogy a\n",
    "\n",
    "\n",
    "# derived class-okban legyen bizonyos metódus definiálva minden esetben...\n",
    "\n",
    "\n",
    "class Material(ABC):\n",
    "\n",
    "    @abstractmethod\n",
    "    def print_title(self):\n",
    "        pass\n",
    "\n",
    "    @abstractmethod\n",
    "    def print_author(self, input_1, input2):\n",
    "        pass\n",
    "\n",
    "\n",
    "class Book(Material):\n",
    "\n",
    "    def __init__(self, title: str, author: str):\n",
    "        self.title = title\n",
    "        self.author = author\n",
    "        \n",
    "    def print_title(self):\n",
    "        pass\n",
    "\n",
    "    def print_author(self):\n",
    "        pass\n",
    "\n",
    "        \n",
    "Book(\"Cím\", \"Szerző\")"
   ]
  },
  {
   "cell_type": "code",
   "execution_count": null,
   "metadata": {},
   "outputs": [],
   "source": []
  },
  {
   "cell_type": "markdown",
   "metadata": {},
   "source": [
    "### Feladat 2"
   ]
  },
  {
   "cell_type": "code",
   "execution_count": 59,
   "metadata": {},
   "outputs": [],
   "source": [
    "# Terheljünk túl pár operátort a film osztályon...\n",
    "flow1 = Film(\n",
    "    title=\"Áradás\", director=\"\tGints Zilbalodis\", year=2024, cast=[\"Fekete Macska\"]\n",
    ")\n",
    "flow2 = Film(\n",
    "    title=\"Áradás\", director=\"\tGints Zilbalodis\", year=2024, cast=[\"Sas\", \"Kutya\"]\n",
    ")\n",
    "flow4 = Film(\n",
    "    title=\"Áradás\", director=\"\tGints Zilbalodis\", year=2023, cast=[\"Sas\", \"Kutya\"]\n",
    ")\n"
   ]
  },
  {
   "cell_type": "code",
   "execution_count": 60,
   "metadata": {},
   "outputs": [
    {
     "data": {
      "text/plain": [
       "['Fekete Macska', 'Kutya', 'Sas']"
      ]
     },
     "execution_count": 60,
     "metadata": {},
     "output_type": "execute_result"
    }
   ],
   "source": [
    "flow3 = flow2 + flow1\n",
    "flow3.all_cast\n",
    "# érdemes figyelni hogy az operátor túlterhelésen belül ne a property gettereket használjuk, mert akkor végtelen rekurzió lehet..."
   ]
  },
  {
   "cell_type": "code",
   "execution_count": 61,
   "metadata": {},
   "outputs": [
    {
     "ename": "ValueError",
     "evalue": "Valami nem egyenlő, cím/director vagy év....",
     "output_type": "error",
     "traceback": [
      "\u001b[1;31m---------------------------------------------------------------------------\u001b[0m",
      "\u001b[1;31mValueError\u001b[0m                                Traceback (most recent call last)",
      "Cell \u001b[1;32mIn[61], line 1\u001b[0m\n\u001b[1;32m----> 1\u001b[0m flow5 \u001b[38;5;241m=\u001b[39m \u001b[43mflow2\u001b[49m\u001b[43m \u001b[49m\u001b[38;5;241;43m+\u001b[39;49m\u001b[43m \u001b[49m\u001b[43mflow4\u001b[49m\n",
      "Cell \u001b[1;32mIn[55], line 74\u001b[0m, in \u001b[0;36mFilm.__add__\u001b[1;34m(self, other)\u001b[0m\n\u001b[0;32m     72\u001b[0m         \u001b[38;5;28;01mreturn\u001b[39;00m Film(\u001b[38;5;28mself\u001b[39m\u001b[38;5;241m.\u001b[39m_title, \u001b[38;5;28mself\u001b[39m\u001b[38;5;241m.\u001b[39m_director, \u001b[38;5;28mself\u001b[39m\u001b[38;5;241m.\u001b[39m_year, combined_cast)\n\u001b[0;32m     73\u001b[0m     \u001b[38;5;28;01melse\u001b[39;00m:\n\u001b[1;32m---> 74\u001b[0m         \u001b[38;5;28;01mraise\u001b[39;00m \u001b[38;5;167;01mValueError\u001b[39;00m(\u001b[38;5;124m\"\u001b[39m\u001b[38;5;124mValami nem egyenlő, cím/director vagy év....\u001b[39m\u001b[38;5;124m\"\u001b[39m)\n\u001b[0;32m     75\u001b[0m \u001b[38;5;28;01mif\u001b[39;00m \u001b[38;5;28misinstance\u001b[39m(other , \u001b[38;5;28mlist\u001b[39m):\n\u001b[0;32m     76\u001b[0m     combined_cast \u001b[38;5;241m=\u001b[39m \u001b[38;5;28mlist\u001b[39m(\u001b[38;5;28mset\u001b[39m(\u001b[38;5;28mself\u001b[39m\u001b[38;5;241m.\u001b[39m_cast \u001b[38;5;241m+\u001b[39m other))\n",
      "\u001b[1;31mValueError\u001b[0m: Valami nem egyenlő, cím/director vagy év...."
     ]
    }
   ],
   "source": [
    "flow5 = flow2 + flow4\n"
   ]
  },
  {
   "cell_type": "code",
   "execution_count": 62,
   "metadata": {},
   "outputs": [
    {
     "name": "stdout",
     "output_type": "stream",
     "text": [
      "['Kutya', 'Kapibara', 'Sas']\n"
     ]
    }
   ],
   "source": [
    "flow6 = flow2 + [\"Kapibara\"]\n",
    "print(flow6.all_cast)"
   ]
  },
  {
   "cell_type": "code",
   "execution_count": 63,
   "metadata": {},
   "outputs": [
    {
     "name": "stdout",
     "output_type": "stream",
     "text": [
      "['Bálna', 'Kutya', 'Kapibara', 'Sas']\n"
     ]
    }
   ],
   "source": [
    "flow6 = flow2 + [\"Kapibara\"] + [\"Bálna\"]\n",
    "print(flow6.all_cast)"
   ]
  },
  {
   "cell_type": "code",
   "execution_count": 65,
   "metadata": {},
   "outputs": [
    {
     "data": {
      "text/plain": [
       "<__main__.Film at 0x18a7f9fbec0>"
      ]
     },
     "execution_count": 65,
     "metadata": {},
     "output_type": "execute_result"
    }
   ],
   "source": [
    "flow6 + set(\"fewfewfew\")"
   ]
  },
  {
   "cell_type": "code",
   "execution_count": null,
   "metadata": {},
   "outputs": [],
   "source": [
    "# 1. legyen egy __eq__ metódus is\n",
    "# 2. legyen egy __lt__ és __gt__ ( < és > ) operátor is\n",
    "# 3. Írjunk az __add__-ra egy olyan változatot, ahol egy list[str]-et adunk hozzá a példányhoz"
   ]
  }
 ],
 "metadata": {
  "kernelspec": {
   "display_name": "Python 3",
   "language": "python",
   "name": "python3"
  },
  "language_info": {
   "codemirror_mode": {
    "name": "ipython",
    "version": 3
   },
   "file_extension": ".py",
   "mimetype": "text/x-python",
   "name": "python",
   "nbconvert_exporter": "python",
   "pygments_lexer": "ipython3",
   "version": "3.12.6"
  }
 },
 "nbformat": 4,
 "nbformat_minor": 2
}
