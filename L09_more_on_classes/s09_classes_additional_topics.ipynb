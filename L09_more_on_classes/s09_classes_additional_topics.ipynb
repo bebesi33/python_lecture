{
 "cells": [
  {
   "cell_type": "markdown",
   "metadata": {},
   "source": [
    "### Additional topics related to classes"
   ]
  },
  {
   "cell_type": "code",
   "execution_count": null,
   "metadata": {},
   "outputs": [],
   "source": [
    "class Film:\n",
    "    all_films = []\n",
    "\n",
    "    def __init__(self, title: str, director: str, year: int):\n",
    "        self._title = title\n",
    "        self._director = director\n",
    "        self._year = year\n",
    "        Film.all_films.append(self)\n",
    "\n",
    "    @classmethod\n",
    "    def get_total_films(cls) -> int:\n",
    "        \"\"\"Visszaadja az eddig összesen létrehozott film databszámát\"\"\"\n",
    "        return len(cls.all_films)\n",
    "\n",
    "    @classmethod\n",
    "    def get_all_film_titles(cls) -> list[str]:\n",
    "        \"\"\"Visszaadja a filmek címeit...\"\"\"\n",
    "        return [film._title for film in cls.all_films]\n",
    "\n",
    "    @staticmethod\n",
    "    def is_valid_year(year) -> bool:\n",
    "        \"\"\"Ellenőrzi, hogy értelmes-e az év... 1990 és 2025 közötti...\"\"\"\n",
    "        return year > 1900 and year < 2026\n",
    "\n",
    "    def __setattr__(self, name, value):\n",
    "        \"\"\"Adott attribútumok megadására...\"\"\"\n",
    "        if name == \"year\" and Film.is_valid_year(value):\n",
    "            raise ValueError(\"Year must be between 1900 and 2023.\")\n",
    "        super().__setattr__(name, value)\n",
    "\n",
    "    @property\n",
    "    def basic_info(self) -> str:\n",
    "        return f\"{self._title} - {self._year}\"\n",
    "\n",
    "    @property\n",
    "    def year(self):\n",
    "        return self._year\n",
    "\n",
    "    @property\n",
    "    def title(self):\n",
    "        return self.title\n",
    "\n",
    "    @year.setter\n",
    "    def year(self, value):\n",
    "        if not Film.is_valid_year(value):\n",
    "            raise ValueError(\"Year must be between 1900 and 2025.\")\n",
    "        self._year = value"
   ]
  },
  {
   "cell_type": "markdown",
   "metadata": {},
   "source": [
    "### OOP és dekorátorok\n",
    "\n",
    "<p><b>@staticmethod</b>: <br></p>\n",
    "\n",
    "<p><b>@classmethod</b>: <br></p>\n",
    "\n",
    "<p><b>@property</b>: <br></p>\n",
    "\n",
    "<p><b>setters...</b>: <br></p>\n"
   ]
  },
  {
   "cell_type": "code",
   "execution_count": null,
   "metadata": {},
   "outputs": [],
   "source": [
    "# TODO\n",
    "# class related decorators (classmethod, staticmethod...)\n",
    "# kompozíció, asszociáció?\n",
    "# abc classes (abstract classes)"
   ]
  },
  {
   "cell_type": "markdown",
   "metadata": {},
   "source": [
    "### Feladatok"
   ]
  },
  {
   "cell_type": "code",
   "execution_count": null,
   "metadata": {},
   "outputs": [],
   "source": [
    "# Vegyük elő az abc package-et...\n",
    "# és használjuk az abstractmethod decoratort arra hogy definiáljunk Book osztályt is...\n",
    "# Legyen egy ős osztály amiből származik a Film és Book, az ős osztályban legyen abstract method...\n",
    "from abc import ABC, abstractmethod\n",
    "\n",
    "# Az abstractmethod egyfajta interface lenne, ennek használatával megkövetelhetjük hogy a\n",
    "# derived class-okban legyen bizonyos metódus definiálva minden esetben..."
   ]
  }
 ],
 "metadata": {
  "kernelspec": {
   "display_name": "Python 3",
   "language": "python",
   "name": "python3"
  },
  "language_info": {
   "codemirror_mode": {
    "name": "ipython",
    "version": 3
   },
   "file_extension": ".py",
   "mimetype": "text/x-python",
   "name": "python",
   "nbconvert_exporter": "python",
   "pygments_lexer": "ipython3",
   "version": "3.12.6"
  }
 },
 "nbformat": 4,
 "nbformat_minor": 2
}
