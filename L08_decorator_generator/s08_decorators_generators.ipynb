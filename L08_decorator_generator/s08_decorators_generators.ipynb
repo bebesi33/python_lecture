{
 "cells": [
  {
   "cell_type": "markdown",
   "metadata": {},
   "source": [
    "### Dekorátorok"
   ]
  },
  {
   "cell_type": "code",
   "execution_count": null,
   "metadata": {},
   "outputs": [
    {
     "name": "stdout",
     "output_type": "stream",
     "text": [
      "Simple function call: \n",
      "Decorator tester function\n",
      "\n",
      "\n",
      "Decorator function call: \n",
      "Random decorator (behaviour before function execution)\n",
      "Decorator tester function\n",
      "Behavior after execution\n",
      "\n",
      "\n",
      "Random decorator (behaviour before function execution)\n",
      "Function + Decorator + inputs\n",
      "Behavior after execution\n"
     ]
    }
   ],
   "source": [
    "# Ezt egy régi kaggle notebookomból vettem kölcsön, ezért Angol minden is...\n",
    "# https://www.kaggle.com/code/lszlbebesi/the-python-interview-v-1-0#Decorators\n",
    "\n",
    "\n",
    "# Let's define the decorator\n",
    "def random_decorator(func):\n",
    "    \"\"\"\n",
    "    The input is the func (a function)\n",
    "    I add args and kwarg because I anticipate that the function may have input arguments\n",
    "    I encourage the reader to try this construct without the addition of args and kwargs on the decorator_tester_function2 which has an input\n",
    "    I promise its not gonna work without args and kwargs\n",
    "    \"\"\"\n",
    "\n",
    "    def inner_function(*args, **kwargs):\n",
    "        print(\"Random decorator (behaviour before function execution)\")\n",
    "        # calling the actual function now\n",
    "        # inside the wrapper function.\n",
    "        func(*args, **kwargs)\n",
    "        print(\"Behavior after execution\")\n",
    "\n",
    "    return inner_function\n",
    "\n",
    "\n",
    "def decorator_tester_function():\n",
    "    print(\"Decorator tester function\")\n",
    "\n",
    "\n",
    "# Lets call the function 1st the simple was\n",
    "print(\"Simple function call: \")\n",
    "decorator_tester_function()\n",
    "print(\"\\n\")\n",
    "\n",
    "# Now I redefine the same function\n",
    "# To call it again\n",
    "\n",
    "\n",
    "@random_decorator\n",
    "def decorator_tester_function():\n",
    "    print(\"Decorator tester function\")\n",
    "\n",
    "\n",
    "print(\"Decorator function call: \")\n",
    "decorator_tester_function()\n",
    "print(\"\\n\")\n",
    "\n",
    "\n",
    "@random_decorator\n",
    "def decorator_tester_function2(message):\n",
    "    \"\"\"decorator_tester_function2 original\"\"\"\n",
    "    print(message)\n",
    "\n",
    "\n",
    "decorator_tester_function2(\"Function + Decorator + inputs\")"
   ]
  },
  {
   "cell_type": "markdown",
   "metadata": {},
   "source": [
    "#### Mi a probléma a random_decoratorral?"
   ]
  },
  {
   "cell_type": "code",
   "execution_count": 10,
   "metadata": {},
   "outputs": [
    {
     "name": "stdout",
     "output_type": "stream",
     "text": [
      "Original function name (fixed): decorator_tester_function_fixed\n",
      "Original function docstring (fixed): decorator_tester_function_fixed explanation\n",
      "Original function name (Original): inner_function\n",
      "Original function docstring (Original): None\n",
      "Random decorator (behaviour before function execution)\n",
      "!!\n",
      "Behavior after execution\n"
     ]
    }
   ],
   "source": [
    "import functools\n",
    "\n",
    "\n",
    "def random_decorator_fixed(func):\n",
    "    \"\"\"\n",
    "    The input is the func (a function).\n",
    "    I add args and kwargs because I anticipate that the function may have input arguments.\n",
    "    I encourage the reader to try this construct without the addition of args and kwargs on\n",
    "    the decorator_tester_function2 which has an input.\n",
    "    I promise it's not gonna work without args and kwargs.\n",
    "    \"\"\"\n",
    "\n",
    "    @functools.wraps(func)  # This ensures the function metadata is preserved\n",
    "    def inner_function(*args, **kwargs):\n",
    "        print(\"Random decorator (behavior before function execution)\")\n",
    "        result = func(*args, **kwargs)  # Call the actual function\n",
    "        print(\"Behavior after execution\")\n",
    "        return result  # Ensure the return value is passed through\n",
    "\n",
    "    return inner_function\n",
    "\n",
    "\n",
    "@random_decorator_fixed\n",
    "def decorator_tester_function_fixed(message):\n",
    "    \"\"\"decorator_tester_function_fixed explanation\"\"\"\n",
    "    print(message)\n",
    "    \n",
    "\n",
    "print(f\"Original function name (fixed): {decorator_tester_function_fixed.__name__}\")\n",
    "print(f\"Original function docstring (fixed): {decorator_tester_function_fixed.__doc__}\")\n",
    "\n",
    "\n",
    "print(f\"Original function name (Original): {decorator_tester_function2.__name__}\")\n",
    "print(f\"Original function docstring (Original): {decorator_tester_function2.__doc__}\")\n",
    "\n",
    "\n",
    "decorator_tester_function2(\"!!\")"
   ]
  },
  {
   "cell_type": "markdown",
   "metadata": {},
   "source": [
    "#### A functools wrapper segítségével már tartható az eredeti függvény metaadata (docstring + név)"
   ]
  },
  {
   "cell_type": "markdown",
   "metadata": {},
   "source": [
    "Mire jók a dekorátorok?\n",
    "<br>\n",
    "<li><b>A dekorátorok új funkciókat, új fajta működést biztosítanak meglevő függvényekhez, metódusokhoz anélkül, hogy át kellene azokat írni...</b></li>\n",
    "<li>Dekorátorokkal megvalósíthatunk logolást, ami segíthet a debug-olásban.</li>\n",
    "<li>A dekorátorok alkalmasak lehetnek jogosultságok kezelésére (lásd következő kurzus, Django alapok...)</li>\n",
    "<li>Cache-elésre is alkalmasak lehetnek a dekorátorok (lásd lentebb a feladatot)</li>\n",
    "<li>Az argumentum és bemenetek ellenőrzésére is írható dekorátor</li>\n",
    "\n"
   ]
  },
  {
   "cell_type": "markdown",
   "metadata": {},
   "source": [
    "### Generátorok (és python iterátorok)"
   ]
  },
  {
   "cell_type": "code",
   "execution_count": null,
   "metadata": {},
   "outputs": [
    {
     "name": "stdout",
     "output_type": "stream",
     "text": [
      "1\n",
      "2\n",
      "3\n",
      "4\n",
      "5\n"
     ]
    }
   ],
   "source": [
    "class ExampleIterator:\n",
    "    def __init__(self, start, end):\n",
    "        self.current = start  # legyen egy kezdő érték\n",
    "        self.end = end        # és legyen egy befejező érték\n",
    "    \n",
    "    def __iter__(self):\n",
    "        return self\n",
    "\n",
    "    def __next__(self):\n",
    "        if self.current <= self.end:\n",
    "            value = self.current\n",
    "            self.current += 1\n",
    "            return value\n",
    "        else:\n",
    "            raise StopIteration\n",
    "\n",
    "numbers = ExampleIterator(1, 5)\n",
    "\n",
    "for number in numbers:\n",
    "    print(number)\n",
    "\n",
    "# Egy Python iterátor egy olyan objektum, ami lehetővé teszi, hogy a for ciklus segítségével iteráljunk rajta,\n",
    "# vagy esetleg közvetlenül a next() függvénnyel hívjunk meg egy új elemet.\n",
    "\n",
    "# A Pythonban egy objektum akkor iterátor, ha rendelkezik két alapvető metódussal:\n",
    "\n",
    "# __iter__(): Ez a metódus visszaadja az iterátort. \n",
    "# Az iterátorok számára a __iter__ metódus gyakran az objektumot magát adja vissza, így lehetővé teszi a következő értékek lekérését.\n",
    "# __next__(): Ez a metódus a következő elemet adja vissza. \n",
    "# Ha az iterátor elérte a végső elemet, akkor a StopIteration kivételt dobja, jelezve, hogy nincs több elem.\n",
    "# Másképpen kell egy megállási feltétel (e.g. fentebb a self.end value-t definiáltuk)"
   ]
  },
  {
   "cell_type": "markdown",
   "metadata": {},
   "source": [
    "### Elég ritka, hogy saját iterátort írogat a programozó, helyette inkább generátorokat használunk"
   ]
  },
  {
   "cell_type": "markdown",
   "metadata": {},
   "source": [
    "A python generátor egy olyan iterátor, ami lusta kiértékelést alkalmaz (lazy eval), értéket csak akkor számít ki, amikor arra szükség van.\n",
    "Alapvetően kétféle módon hozható létre:\n",
    "1. generátor kifejezéssel (generator experssion)\n",
    "2. generátor függvénnyel (generator function)\n",
    "\n",
    "A lazy evaluation sokat segít, egyrészt memória hatékony lesz így a generátor (mivel nem értékeljük ki az összes elemet), másrészt a teljesítményre is ez pozitívan hat... (nem telítődik a memória mindennel is...)"
   ]
  },
  {
   "cell_type": "code",
   "execution_count": 15,
   "metadata": {},
   "outputs": [
    {
     "name": "stdout",
     "output_type": "stream",
     "text": [
      "Ez valóban generátor <class 'generator'>\n",
      "Ez valóban generátor <class 'list'>\n"
     ]
    }
   ],
   "source": [
    "#generátor kifejezéssel\n",
    "exp_generator = (2**x for x in range(5))\n",
    "print(f\"Ez valóban generátor {type(exp_generator)}\")\n",
    "\n",
    "# nézük meg mi van akkor ha szögletes zárójelbe írjuk...\n",
    "exp_generator_list = [2**x for x in range(5)]\n",
    "print(f\"Ez valóban generátor {type(exp_generator_list)}\")\n",
    "# listává alakul... Viszont a () zárójelek között nem lesz belőle tuple,\n",
    "# hanem marad generátor :)"
   ]
  },
  {
   "cell_type": "code",
   "execution_count": null,
   "metadata": {},
   "outputs": [
    {
     "name": "stdout",
     "output_type": "stream",
     "text": [
      "1\n",
      "2\n",
      "4\n",
      "8\n",
      "16\n"
     ]
    }
   ],
   "source": [
    "# generátor függvényes megoldás\n",
    "def exp_numbers(n):\n",
    "    for i in range(n):\n",
    "        yield 2 ** i\n",
    "\n",
    "exp_gen = exp_numbers(5)\n",
    "\n",
    "for num in exp_gen:\n",
    "    print(num)\n",
    "\n",
    "# mit tud a yield function? Miért nem return?"
   ]
  },
  {
   "cell_type": "markdown",
   "metadata": {},
   "source": [
    "Amikor a generátor eléri a yield kulcsszót, a függvény állapota \"suspended\" és nem \"stopped\" mint a return esetében. Így a következő híváskor a generátor folytatja ott, ahol az előző yield után abbahagyta, így nem kell az összes értéket egyszerre kiszámítani és tárolni."
   ]
  },
  {
   "cell_type": "code",
   "execution_count": null,
   "metadata": {},
   "outputs": [],
   "source": []
  }
 ],
 "metadata": {
  "kernelspec": {
   "display_name": "Python 3",
   "language": "python",
   "name": "python3"
  },
  "language_info": {
   "codemirror_mode": {
    "name": "ipython",
    "version": 3
   },
   "file_extension": ".py",
   "mimetype": "text/x-python",
   "name": "python",
   "nbconvert_exporter": "python",
   "pygments_lexer": "ipython3",
   "version": "3.12.6"
  }
 },
 "nbformat": 4,
 "nbformat_minor": 2
}
