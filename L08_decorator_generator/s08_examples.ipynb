{
 "cells": [
  {
   "cell_type": "code",
   "execution_count": 32,
   "metadata": {},
   "outputs": [],
   "source": [
    "# 2)\tKészítsen egy Film osztályt, amelyben a következő „protected” példány adat attribútumok vannak:\n",
    "# _rendezőneve, _filmcíme, _főszereplők nevének listája. Legyen megvalósítva az __init__,\n",
    "# és az __str__() dunder metódusok.\n",
    "# Teszteljük is az implementált funkciókat!\n",
    "# a)\tÍrjunk propertyket az adat attribútumokhoz!\n",
    "# b)\tÍrjuk meg az __add__(…) dunder műveletet, amelyik hozzáad egy új szereplőt az addigiakhoz\n",
    "# c)\tKészítsünk egy privát __szereplőlista(...) függvényt, amely a szereplők nevét egy szövegként,\n",
    "# vesszővel elválasztva adja vissza. Ezt a függvényt hívjuk meg a __str__(…)\n",
    "# d)\tKészítsünk egy @classmethod-ot, amelyik létrehoz néhány Film példányt!\n",
    "# A létrehozandó példányok paramétereit adjuk meg *args segítségével."
   ]
  },
  {
   "cell_type": "code",
   "execution_count": 33,
   "metadata": {},
   "outputs": [],
   "source": [
    "class Film:\n",
    "    \"\"\"Egy random film osztály\"\"\"\n",
    "\n",
    "    defined_films = 0\n",
    "\n",
    "    def __init__(self, director: str, title: str, cast: list[str]):\n",
    "        \"\"\"A film osztály konstruktora\n",
    "\n",
    "        Args:\n",
    "            director (str): rendező neve\n",
    "            title (str): a film címe\n",
    "            cast (list[str]): A szereplők listája\n",
    "        \"\"\"\n",
    "        self._director = director\n",
    "        self._title = title\n",
    "        self._cast = cast\n",
    "        Film.increment_defined_films()\n",
    "\n",
    "    # def __str__(self):\n",
    "    #     return f\"Director: {self._director} - Title: {self._title} - Cast: {str(self._cast)}\"\n",
    "\n",
    "    def __str__(self):\n",
    "        return f\"Director: {self._director} - Title: {self._title} - Cast: {str(self.__cast_list())}\"\n",
    "\n",
    "    def __cast_list(self) -> str:\n",
    "        return \", \".join(self._cast)\n",
    "\n",
    "    def __add__(self, additional_cast: list[str]):\n",
    "        self._cast = sorted(list(set(self._cast).union(set(additional_cast))))\n",
    "        # self._cast += additional_cast\n",
    "        # self._cast = sorted(list(set(self._cast)))\n",
    "\n",
    "    @property\n",
    "    def title(self):\n",
    "        return self._title\n",
    "\n",
    "    @property\n",
    "    def director(self):\n",
    "        return self._director\n",
    "\n",
    "    @property\n",
    "    def cast(self):\n",
    "        return self._cast\n",
    "\n",
    "    @classmethod\n",
    "    def increment_defined_films(cls):\n",
    "        cls.defined_films += 1\n",
    "        \n",
    "    @staticmethod\n",
    "    def film_class_print():\n",
    "        print(\"!!!!!!!!!!!!!!!!\")"
   ]
  },
  {
   "cell_type": "code",
   "execution_count": 34,
   "metadata": {},
   "outputs": [
    {
     "name": "stdout",
     "output_type": "stream",
     "text": [
      "Director: Chris Columbus - Title: Harry Potter and the Sorcerer's Stone - Cast: Daniel Radcliffe, Emma Watson\n",
      "Director: Chris Columbus - Title: Harry Potter and the Sorcerer's Stone - Cast: Rupert Grint\n"
     ]
    }
   ],
   "source": [
    "harry = Film(\n",
    "    director=\"Chris Columbus\",\n",
    "    title=\"Harry Potter and the Sorcerer's Stone\",\n",
    "    cast=[\"Daniel Radcliffe\", \"Emma Watson\"],\n",
    ")\n",
    "\n",
    "ron = Film(\n",
    "    director=\"Chris Columbus\",\n",
    "    title=\"Harry Potter and the Sorcerer's Stone\",\n",
    "    cast=[\"Rupert Grint\"],\n",
    ")\n",
    "print(harry)\n",
    "print(ron)"
   ]
  },
  {
   "cell_type": "code",
   "execution_count": 35,
   "metadata": {},
   "outputs": [
    {
     "name": "stdout",
     "output_type": "stream",
     "text": [
      "!!!!!!!!!!!!!!!!\n"
     ]
    }
   ],
   "source": [
    "Film.film_class_print()"
   ]
  },
  {
   "cell_type": "code",
   "execution_count": 36,
   "metadata": {},
   "outputs": [
    {
     "data": {
      "text/plain": [
       "2"
      ]
     },
     "execution_count": 36,
     "metadata": {},
     "output_type": "execute_result"
    }
   ],
   "source": [
    "# Film.increment_defined_films()\n",
    "Film.defined_films"
   ]
  },
  {
   "cell_type": "code",
   "execution_count": 37,
   "metadata": {},
   "outputs": [],
   "source": [
    "harry + [\"Rupert Grint\"]"
   ]
  },
  {
   "cell_type": "code",
   "execution_count": 38,
   "metadata": {},
   "outputs": [
    {
     "name": "stdout",
     "output_type": "stream",
     "text": [
      "['Daniel Radcliffe', 'Emma Watson', 'Rupert Grint']\n"
     ]
    }
   ],
   "source": [
    "print(harry.cast)"
   ]
  },
  {
   "cell_type": "code",
   "execution_count": 39,
   "metadata": {},
   "outputs": [
    {
     "name": "stdout",
     "output_type": "stream",
     "text": [
      "Help on class Film in module __main__:\n",
      "\n",
      "class Film(builtins.object)\n",
      " |  Film(director: str, title: str, cast: list[str])\n",
      " |\n",
      " |  Egy random film osztály\n",
      " |\n",
      " |  Methods defined here:\n",
      " |\n",
      " |  __add__(self, additional_cast: list[str])\n",
      " |\n",
      " |  __init__(self, director: str, title: str, cast: list[str])\n",
      " |      A film osztály konstruktora\n",
      " |\n",
      " |      Args:\n",
      " |          director (str): rendező neve\n",
      " |          title (str): a film címe\n",
      " |          cast (list[str]): A szereplők listája\n",
      " |\n",
      " |  __str__(self)\n",
      " |      Return str(self).\n",
      " |\n",
      " |  ----------------------------------------------------------------------\n",
      " |  Class methods defined here:\n",
      " |\n",
      " |  increment_defined_films()\n",
      " |\n",
      " |  ----------------------------------------------------------------------\n",
      " |  Static methods defined here:\n",
      " |\n",
      " |  film_class_print()\n",
      " |\n",
      " |  ----------------------------------------------------------------------\n",
      " |  Readonly properties defined here:\n",
      " |\n",
      " |  cast\n",
      " |\n",
      " |  director\n",
      " |\n",
      " |  title\n",
      " |\n",
      " |  ----------------------------------------------------------------------\n",
      " |  Data descriptors defined here:\n",
      " |\n",
      " |  __dict__\n",
      " |      dictionary for instance variables\n",
      " |\n",
      " |  __weakref__\n",
      " |      list of weak references to the object\n",
      " |\n",
      " |  ----------------------------------------------------------------------\n",
      " |  Data and other attributes defined here:\n",
      " |\n",
      " |  defined_films = 2\n",
      "\n"
     ]
    }
   ],
   "source": [
    "help(Film)\n",
    "# Igen a typehint-ek és docstring-gek megjelennek itt is..."
   ]
  },
  {
   "cell_type": "markdown",
   "metadata": {},
   "source": [
    "### Fibonacci variációk"
   ]
  },
  {
   "cell_type": "code",
   "execution_count": 40,
   "metadata": {},
   "outputs": [],
   "source": [
    "def finonacci_recursive(n: int) -> int:\n",
    "    if n <= 1:\n",
    "        return n\n",
    "    return finonacci_recursive(n - 1) + finonacci_recursive(n - 2)"
   ]
  },
  {
   "cell_type": "code",
   "execution_count": 41,
   "metadata": {},
   "outputs": [
    {
     "name": "stdout",
     "output_type": "stream",
     "text": [
      "0\n",
      "1\n",
      "1\n",
      "2\n",
      "3\n",
      "5\n",
      "8\n",
      "13\n",
      "21\n",
      "34\n"
     ]
    }
   ],
   "source": [
    "for i in range(0, 10):\n",
    "    print(finonacci_recursive(i))"
   ]
  },
  {
   "cell_type": "code",
   "execution_count": 42,
   "metadata": {},
   "outputs": [],
   "source": [
    "# %%timeit\n",
    "# finonacci_recursive(50)\n",
    "# sok inputra ez nem működik, helyette használjunk iterátort, dekorátort vagy generátort?"
   ]
  },
  {
   "cell_type": "code",
   "execution_count": 43,
   "metadata": {},
   "outputs": [],
   "source": [
    "from functools import lru_cache\n",
    "\n",
    "@lru_cache(maxsize=None)\n",
    "def fibonacci_cached(n: int) -> int:\n",
    "    \"\"\"Cache-elés segítségével állítja elő az N-edi Fibonacci számot.\n",
    "\n",
    "    Args:\n",
    "        n (int): A Fibonacci n-edik eleme\n",
    "\n",
    "    Returns:\n",
    "        int: Fibonnaci sorozat értéke n helyen\n",
    "    \"\"\"\n",
    "    if n <= 1:\n",
    "        return n\n",
    "    return fibonacci_cached(n - 1) + fibonacci_cached(n - 2)"
   ]
  },
  {
   "cell_type": "code",
   "execution_count": 44,
   "metadata": {},
   "outputs": [
    {
     "name": "stdout",
     "output_type": "stream",
     "text": [
      "211 ns ± 18.9 ns per loop (mean ± std. dev. of 7 runs, 1,000,000 loops each)\n"
     ]
    }
   ],
   "source": [
    "%%timeit\n",
    "fibonacci_cached(100)\n",
    "# Szemben az előző példával ez szépen működik nagyobb indexre is..."
   ]
  },
  {
   "cell_type": "code",
   "execution_count": 45,
   "metadata": {},
   "outputs": [],
   "source": [
    "def fibonacci_generator(n: int):\n",
    "    \"\"\"Generátor a Fibonacci számokhoz\n",
    "\n",
    "    Args:\n",
    "        n (int): A Fibonacci n-edik eleme\n",
    "\n",
    "    Returns:\n",
    "        int: Fibonnaci sorozat értéke n helyen\n",
    "\n",
    "    Yields:\n",
    "        Iterator[int]: Fibonnaci sorozat értéke n helyen\n",
    "    \"\"\"\n",
    "    a, b = 0, 1\n",
    "    idx = 0\n",
    "    while idx < n:\n",
    "        yield a\n",
    "        idx += 1\n",
    "        a, b = b, a + b"
   ]
  },
  {
   "cell_type": "code",
   "execution_count": 46,
   "metadata": {},
   "outputs": [
    {
     "name": "stdout",
     "output_type": "stream",
     "text": [
      "0\n",
      "1\n",
      "1\n",
      "2\n",
      "3\n",
      "5\n",
      "8\n",
      "13\n",
      "21\n",
      "34\n",
      "[353410009178752575339944833520459068284945046358154977604109175253890696634271360121583566110064725510836075851584985143412396868586425109102723291106570618750075392710633321729992106743321640281356794177320, 571829406815633979529643697006273045106845980748991112071673038743714031497887739023091610769764627307772654802298784361803421747114571265690519449915873452164193174293407940201977897716937097604164288130909, 925239415994386554869588530526732113391791027107146089675782213997604728132159099144675176879829352818608730653883769505215818615700996374793242741022444070914268567004041261931970004460258737885521082308229, 1497068822810020534399232227533005158498637007856137201747455252741318759630046838167766787649593980126381385456182553867019240362815567640483762190938317523078461741297449202133947902177195835489685370439138, 2422308238804407089268820758059737271890428034963283291423237466738923487762205937312441964529423332944990116110066323372235058978516564015277004931960761593992730308301490464065917906637454573375206452747367, 3919377061614427623668052985592742430389065042819420493170692719480242247392252775480208752179017313071371501566248877239254299341332131655760767122899079117071192049598939666199865808814650408864891823186505, 6341685300418834712936873743652479702279493077782703784593930186219165735154458712792650716708440646016361617676315200611489358319848695671037772054859840711063922357900430130265783715452104982240098275933872, 10261062362033262336604926729245222132668558120602124277764622905699407982546711488272859468887457959087733119242564077850743657661180827326798539177758919828135114407499369796465649524266755391104990099120377, 16602747662452097049541800472897701834948051198384828062358553091918573717701170201065510185595898605104094736918879278462233015981029522997836311232618760539199036765399799926731433239718860373345088375054249, 26863810024485359386146727202142923967616609318986952340123175997617981700247881689338369654483356564191827856161443356312976673642210350324634850410377680367334151172899169723197082763985615764450078474174626]\n"
     ]
    }
   ],
   "source": [
    "for i in fibonacci_generator(10):\n",
    "    print(i)\n",
    "\n",
    "fibonacci_numbers = list(fibonacci_generator(1000))\n",
    "print(fibonacci_numbers[-10:])\n",
    "# Úgy tűni ez is működik szépen..."
   ]
  },
  {
   "cell_type": "code",
   "execution_count": 47,
   "metadata": {},
   "outputs": [
    {
     "name": "stdout",
     "output_type": "stream",
     "text": [
      "0\n",
      "1\n",
      "1\n",
      "2\n",
      "3\n",
      "5\n",
      "8\n",
      "13\n",
      "21\n",
      "34\n"
     ]
    }
   ],
   "source": [
    "# Iterátorral ugyanez...\n",
    "class FibonacciIterator:\n",
    "    def __init__(self):\n",
    "        self.a, self.b = 0, 1\n",
    "        # Kezdeti értéket az init-ben kell meghatározni\n",
    "\n",
    "    def __iter__(self):\n",
    "        return self\n",
    "\n",
    "    def __next__(self) -> int:\n",
    "        \"\"\"Az iterátor next metódusa.\n",
    "        Itt most nem definiálok megállási feltételt, megy a végtelenig.\n",
    "\n",
    "        Returns:\n",
    "            int: Fibonacci érték az n helyen\n",
    "        \"\"\"\n",
    "        current = self.a\n",
    "        self.a, self.b = self.b, self.a + self.b\n",
    "        return current\n",
    "\n",
    "# Példák használatra\n",
    "fib_iter = FibonacciIterator()\n",
    "for _ in range(10):\n",
    "    print(next(fib_iter))"
   ]
  },
  {
   "cell_type": "code",
   "execution_count": null,
   "metadata": {},
   "outputs": [],
   "source": []
  }
 ],
 "metadata": {
  "kernelspec": {
   "display_name": "Python 3",
   "language": "python",
   "name": "python3"
  },
  "language_info": {
   "codemirror_mode": {
    "name": "ipython",
    "version": 3
   },
   "file_extension": ".py",
   "mimetype": "text/x-python",
   "name": "python",
   "nbconvert_exporter": "python",
   "pygments_lexer": "ipython3",
   "version": "3.12.6"
  }
 },
 "nbformat": 4,
 "nbformat_minor": 2
}
