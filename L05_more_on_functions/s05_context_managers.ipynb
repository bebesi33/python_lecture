{
 "cells": [
  {
   "cell_type": "code",
   "execution_count": 4,
   "metadata": {},
   "outputs": [],
   "source": [
    "# what is wrong with this? \n",
    "file = open(\"test_file.txt\", \"w\")\n",
    "file.write(\"Hello, World!\")\n",
    "file.close()"
   ]
  },
  {
   "cell_type": "code",
   "execution_count": 5,
   "metadata": {},
   "outputs": [
    {
     "data": {
      "text/plain": [
       "13"
      ]
     },
     "execution_count": 5,
     "metadata": {},
     "output_type": "execute_result"
    }
   ],
   "source": [
    "file = open(\"test_file.txt\", \"w\")\n",
    "file.write(\"Hello, World!\")\n",
    "# now try to delete test_file.txt :D:D:D \n",
    "# the problem is that the resource is not released..."
   ]
  },
  {
   "cell_type": "code",
   "execution_count": 6,
   "metadata": {},
   "outputs": [],
   "source": [
    "# Safely open the file\n",
    "file = open(\"test_file2.txt\", \"w\")\n",
    "try:\n",
    "    file.write(\"Hello, World!\")\n",
    "except Exception as e: # not nice\n",
    "    print(f\"An error occurred while writing to the file: {e}\")\n",
    "finally:\n",
    "    file.close()"
   ]
  },
  {
   "cell_type": "markdown",
   "metadata": {},
   "source": [
    "<p><b>\"Context managers ensure that resources are properly acquired and released, thereby preventing resource leaks and ensuring that your code is clean and reliable.\"</b></p>\n",
    "\n",
    "<br> <p> <b>Resource Leaks</b>: If you forget to close a file or release a lock, it can lead to resource leaks. This can consume system resources unnecessarily and may eventually cause your program to crash or behave unpredictably.</p>\n",
    "\n",
    "<br><p> <b> Error Handling</b>: Without context managers, you need to manually handle exceptions to ensure resources are properly released. This can make your code more complex and error-prone. For example, if an exception occurs while a file is open, the file might not get closed properly.</p>\n",
    "\n",
    "<br> <p> <b> Code Readability</b>: Using context managers makes your code cleaner and more readable. It abstracts the setup and teardown logic, allowing you to focus on the main logic of your program.</p>\n",
    "\n",
    "<b> Notable use cases: </b>\n",
    "<li>file opening</li>\n",
    "<li>database connection</li>\n",
    "<li>network sockets</li>\n",
    "<li>multi-threading</li>\n",
    "<li>directory scanning (os.scan)</li>"
   ]
  },
  {
   "cell_type": "code",
   "execution_count": 7,
   "metadata": {},
   "outputs": [],
   "source": [
    "# with expression as target_var:\n",
    "#     do_something(target_var)\n",
    "# this protocol has two methods:\n",
    "# .__enter__() is called by the with statement to enter the runtime context.\n",
    "# .__exit__() is called when the execution leaves the with code block.\n",
    "# The as keyword will point a given variable name to the return value from the __enter__ method:\n"
   ]
  },
  {
   "cell_type": "code",
   "execution_count": 8,
   "metadata": {},
   "outputs": [
    {
     "name": "stdout",
     "output_type": "stream",
     "text": [
      "Call enter method!\n",
      "Context manage example.\n",
      "10\n",
      "Call exit method!\n"
     ]
    }
   ],
   "source": [
    "class ExampleContextManager:\n",
    "    def __enter__(self):\n",
    "        print(\"Call enter method!\")\n",
    "        return 10\n",
    "\n",
    "    def __exit__(self, exc_type, exc_val, exc_tb):\n",
    "        print(\"Call exit method!\")\n",
    "\n",
    "with ExampleContextManager() as example:\n",
    "    print(\"Context manage example.\")\n",
    "    print(example)"
   ]
  },
  {
   "cell_type": "code",
   "execution_count": 9,
   "metadata": {},
   "outputs": [],
   "source": [
    "# notes: https://www.pythonmorsels.com/creating-a-context-manager/"
   ]
  },
  {
   "cell_type": "code",
   "execution_count": 10,
   "metadata": {},
   "outputs": [],
   "source": [
    "# going back to the original problem..."
   ]
  },
  {
   "cell_type": "code",
   "execution_count": 11,
   "metadata": {},
   "outputs": [
    {
     "name": "stdout",
     "output_type": "stream",
     "text": [
      "File 'test_file3.txt' has been written successfully.\n"
     ]
    }
   ],
   "source": [
    "# kb jó megoldás írással...\n",
    "try:\n",
    "    with open(\"test_file3.txt\", \"w\") as file:\n",
    "        file.write(\"Első sor ... \\n\")\n",
    "        file.write(\"Második sor ... \\n\")\n",
    "        file.write(\"Harmadik sor ... \\n\")\n",
    "    print(\"File 'test_file3.txt' has been written successfully.\")\n",
    "except Exception as e:\n",
    "    print(f\"An error occurred while writing to the file: {e}\")"
   ]
  },
  {
   "cell_type": "code",
   "execution_count": 12,
   "metadata": {},
   "outputs": [
    {
     "name": "stdout",
     "output_type": "stream",
     "text": [
      "Első sor ...\n",
      "Második sor ...\n",
      "Harmadik sor ...\n"
     ]
    }
   ],
   "source": [
    "# kb jó megoldás context manager-el a file olvasásra...\n",
    "try:\n",
    "    with open(\"test_file3.txt\", \"r\") as file:\n",
    "        for line in file:\n",
    "            print(line.strip())\n",
    "except FileNotFoundError:\n",
    "    print(\"The file does not exist.\")\n",
    "except Exception as e:\n",
    "    print(f\"An error occurred while reading the file: {e}\")"
   ]
  },
  {
   "cell_type": "code",
   "execution_count": null,
   "metadata": {},
   "outputs": [],
   "source": []
  }
 ],
 "metadata": {
  "kernelspec": {
   "display_name": "Python 3",
   "language": "python",
   "name": "python3"
  },
  "language_info": {
   "codemirror_mode": {
    "name": "ipython",
    "version": 3
   },
   "file_extension": ".py",
   "mimetype": "text/x-python",
   "name": "python",
   "nbconvert_exporter": "python",
   "pygments_lexer": "ipython3",
   "version": "3.12.6"
  }
 },
 "nbformat": 4,
 "nbformat_minor": 2
}
