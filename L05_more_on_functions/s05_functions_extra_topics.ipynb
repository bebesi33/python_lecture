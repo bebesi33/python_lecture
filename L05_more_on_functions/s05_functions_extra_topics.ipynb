{
 "cells": [
  {
   "cell_type": "markdown",
   "metadata": {},
   "source": [
    "### Args and Kwargs (azaz változó mennyiségű bemenet)"
   ]
  },
  {
   "cell_type": "code",
   "execution_count": null,
   "metadata": {},
   "outputs": [
    {
     "name": "stdout",
     "output_type": "stream",
     "text": [
      " sum_numbers output 10\n",
      "args type is : <class 'tuple'>\n"
     ]
    }
   ],
   "source": [
    "# Előbb az args...\n",
    "def sum_numbers(*args):\n",
    "    return sum(args)\n",
    "\n",
    "\n",
    "print(f\" sum_numbers output {sum_numbers(1, 2, 3, 4)}\")\n",
    "# args: nem kulcs változós argumentumok\n",
    "# egy tuple-be gyujti az össze argumentumot, ellenőrizzük is ezt...\n",
    "\n",
    "\n",
    "def sum_numbers_debug(*args):\n",
    "    print(f\"args type is : {type(args)}\")\n",
    "    return sum(args)\n",
    "\n",
    "\n",
    "sum_numbers_debug(1)\n",
    "# itt most nem íratom ki az 1-et, amiben segít nekem a ; jelölő..."
   ]
  },
  {
   "cell_type": "code",
   "execution_count": null,
   "metadata": {},
   "outputs": [
    {
     "name": "stdout",
     "output_type": "stream",
     "text": [
      "\n",
      " >>> display details output\n",
      "name: Kristóf\n",
      "age: 25\n",
      "profession: Phd student\n",
      "kwargs type is : <class 'dict'>\n",
      "content is (keys): dict_keys(['name', 'age', 'profession'])\n",
      "content is (values): dict_values(['Kristóf', 25, 'Phd student'])\n",
      "\n",
      " >>> display details output\n",
      "name: Kristóf\n",
      "age: 25\n",
      "profession: Phd student\n"
     ]
    }
   ],
   "source": [
    "# KWargs...\n",
    "def display_details(**kwargs):\n",
    "    print(\"\\n >>> display details output\")\n",
    "    for key, value in kwargs.items():\n",
    "        print(f\"{key}: {value}\")\n",
    "\n",
    "\n",
    "display_details(name=\"Kristóf\", age=25, profession=\"Phd student\")\n",
    "\n",
    "\n",
    "# kwargs : keyword arguments (kulcsváltozós argumentumok...)\n",
    "# A **kwargs egy szótárba gyűjti az összes átadott kulcs-érték párt.\n",
    "def display_details_debug(**kwargs):\n",
    "    print(f\"kwargs type is : {type(kwargs)}\")\n",
    "    print(f\"content is (keys): {kwargs.keys()}\")\n",
    "    print(f\"content is (values): {kwargs.values()}\")\n",
    "    print(\"\\n >>> display details output\")\n",
    "    for key, value in kwargs.items():\n",
    "        print(f\"{key}: {value}\")\n",
    "\n",
    "\n",
    "display_details_debug(name=\"Kristóf\", age=25, profession=\"Phd student\")"
   ]
  },
  {
   "cell_type": "markdown",
   "metadata": {},
   "source": [
    "### Lambda functions"
   ]
  },
  {
   "cell_type": "code",
   "execution_count": null,
   "metadata": {},
   "outputs": [],
   "source": [
    "osszead = lambda x, y: x + y\n",
    "print(osszead(3, 4))\n",
    "\n",
    "# szintaxis: lambda paraméterek: kifejezés\n",
    "# A lambda függvények Pythonban rövid, névtelen (anonim) függvények, amelyeket egyszerű műveletekhez vagy rövid kódblokkokhoz használunk.\n",
    "# A lambda függvények nem tartalmazhatnak több sort, ciklust, vagy komplex logikai szerkezeteket.\n",
    "# Csak egy kifejezést tartalmazhatnak, és mindig visszaadnak egy értéket."
   ]
  },
  {
   "cell_type": "code",
   "execution_count": 1,
   "metadata": {},
   "outputs": [
    {
     "data": {
      "text/plain": [
       "1.414213562373095"
      ]
     },
     "execution_count": 1,
     "metadata": {},
     "output_type": "execute_result"
    }
   ],
   "source": [
    "# a gyök kettős példa visszatér...\n",
    "\n",
    "# A régi megoldás...\n",
    "def f1(x):\n",
    "    return x * x - 2\n",
    "\n",
    "\n",
    "def f2(x):\n",
    "    return 2 * x\n",
    "\n",
    "\n",
    "def calc(x):\n",
    "    for i in range(0, 100):\n",
    "        x = x - f1(x) / f2(x)\n",
    "    return x\n",
    "\n",
    "\n",
    "calc(2)"
   ]
  },
  {
   "cell_type": "code",
   "execution_count": 14,
   "metadata": {},
   "outputs": [
    {
     "data": {
      "text/plain": [
       "1.414213562373095"
      ]
     },
     "execution_count": 14,
     "metadata": {},
     "output_type": "execute_result"
    }
   ],
   "source": [
    "# és az új megoldás...\n",
    "from functools import reduce\n",
    "\n",
    "l1 = lambda x: x * x - 2\n",
    "l2 = lambda x: 2 * x\n",
    "calc_lambda = lambda x: reduce(\n",
    "    lambda x_current, _: x_current - l1(x_current) / l2(x_current), range(100), x\n",
    ")\n",
    "calc_lambda(2)"
   ]
  },
  {
   "cell_type": "markdown",
   "metadata": {},
   "source": [
    "<p> Akkor érdemes lambda függvényt használni, ha ténylegesen röviden, egy sorban meg lehet írni egy függvényt. </p>\n",
    "<p> A fenti példában a calc_lambda függvény már súrolja annak a határát, ahol inkább sima python függvény definíció kell. </p>\n",
    "\n",
    "Nem érdemes lambda függvényt használni, ha:\n",
    "<li> Bonyolult a függvény, több sor kellene... </li>\n",
    "<li> Fontos lenne kommenteket, docstring-et és typehint-et is adni. </li>\n",
    "<li> Debugolni kellene -> mivel agyon tömör írásmód ezért nehezebb látni, hogy hol a hiba </li>\n",
    "<li> Az újrafelhasználhatóság követelmény, valamint a könnyű olvashatóság is fontos... </li>"
   ]
  },
  {
   "cell_type": "markdown",
   "metadata": {},
   "source": [
    "### Map!"
   ]
  },
  {
   "cell_type": "code",
   "execution_count": null,
   "metadata": {},
   "outputs": [
    {
     "name": "stdout",
     "output_type": "stream",
     "text": [
      "[1, 4, 9, 16, 25]\n",
      "<class 'map'>\n",
      "[1, 4, 9, 16, 25]\n"
     ]
    }
   ],
   "source": [
    "szamok = [1, 2, 3, 4, 5]\n",
    "\n",
    "negyzet_szamok = map(lambda x: x ** 2, szamok)\n",
    "\n",
    "print(list(negyzet_szamok))\n",
    "print(type(negyzet_szamok))\n",
    "\n",
    "negyzet_szamok_listaval = [ x ** 2 for x in szamok]\n",
    "\n",
    "print(negyzet_szamok_listaval)\n",
    "\n",
    "# A map megoldás goyrsabb tud lenni sok adatnál\n",
    "# a list comprehension jobban olvasható, a programozók többsége inkább ezt választaná, pythonosabb...\n",
    "# A list comprehension talán egy kicsivel rugalmasabb megoldás..."
   ]
  },
  {
   "cell_type": "markdown",
   "metadata": {},
   "source": [
    "### Filter"
   ]
  },
  {
   "cell_type": "code",
   "execution_count": null,
   "metadata": {},
   "outputs": [
    {
     "name": "stdout",
     "output_type": "stream",
     "text": [
      "[1, 4, 9]\n",
      "<class 'filter'>\n"
     ]
    }
   ],
   "source": [
    "import math\n",
    "szamok = [1, 2, 3, 4, 5, 6, 7, 8, 9, 10]\n",
    "\n",
    "negyzet_szamok = filter(lambda x: math.isqrt(x) ** 2 == x, szamok)\n",
    "print(list(negyzet_szamok))\n",
    "print(type(negyzet_szamok))"
   ]
  },
  {
   "cell_type": "code",
   "execution_count": null,
   "metadata": {},
   "outputs": [],
   "source": []
  }
 ],
 "metadata": {
  "kernelspec": {
   "display_name": "Python 3",
   "language": "python",
   "name": "python3"
  },
  "language_info": {
   "codemirror_mode": {
    "name": "ipython",
    "version": 3
   },
   "file_extension": ".py",
   "mimetype": "text/x-python",
   "name": "python",
   "nbconvert_exporter": "python",
   "pygments_lexer": "ipython3",
   "version": "3.12.6"
  }
 },
 "nbformat": 4,
 "nbformat_minor": 2
}
