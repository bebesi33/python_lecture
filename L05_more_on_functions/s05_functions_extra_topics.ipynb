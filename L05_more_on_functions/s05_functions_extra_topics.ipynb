{
 "cells": [
  {
   "cell_type": "markdown",
   "metadata": {},
   "source": [
    "### Args and Kwargs (azaz változó mennyiségű bemenet)"
   ]
  },
  {
   "cell_type": "code",
   "execution_count": null,
   "metadata": {},
   "outputs": [
    {
     "name": "stdout",
     "output_type": "stream",
     "text": [
      " sum_numbers output 10\n",
      "args type is : <class 'tuple'>\n"
     ]
    }
   ],
   "source": [
    "# Előbb az args...\n",
    "def sum_numbers(*args):\n",
    "    return sum(args)\n",
    "\n",
    "\n",
    "print(f\" sum_numbers output {sum_numbers(1, 2, 3, 4)}\")\n",
    "# args: nem kulcs változós argumentumok\n",
    "# egy tuple-be gyujti az össze argumentumot, ellenőrizzük is ezt...\n",
    "\n",
    "\n",
    "def sum_numbers_debug(*args):\n",
    "    print(f\"args type is : {type(args)}\")\n",
    "    return sum(args)\n",
    "\n",
    "\n",
    "sum_numbers_debug(1)\n",
    "# itt most nem íratom ki az 1-et, amiben segít nekem a ; jelölő..."
   ]
  },
  {
   "cell_type": "code",
   "execution_count": null,
   "metadata": {},
   "outputs": [
    {
     "name": "stdout",
     "output_type": "stream",
     "text": [
      "\n",
      " >>> display details output\n",
      "name: Kristóf\n",
      "age: 25\n",
      "profession: Phd student\n",
      "kwargs type is : <class 'dict'>\n",
      "content is (keys): dict_keys(['name', 'age', 'profession'])\n",
      "content is (values): dict_values(['Kristóf', 25, 'Phd student'])\n",
      "\n",
      " >>> display details output\n",
      "name: Kristóf\n",
      "age: 25\n",
      "profession: Phd student\n"
     ]
    }
   ],
   "source": [
    "# KWargs...\n",
    "\n",
    "\n",
    "def display_details(**kwargs):\n",
    "    print(\"\\n >>> display details output\")\n",
    "    for key, value in kwargs.items():\n",
    "        print(f\"{key}: {value}\")\n",
    "\n",
    "\n",
    "display_details(name=\"Kristóf\", age=25, profession=\"Phd student\")\n",
    "\n",
    "\n",
    "# kwargs : keyword arguments (kulcsváltozós argumentumok...)\n",
    "# A **kwargs egy szótárba gyűjti az összes átadott kulcs-érték párt.\n",
    "def display_details_debug(**kwargs):\n",
    "    print(f\"kwargs type is : {type(kwargs)}\")\n",
    "    print(f\"content is (keys): {kwargs.keys()}\")\n",
    "    print(f\"content is (values): {kwargs.values()}\")\n",
    "    print(\"\\n >>> display details output\")\n",
    "    for key, value in kwargs.items():\n",
    "        print(f\"{key}: {value}\")\n",
    "\n",
    "\n",
    "display_details_debug(name=\"Kristóf\", age=25, profession=\"Phd student\")"
   ]
  },
  {
   "cell_type": "markdown",
   "metadata": {},
   "source": [
    "### Lambda functions"
   ]
  },
  {
   "cell_type": "code",
   "execution_count": null,
   "metadata": {},
   "outputs": [],
   "source": [
    "osszead = lambda x, y: x + y\n",
    "print(osszead(3, 4))\n",
    "\n",
    "# szintaxis: lambda paraméterek: kifejezés\n",
    "# A lambda függvények Pythonban rövid, névtelen (anonim) függvények, amelyeket egyszerű műveletekhez vagy rövid kódblokkokhoz használunk.\n",
    "# A lambda függvények nem tartalmazhatnak több sort, ciklust, vagy komplex logikai szerkezeteket.\n",
    "# Csak egy kifejezést tartalmazhatnak, és mindig visszaadnak egy értéket."
   ]
  },
  {
   "cell_type": "code",
   "execution_count": null,
   "metadata": {},
   "outputs": [],
   "source": []
  }
 ],
 "metadata": {
  "kernelspec": {
   "display_name": "Python 3",
   "language": "python",
   "name": "python3"
  },
  "language_info": {
   "codemirror_mode": {
    "name": "ipython",
    "version": 3
   },
   "file_extension": ".py",
   "mimetype": "text/x-python",
   "name": "python",
   "nbconvert_exporter": "python",
   "pygments_lexer": "ipython3",
   "version": "3.12.6"
  }
 },
 "nbformat": 4,
 "nbformat_minor": 2
}
