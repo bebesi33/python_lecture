{
 "cells": [
  {
   "cell_type": "code",
   "execution_count": null,
   "metadata": {},
   "outputs": [],
   "source": [
    "# 4.\tKészítsünk programot, amelyik egy szótárt hoz létre (olvassa be) a Python gyakorlatokkal kapcsolatban.\n",
    "# A szótár egy-egy neptun kódot és csoport számot tartalmaz (ki melyikbe jár).\n",
    "# Adjuk meg, hogy kik járnak az 1. csoportba?  Nevek listája legyen az eredmény! (filter, kwargs....)\n",
    "# fv_hivas(csoport_szures, dffkz4=3, fbeefe=3, blabla=4)\n",
    "# a.\tMódosítsuk úgy, hogy adjuk meg kik járnak egy felhasználó által megadott cso-port¬ba! Ellenőrizzük, hogy a szám 1-4 közötti-e!"
   ]
  },
  {
   "cell_type": "code",
   "execution_count": null,
   "metadata": {},
   "outputs": [],
   "source": [
    "def feladata_egy(csoport_szam=1, **kwargs):\n",
    "    return [key for key in kwargs.keys() if kwargs[key] == csoport_szam]\n",
    "\n",
    "\n",
    "def feladata_egy_v2(csoport_szam=1, **kwargs):\n",
    "    selected_elements = {\n",
    "        key: value for key, value in kwargs.items() if value == csoport_szam\n",
    "    }\n",
    "    return selected_elements.keys()\n",
    "\n",
    "\n",
    "def feladata_egy_v3(csoport_szam=1, **kwargs):\n",
    "    selected_elements = filter(lambda value: value[1] == csoport_szam, kwargs.items())\n",
    "    return list(selected_elements)\n",
    "\n",
    "\n",
    "# planet_diameters = {\n",
    "#     planet: diameter for planet, diameter in kerbal_planets.items() if diameter > 550\n",
    "# }"
   ]
  },
  {
   "cell_type": "code",
   "execution_count": null,
   "metadata": {},
   "outputs": [
    {
     "name": "stdout",
     "output_type": "stream",
     "text": [
      "['dffkz4']\n",
      "dict_keys(['dffkz4'])\n",
      "[('dffkz4', 1)]\n",
      "[('dffkz4', 1), ('fewfew', 1)]\n"
     ]
    }
   ],
   "source": [
    "print(feladata_egy(csoport_szam=1, dffkz4=1, fe2f32=3))\n",
    "print(feladata_egy_v2(csoport_szam=1, dffkz4=1, fe2f32=3))\n",
    "print(feladata_egy_v3(csoport_szam=1, dffkz4=1, fe2f32=3))\n",
    "print(feladata_egy_v3(csoport_szam=1, **{\"dffkz4\": 1, \"32r32\": 3, \"fewfew\": 1}))"
   ]
  },
  {
   "cell_type": "code",
   "execution_count": null,
   "metadata": {},
   "outputs": [],
   "source": [
    "# 5.\tKészítsen programot, amelyik beolvas egy szavakból álló listát és kigyűjti a palin¬dro¬mo-kat!\n",
    "# (Palindrom, ha visszafele olvasva is ugyanaz!).\n",
    "# (filter, args  /lista helyett tuple/...)"
   ]
  },
  {
   "cell_type": "code",
   "execution_count": null,
   "metadata": {},
   "outputs": [
    {
     "data": {
      "text/plain": [
       "False"
      ]
     },
     "execution_count": 27,
     "metadata": {},
     "output_type": "execute_result"
    }
   ],
   "source": [
    "bement = \"görög\"\n",
    "bement2 = \"efwfewfewew\""
   ]
  },
  {
   "cell_type": "code",
   "execution_count": null,
   "metadata": {},
   "outputs": [
    {
     "name": "stdout",
     "output_type": "stream",
     "text": [
      "['fff']\n",
      "fff\n",
      "görög\n",
      "fff\n",
      "görög\n"
     ]
    }
   ],
   "source": [
    "def feladat_5_v1(*args):\n",
    "    return [word for word in args if word == word[::-1]]\n",
    "\n",
    "\n",
    "def feladat_5_v2(*args):\n",
    "    return filter(lambda word: word == word[::-1], args)\n",
    "\n",
    "\n",
    "print(feladat_5_v1(\"fff\", \"tetre\", \"fewfew\"))\n",
    "for word in feladat_5_v2(\"fff\", \"tetre\", \"fewfew\", \"görög\"):\n",
    "    print(word)\n",
    "for word in feladat_5_v2(*(\"fff\", \"tetre\", \"fewfew\", \"görög\")):\n",
    "    print(word)"
   ]
  },
  {
   "cell_type": "code",
   "execution_count": null,
   "metadata": {},
   "outputs": [],
   "source": [
    "# 6.\tKészítsen programot, amelyik létrehoz egy szótárt az adatok beolvasásával.\n",
    "# A szótár tar-talmazzon email címet és a felhasználó nevét. (soronként email cím és név,\n",
    "# köztük 😉 Egy felhasználónak lehetnek külön¬böző email címei. A kulcs legyen az email cím.\n",
    "# Adjuk meg a felhasználók neveit – minden név csak egyszer szerepeljen!   (set, txt beolvasás)"
   ]
  }
 ],
 "metadata": {
  "kernelspec": {
   "display_name": "Python 3",
   "language": "python",
   "name": "python3"
  },
  "language_info": {
   "codemirror_mode": {
    "name": "ipython",
    "version": 3
   },
   "file_extension": ".py",
   "mimetype": "text/x-python",
   "name": "python",
   "nbconvert_exporter": "python",
   "pygments_lexer": "ipython3",
   "version": "3.12.6"
  }
 },
 "nbformat": 4,
 "nbformat_minor": 2
}
