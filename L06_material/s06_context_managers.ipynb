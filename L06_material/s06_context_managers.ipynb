{
 "cells": [
  {
   "cell_type": "code",
   "execution_count": 1,
   "metadata": {},
   "outputs": [],
   "source": [
    "import yaml\n",
    "import os\n",
    "from pathlib import Path"
   ]
  },
  {
   "cell_type": "code",
   "execution_count": 2,
   "metadata": {},
   "outputs": [],
   "source": [
    "# what is wrong with this? \n",
    "file = open(\"notebook_resources/test_file.txt\", \"w\")\n",
    "file.write(\"Hello, World!\")\n",
    "file.close()"
   ]
  },
  {
   "cell_type": "code",
   "execution_count": 3,
   "metadata": {},
   "outputs": [],
   "source": [
    "file = open(\"notebook_resources/test_file.txt\", \"w\")\n",
    "file.write(\"Hello, World!\")\n",
    "file.close()"
   ]
  },
  {
   "cell_type": "code",
   "execution_count": 5,
   "metadata": {},
   "outputs": [],
   "source": [
    "# Safely open the file\n",
    "file = open(\"notebook_resources/test_file2.txt\", \"w\")\n",
    "\n",
    "try:\n",
    "    file.write(\"Hello, World!\")\n",
    "except Exception as e: # not nice\n",
    "    print(f\"An error occurred while writing to the file: {e}\")\n",
    "finally:\n",
    "    # Make sure to close the file after using it\n",
    "    file.close()"
   ]
  },
  {
   "cell_type": "markdown",
   "metadata": {},
   "source": [
    "\"Context managers ensure that resources are properly acquired and released, thereby preventing resource leaks and ensuring that your code is clean and reliable.\"\n",
    "\n",
    "<br> Resource Leaks: If you forget to close a file or release a lock, it can lead to resource leaks. This can consume system resources unnecessarily and may eventually cause your program to crash or behave unpredictably.\n",
    "\n",
    "<br> Error Handling: Without context managers, you need to manually handle exceptions to ensure resources are properly released. This can make your code more complex and error-prone. For example, if an exception occurs while a file is open, the file might not get closed properly.\n",
    "\n",
    "<br> Code Readability: Using context managers makes your code cleaner and more readable. It abstracts the setup and teardown logic, allowing you to focus on the main logic of your program."
   ]
  },
  {
   "cell_type": "markdown",
   "metadata": {},
   "source": [
    "##### Notable use cases:\n",
    "file opening\n",
    "<br> database connection\n",
    "<br> network sockets\n",
    "<br> multi-threading\n",
    "<br> directory scanning (os.scan)"
   ]
  },
  {
   "cell_type": "code",
   "execution_count": null,
   "metadata": {},
   "outputs": [],
   "source": [
    "# with expression as target_var:\n",
    "#     do_something(target_var)\n",
    "# this protocol has two methods:\n",
    "# .__enter__() is called by the with statement to enter the runtime context.\n",
    "# .__exit__() is called when the execution leaves the with code block.\n",
    "# The as keyword will point a given variable name to the return value from the __enter__ method:\n"
   ]
  },
  {
   "cell_type": "code",
   "execution_count": 8,
   "metadata": {},
   "outputs": [
    {
     "name": "stdout",
     "output_type": "stream",
     "text": [
      "Call enter method!\n",
      "Context manage example.\n",
      "10\n",
      "Call exit method!\n"
     ]
    }
   ],
   "source": [
    "class ExampleContextManager:\n",
    "    def __enter__(self):\n",
    "        print(\"Call enter method!\")\n",
    "        return 10\n",
    "\n",
    "    def __exit__(self, exc_type, exc_val, exc_tb):\n",
    "        print(\"Call exit method!\")\n",
    "\n",
    "with ExampleContextManager() as example:\n",
    "    print(\"Context manage example.\")\n",
    "    print(example)"
   ]
  },
  {
   "cell_type": "code",
   "execution_count": 6,
   "metadata": {},
   "outputs": [],
   "source": [
    "# notes: https://www.pythonmorsels.com/creating-a-context-manager/"
   ]
  },
  {
   "cell_type": "code",
   "execution_count": null,
   "metadata": {},
   "outputs": [],
   "source": [
    "# going back to our original problem"
   ]
  },
  {
   "cell_type": "code",
   "execution_count": null,
   "metadata": {},
   "outputs": [],
   "source": [
    "path_location = Path(os.getcwd()).parents[1] / \"tokens\" / \"open_weather_api_key.yaml\"\n"
   ]
  },
  {
   "cell_type": "code",
   "execution_count": 12,
   "metadata": {},
   "outputs": [],
   "source": [
    "with open(path_location, 'r') as yaml_file:\n",
    "    api_key = yaml.safe_load(yaml_file)"
   ]
  },
  {
   "cell_type": "code",
   "execution_count": 13,
   "metadata": {},
   "outputs": [
    {
     "data": {
      "text/plain": [
       "'c8e3c5891b54158025d95f7913829909'"
      ]
     },
     "execution_count": 13,
     "metadata": {},
     "output_type": "execute_result"
    }
   ],
   "source": [
    "api_key"
   ]
  },
  {
   "cell_type": "code",
   "execution_count": null,
   "metadata": {},
   "outputs": [],
   "source": []
  }
 ],
 "metadata": {
  "kernelspec": {
   "display_name": "base",
   "language": "python",
   "name": "python3"
  },
  "language_info": {
   "codemirror_mode": {
    "name": "ipython",
    "version": 3
   },
   "file_extension": ".py",
   "mimetype": "text/x-python",
   "name": "python",
   "nbconvert_exporter": "python",
   "pygments_lexer": "ipython3",
   "version": "3.12.6"
  }
 },
 "nbformat": 4,
 "nbformat_minor": 2
}
