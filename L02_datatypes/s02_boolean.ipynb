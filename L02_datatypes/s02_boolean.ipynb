{
 "cells": [
  {
   "cell_type": "markdown",
   "metadata": {},
   "source": [
    "#### Python logikai változók"
   ]
  },
  {
   "cell_type": "code",
   "execution_count": 3,
   "metadata": {},
   "outputs": [],
   "source": [
    "# Szandekosan ilyen naivan elnevezve a példaként használt változókat...\n",
    "int_valtozo = 1\n",
    "float_valtozo = 2.0\n",
    "complex_valtozo = 3j + 1\n",
    "str_valtozo = \"fewfew\""
   ]
  },
  {
   "cell_type": "markdown",
   "metadata": {},
   "source": [
    "### A szintaxis...."
   ]
  },
  {
   "cell_type": "code",
   "execution_count": 10,
   "metadata": {},
   "outputs": [
    {
     "name": "stdout",
     "output_type": "stream",
     "text": [
      "A == B : False\n",
      "A != B : True\n",
      "A >= B : False\n",
      "A <= B : True\n"
     ]
    }
   ],
   "source": [
    "temp_eq = int_valtozo == float_valtozo\n",
    "temp_neq = int_valtozo != float_valtozo\n",
    "temp_ge = int_valtozo >= float_valtozo\n",
    "temp_le = int_valtozo <= float_valtozo\n",
    "\n",
    "print(f\"A == B : {temp_eq}\")\n",
    "print(f\"A != B : {temp_neq}\")\n",
    "print(f\"A >= B : {temp_ge}\")\n",
    "print(f\"A <= B : {temp_le}\")"
   ]
  },
  {
   "cell_type": "code",
   "execution_count": 11,
   "metadata": {},
   "outputs": [
    {
     "name": "stdout",
     "output_type": "stream",
     "text": [
      "(A == B) or (A != B) : True\n",
      "(A == B) and (A != B) : False\n"
     ]
    }
   ],
   "source": [
    "temp_eq = int_valtozo == float_valtozo\n",
    "temp_neq = int_valtozo != float_valtozo\n",
    "temp_or = temp_eq or temp_neq\n",
    "temp_and = temp_eq and temp_neq\n",
    "\n",
    "print(f\"(A == B) or (A != B) : {temp_or}\")\n",
    "print(f\"(A == B) and (A != B) : {temp_and}\")"
   ]
  },
  {
   "cell_type": "code",
   "execution_count": 35,
   "metadata": {},
   "outputs": [
    {
     "name": "stdout",
     "output_type": "stream",
     "text": [
      "True\n",
      "True\n"
     ]
    }
   ],
   "source": [
    "### relációláncolás?\n",
    "b = 2\n",
    "v1 = 1 < 2 == b  # nem szép...\n",
    "# helyette:\n",
    "v2 = (1 < 2) and (2 == b)\n",
    "\n",
    "print(v1)\n",
    "print(v2)"
   ]
  },
  {
   "cell_type": "code",
   "execution_count": 29,
   "metadata": {},
   "outputs": [
    {
     "ename": "TypeError",
     "evalue": "'<' not supported between instances of 'complex' and 'complex'",
     "output_type": "error",
     "traceback": [
      "\u001b[1;31m---------------------------------------------------------------------------\u001b[0m",
      "\u001b[1;31mTypeError\u001b[0m                                 Traceback (most recent call last)",
      "Cell \u001b[1;32mIn[29], line 2\u001b[0m\n\u001b[0;32m      1\u001b[0m \u001b[38;5;66;03m# nem minden működik... Pl. <, > nincs complex-re...\u001b[39;00m\n\u001b[1;32m----> 2\u001b[0m \u001b[43mcomplex_valtozo\u001b[49m\u001b[38;5;241;43m<\u001b[39;49m\u001b[43mcomplex_valtozo\u001b[49m\n\u001b[0;32m      3\u001b[0m \u001b[38;5;66;03m# itt a dir-t lehet megnézni és pl hívni a __le__ metódust, ami kiírhat pl. notImplemented-et...\u001b[39;00m\n",
      "\u001b[1;31mTypeError\u001b[0m: '<' not supported between instances of 'complex' and 'complex'"
     ]
    }
   ],
   "source": [
    "# nem minden működik... Pl. <, > nincs complex-re...\n",
    "complex_valtozo < complex_valtozo\n",
    "# itt a dir-t lehet megnézni és pl hívni a __le__ metódust, ami kiírhat pl. notImplemented-et..."
   ]
  },
  {
   "cell_type": "markdown",
   "metadata": {},
   "source": [
    "### None kezelés..."
   ]
  },
  {
   "cell_type": "markdown",
   "metadata": {},
   "source": [
    "<li> A None egy singleton object a python világában. (egyetlen) Általában arra használják, hogy megnézzék, kapott-e már egy adott változó értéket...</li>\n",
    "<li> Az \"if\" feltételben definiált None False-ként értékelődik ki... A None a false-hoz hasonlóan viselkedik (falsy-ként hivatkoznak rá, de nem egyenlő a 0-val vagy a False-al)...</li>"
   ]
  },
  {
   "cell_type": "code",
   "execution_count": 18,
   "metadata": {},
   "outputs": [
    {
     "name": "stdout",
     "output_type": "stream",
     "text": [
      "Az int_valtozo létezik...\n",
      "A None False-ként értékelődik ki az if-ben.....\n"
     ]
    }
   ],
   "source": [
    "if int_valtozo:\n",
    "    print(\"Az int_valtozo létezik...\")\n",
    "\n",
    "# Ha a valtozo szerepel az if-ben akkor az lényegében annak a vizsgálata hogy None-e...\n",
    "if None:\n",
    "    print(\".....\")\n",
    "else:\n",
    "    print(\"A None False-ként értékelődik ki az if-ben.....\")"
   ]
  },
  {
   "cell_type": "code",
   "execution_count": 17,
   "metadata": {},
   "outputs": [
    {
     "name": "stdout",
     "output_type": "stream",
     "text": [
      "None\n",
      "True\n",
      "None\n",
      "False\n"
     ]
    }
   ],
   "source": [
    "print(None and True)\n",
    "print(None or True)\n",
    "print(None and False)\n",
    "print(None or False)"
   ]
  },
  {
   "cell_type": "code",
   "execution_count": 1,
   "metadata": {},
   "outputs": [
    {
     "name": "stdout",
     "output_type": "stream",
     "text": [
      "True\n",
      "False\n",
      "False\n",
      "False\n"
     ]
    }
   ],
   "source": [
    "print(None == None)  # nem szép, helyette lásd lentebb az is None megoldást...\n",
    "print(None == False)\n",
    "print(None == True)\n",
    "print(None == 0)"
   ]
  },
  {
   "cell_type": "code",
   "execution_count": 21,
   "metadata": {},
   "outputs": [
    {
     "name": "stdout",
     "output_type": "stream",
     "text": [
      "True\n",
      "False\n"
     ]
    }
   ],
   "source": [
    "x = None\n",
    "print(x is None)\n",
    "print(x is not None)"
   ]
  },
  {
   "cell_type": "code",
   "execution_count": null,
   "metadata": {},
   "outputs": [],
   "source": []
  }
 ],
 "metadata": {
  "kernelspec": {
   "display_name": "Python 3",
   "language": "python",
   "name": "python3"
  },
  "language_info": {
   "codemirror_mode": {
    "name": "ipython",
    "version": 3
   },
   "file_extension": ".py",
   "mimetype": "text/x-python",
   "name": "python",
   "nbconvert_exporter": "python",
   "pygments_lexer": "ipython3",
   "version": "3.12.6"
  }
 },
 "nbformat": 4,
 "nbformat_minor": 2
}
