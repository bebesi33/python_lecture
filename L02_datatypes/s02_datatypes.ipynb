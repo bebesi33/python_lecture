{
 "cells": [
  {
   "cell_type": "markdown",
   "metadata": {},
   "source": [
    "### Téma:\n",
    "\n",
    "Adattípusok, python beépített függvények...\n",
    "\n",
    "\n",
    "### Feladatok:\n",
    "\n",
    "Lásd docx melléklet...\n",
    "\n",
    "\n"
   ]
  },
  {
   "cell_type": "markdown",
   "metadata": {},
   "source": [
    "### Gyengén típusos nyelv...\n",
    "\n"
   ]
  },
  {
   "cell_type": "code",
   "execution_count": 3,
   "metadata": {},
   "outputs": [
    {
     "name": "stdout",
     "output_type": "stream",
     "text": [
      "<class 'int'>\n",
      "<class 'float'>\n"
     ]
    }
   ],
   "source": [
    "x = 3  # ez így egy integer\n",
    "print(type(x))\n",
    "y = 4.0  # ez így float\n",
    "print(type(y))\n",
    "z = y + x  # ???"
   ]
  },
  {
   "cell_type": "code",
   "execution_count": 6,
   "metadata": {},
   "outputs": [
    {
     "name": "stdout",
     "output_type": "stream",
     "text": [
      "<class 'float'>\n"
     ]
    }
   ],
   "source": [
    "print(type(z))\n",
    "# --->>> implicit típus konverzió\n"
   ]
  },
  {
   "cell_type": "code",
   "execution_count": 10,
   "metadata": {},
   "outputs": [
    {
     "name": "stdout",
     "output_type": "stream",
     "text": [
      "<class 'str'>\n",
      "31\n"
     ]
    }
   ],
   "source": [
    "egy_szam = \"3\"\n",
    "masik_szam = 1\n",
    "harmadik_szam = egy_szam + str(masik_szam)\n",
    "print(type(harmadik_szam))\n",
    "print(harmadik_szam)\n",
    "# Így sikerrel összeadtunk két string-et... "
   ]
  },
  {
   "cell_type": "code",
   "execution_count": 13,
   "metadata": {},
   "outputs": [
    {
     "name": "stdout",
     "output_type": "stream",
     "text": [
      "<class 'int'>\n",
      "<class 'str'>\n"
     ]
    }
   ],
   "source": [
    "okos_valtozo = 3  # ez így int\n",
    "print(type(okos_valtozo))\n",
    "\n",
    "okos_valtozo = \"három\"  # ez így már string\n",
    "print(type(okos_valtozo))\n",
    "\n",
    "# --->>> variable (re)assignment , ~ változó újradefiniálás..."
   ]
  },
  {
   "cell_type": "code",
   "execution_count": 15,
   "metadata": {},
   "outputs": [
    {
     "ename": "TypeError",
     "evalue": "unsupported operand type(s) for +: 'int' and 'str'",
     "output_type": "error",
     "traceback": [
      "\u001b[1;31m---------------------------------------------------------------------------\u001b[0m",
      "\u001b[1;31mTypeError\u001b[0m                                 Traceback (most recent call last)",
      "Cell \u001b[1;32mIn[15], line 4\u001b[0m\n\u001b[0;32m      1\u001b[0m \u001b[38;5;28;01mdef\u001b[39;00m \u001b[38;5;21mdo_something\u001b[39m(a, b):\n\u001b[0;32m      2\u001b[0m     \u001b[38;5;28;01mreturn\u001b[39;00m a \u001b[38;5;241m+\u001b[39m b\n\u001b[1;32m----> 4\u001b[0m \u001b[43mdo_something\u001b[49m\u001b[43m(\u001b[49m\u001b[43ma\u001b[49m\u001b[38;5;241;43m=\u001b[39;49m\u001b[38;5;241;43m1\u001b[39;49m\u001b[43m,\u001b[49m\u001b[43m \u001b[49m\u001b[43mb\u001b[49m\u001b[38;5;241;43m=\u001b[39;49m\u001b[38;5;124;43m\"\u001b[39;49m\u001b[38;5;124;43mffff\u001b[39;49m\u001b[38;5;124;43m\"\u001b[39;49m\u001b[43m)\u001b[49m\n\u001b[0;32m      5\u001b[0m \u001b[38;5;66;03m# Ez így typeError-t ad...\u001b[39;00m\n\u001b[0;32m      6\u001b[0m \u001b[38;5;66;03m# Nincs típus kényszerítés a compile során... Azaz amikor értelmezzük a do_something függvényt,\u001b[39;00m\n\u001b[0;32m      7\u001b[0m \u001b[38;5;66;03m# nem vizsgáljuk a bemenetek típusára adott megkötéseket.\u001b[39;00m\n",
      "Cell \u001b[1;32mIn[15], line 2\u001b[0m, in \u001b[0;36mdo_something\u001b[1;34m(a, b)\u001b[0m\n\u001b[0;32m      1\u001b[0m \u001b[38;5;28;01mdef\u001b[39;00m \u001b[38;5;21mdo_something\u001b[39m(a, b):\n\u001b[1;32m----> 2\u001b[0m     \u001b[38;5;28;01mreturn\u001b[39;00m \u001b[43ma\u001b[49m\u001b[43m \u001b[49m\u001b[38;5;241;43m+\u001b[39;49m\u001b[43m \u001b[49m\u001b[43mb\u001b[49m\n",
      "\u001b[1;31mTypeError\u001b[0m: unsupported operand type(s) for +: 'int' and 'str'"
     ]
    }
   ],
   "source": [
    "def do_something(a, b):\n",
    "    return a + b\n",
    "\n",
    "do_something(a=1, b=\"ffff\")\n",
    "# Ez így typeError-t ad...\n",
    "# Nincs típus kényszerítés a compile során... Azaz amikor értelmezzük a do_something függvényt,\n",
    "# nem vizsgáljuk a bemenetek típusára adott megkötéseket.\n",
    "\n"
   ]
  },
  {
   "cell_type": "code",
   "execution_count": null,
   "metadata": {},
   "outputs": [],
   "source": [
    "### ->>>>\n",
    "# A fentiek miatt a python nem erősen típusos (strongly typed)..."
   ]
  },
  {
   "cell_type": "markdown",
   "metadata": {},
   "source": []
  }
 ],
 "metadata": {
  "kernelspec": {
   "display_name": "Python 3",
   "language": "python",
   "name": "python3"
  },
  "language_info": {
   "codemirror_mode": {
    "name": "ipython",
    "version": 3
   },
   "file_extension": ".py",
   "mimetype": "text/x-python",
   "name": "python",
   "nbconvert_exporter": "python",
   "pygments_lexer": "ipython3",
   "version": "3.12.6"
  }
 },
 "nbformat": 4,
 "nbformat_minor": 2
}
