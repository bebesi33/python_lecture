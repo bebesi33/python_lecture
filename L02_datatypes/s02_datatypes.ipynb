{
 "cells": [
  {
   "cell_type": "markdown",
   "metadata": {},
   "source": [
    "### Téma:\n",
    "\n",
    "Adattípusok, python beépített függvények...\n",
    "\n",
    "\n",
    "### Feladatok:\n",
    "\n",
    "Lásd docx Canvas-ban ill. a notebookban lenteb...\n",
    "\n",
    "\n"
   ]
  },
  {
   "cell_type": "markdown",
   "metadata": {},
   "source": [
    "### Gyengén típusos nyelv...\n",
    "\n"
   ]
  },
  {
   "cell_type": "code",
   "execution_count": 3,
   "metadata": {},
   "outputs": [
    {
     "name": "stdout",
     "output_type": "stream",
     "text": [
      "<class 'int'>\n",
      "<class 'float'>\n"
     ]
    }
   ],
   "source": [
    "x = 3  # ez így egy integer\n",
    "print(type(x))\n",
    "y = 4.0  # ez így float\n",
    "print(type(y))\n",
    "z = y + x  # ???"
   ]
  },
  {
   "cell_type": "code",
   "execution_count": 6,
   "metadata": {},
   "outputs": [
    {
     "name": "stdout",
     "output_type": "stream",
     "text": [
      "<class 'float'>\n"
     ]
    }
   ],
   "source": [
    "print(type(z))\n",
    "# --->>> implicit típus konverzió"
   ]
  },
  {
   "cell_type": "code",
   "execution_count": 10,
   "metadata": {},
   "outputs": [
    {
     "name": "stdout",
     "output_type": "stream",
     "text": [
      "<class 'str'>\n",
      "31\n"
     ]
    }
   ],
   "source": [
    "egy_szam = \"3\"\n",
    "masik_szam = 1\n",
    "harmadik_szam = egy_szam + str(masik_szam)\n",
    "print(type(harmadik_szam))\n",
    "print(harmadik_szam)\n",
    "# Így sikerrel összeadtunk két string-et..."
   ]
  },
  {
   "cell_type": "code",
   "execution_count": 13,
   "metadata": {},
   "outputs": [
    {
     "name": "stdout",
     "output_type": "stream",
     "text": [
      "<class 'int'>\n",
      "<class 'str'>\n"
     ]
    }
   ],
   "source": [
    "okos_valtozo = 3  # ez így int\n",
    "print(type(okos_valtozo))\n",
    "\n",
    "okos_valtozo = \"három\"  # ez így már string\n",
    "print(type(okos_valtozo))\n",
    "\n",
    "# --->>> variable (re)assignment , ~ változó újradefiniálás..."
   ]
  },
  {
   "cell_type": "code",
   "execution_count": null,
   "metadata": {},
   "outputs": [
    {
     "ename": "TypeError",
     "evalue": "unsupported operand type(s) for +: 'int' and 'str'",
     "output_type": "error",
     "traceback": [
      "\u001b[1;31m---------------------------------------------------------------------------\u001b[0m",
      "\u001b[1;31mTypeError\u001b[0m                                 Traceback (most recent call last)",
      "Cell \u001b[1;32mIn[15], line 4\u001b[0m\n\u001b[0;32m      1\u001b[0m \u001b[38;5;28;01mdef\u001b[39;00m \u001b[38;5;21mdo_something\u001b[39m(a, b):\n\u001b[0;32m      2\u001b[0m     \u001b[38;5;28;01mreturn\u001b[39;00m a \u001b[38;5;241m+\u001b[39m b\n\u001b[1;32m----> 4\u001b[0m \u001b[43mdo_something\u001b[49m\u001b[43m(\u001b[49m\u001b[43ma\u001b[49m\u001b[38;5;241;43m=\u001b[39;49m\u001b[38;5;241;43m1\u001b[39;49m\u001b[43m,\u001b[49m\u001b[43m \u001b[49m\u001b[43mb\u001b[49m\u001b[38;5;241;43m=\u001b[39;49m\u001b[38;5;124;43m\"\u001b[39;49m\u001b[38;5;124;43mffff\u001b[39;49m\u001b[38;5;124;43m\"\u001b[39;49m\u001b[43m)\u001b[49m\n\u001b[0;32m      5\u001b[0m \u001b[38;5;66;03m# Ez így typeError-t ad...\u001b[39;00m\n\u001b[0;32m      6\u001b[0m \u001b[38;5;66;03m# Nincs típus kényszerítés a compile során... Azaz amikor értelmezzük a do_something függvényt,\u001b[39;00m\n\u001b[0;32m      7\u001b[0m \u001b[38;5;66;03m# nem vizsgáljuk a bemenetek típusára adott megkötéseket.\u001b[39;00m\n",
      "Cell \u001b[1;32mIn[15], line 2\u001b[0m, in \u001b[0;36mdo_something\u001b[1;34m(a, b)\u001b[0m\n\u001b[0;32m      1\u001b[0m \u001b[38;5;28;01mdef\u001b[39;00m \u001b[38;5;21mdo_something\u001b[39m(a, b):\n\u001b[1;32m----> 2\u001b[0m     \u001b[38;5;28;01mreturn\u001b[39;00m \u001b[43ma\u001b[49m\u001b[43m \u001b[49m\u001b[38;5;241;43m+\u001b[39;49m\u001b[43m \u001b[49m\u001b[43mb\u001b[49m\n",
      "\u001b[1;31mTypeError\u001b[0m: unsupported operand type(s) for +: 'int' and 'str'"
     ]
    }
   ],
   "source": [
    "def do_something(a, b):\n",
    "    return a + b\n",
    "\n",
    "\n",
    "do_something(a=1, b=\"ffff\")\n",
    "# Ez így TypeError-t ad...\n",
    "# Nincs típus kényszerítés a fv interpretálása során... Azaz amikor értelmezzük a do_something függvényt,\n",
    "# nem vizsgáljuk a bemenetek típusára adott megkötéseket."
   ]
  },
  {
   "cell_type": "code",
   "execution_count": 17,
   "metadata": {},
   "outputs": [],
   "source": [
    "### ->>>>\n",
    "# A fentiek miatt a python nem erősen típusos (strongly typed): nincs típus vizsgálat a interpret ideje alatt,\n",
    "# újra lehet definiálni a változókat, nem kell explicit casting a legtöbb esetben, és van implicit konverzió is..."
   ]
  },
  {
   "cell_type": "markdown",
   "metadata": {},
   "source": [
    "### Típusosság helyett: \n",
    "#### -> Typehints! (lásd később, olyan 5. -7. gyak körül...)"
   ]
  },
  {
   "cell_type": "markdown",
   "metadata": {},
   "source": [
    "### Észrevételek"
   ]
  },
  {
   "cell_type": "code",
   "execution_count": 20,
   "metadata": {},
   "outputs": [
    {
     "name": "stdout",
     "output_type": "stream",
     "text": [
      "Így működik a  concatenálás...\n",
      "<class 'str'>\n",
      "['__add__', '__class__', '__contains__', '__delattr__', '__dir__', '__doc__', '__eq__', '__format__', '__ge__', '__getattribute__', '__getitem__', '__getnewargs__', '__getstate__', '__gt__', '__hash__', '__init__', '__init_subclass__', '__iter__', '__le__', '__len__', '__lt__', '__mod__', '__mul__', '__ne__', '__new__', '__reduce__', '__reduce_ex__', '__repr__', '__rmod__', '__rmul__', '__setattr__', '__sizeof__', '__str__', '__subclasshook__', 'capitalize', 'casefold', 'center', 'count', 'encode', 'endswith', 'expandtabs', 'find', 'format', 'format_map', 'index', 'isalnum', 'isalpha', 'isascii', 'isdecimal', 'isdigit', 'isidentifier', 'islower', 'isnumeric', 'isprintable', 'isspace', 'istitle', 'isupper', 'join', 'ljust', 'lower', 'lstrip', 'maketrans', 'partition', 'removeprefix', 'removesuffix', 'replace', 'rfind', 'rindex', 'rjust', 'rpartition', 'rsplit', 'rstrip', 'split', 'splitlines', 'startswith', 'strip', 'swapcase', 'title', 'translate', 'upper', 'zfill']\n"
     ]
    }
   ],
   "source": [
    "# definiálva volt az összeadás a stringekre:\n",
    "print(\"Így működik a \" + \" concatenálás...\")\n",
    "# honnan lehet tudni, hogy milyen metódusok, attribútumok elérhetők?\n",
    "\n",
    "string_valtozo = \"ff\"\n",
    "# 1. A type függvény megmondja, hogy mi a változó típusa\n",
    "print(type(string_valtozo))\n",
    "\n",
    "# 2. A dir függvény pedig elmondja, hogy milyen attribútumok és metódusok vannak adott objectm adott példányára definiálva.\n",
    "print(dir(string_valtozo))"
   ]
  },
  {
   "cell_type": "code",
   "execution_count": 42,
   "metadata": {},
   "outputs": [
    {
     "name": "stdout",
     "output_type": "stream",
     "text": [
      "Help on class object in module builtins:\n",
      "\n",
      "class object\n",
      " |  The base class of the class hierarchy.\n",
      " |\n",
      " |  When called, it accepts no arguments and returns a new featureless\n",
      " |  instance that has no instance attributes and cannot be given any.\n",
      " |\n",
      " |  Built-in subclasses:\n",
      " |      anext_awaitable\n",
      " |      async_generator\n",
      " |      async_generator_asend\n",
      " |      async_generator_athrow\n",
      " |      ... and 90 other subclasses\n",
      " |\n",
      " |  Methods defined here:\n",
      " |\n",
      " |  __delattr__(self, name, /)\n",
      " |      Implement delattr(self, name).\n",
      " |\n",
      " |  __dir__(self, /)\n",
      " |      Default dir() implementation.\n",
      " |\n",
      " |  __eq__(self, value, /)\n",
      " |      Return self==value.\n",
      " |\n",
      " |  __format__(self, format_spec, /)\n",
      " |      Default object formatter.\n",
      " |\n",
      " |      Return str(self) if format_spec is empty. Raise TypeError otherwise.\n",
      " |\n",
      " |  __ge__(self, value, /)\n",
      " |      Return self>=value.\n",
      " |\n",
      " |  __getattribute__(self, name, /)\n",
      " |      Return getattr(self, name).\n",
      " |\n",
      " |  __getstate__(self, /)\n",
      " |      Helper for pickle.\n",
      " |\n",
      " |  __gt__(self, value, /)\n",
      " |      Return self>value.\n",
      " |\n",
      " |  __hash__(self, /)\n",
      " |      Return hash(self).\n",
      " |\n",
      " |  __init__(self, /, *args, **kwargs)\n",
      " |      Initialize self.  See help(type(self)) for accurate signature.\n",
      " |\n",
      " |  __le__(self, value, /)\n",
      " |      Return self<=value.\n",
      " |\n",
      " |  __lt__(self, value, /)\n",
      " |      Return self<value.\n",
      " |\n",
      " |  __ne__(self, value, /)\n",
      " |      Return self!=value.\n",
      " |\n",
      " |  __reduce__(self, /)\n",
      " |      Helper for pickle.\n",
      " |\n",
      " |  __reduce_ex__(self, protocol, /)\n",
      " |      Helper for pickle.\n",
      " |\n",
      " |  __repr__(self, /)\n",
      " |      Return repr(self).\n",
      " |\n",
      " |  __setattr__(self, name, value, /)\n",
      " |      Implement setattr(self, name, value).\n",
      " |\n",
      " |  __sizeof__(self, /)\n",
      " |      Size of object in memory, in bytes.\n",
      " |\n",
      " |  __str__(self, /)\n",
      " |      Return str(self).\n",
      " |\n",
      " |  ----------------------------------------------------------------------\n",
      " |  Class methods defined here:\n",
      " |\n",
      " |  __init_subclass__(...)\n",
      " |      This method is called when a class is subclassed.\n",
      " |\n",
      " |      The default implementation does nothing. It may be\n",
      " |      overridden to extend subclasses.\n",
      " |\n",
      " |  __subclasshook__(...)\n",
      " |      Abstract classes can override this to customize issubclass().\n",
      " |\n",
      " |      This is invoked early on by abc.ABCMeta.__subclasscheck__().\n",
      " |      It should return True, False or NotImplemented.  If it returns\n",
      " |      NotImplemented, the normal algorithm is used.  Otherwise, it\n",
      " |      overrides the normal algorithm (and the outcome is cached).\n",
      " |\n",
      " |  ----------------------------------------------------------------------\n",
      " |  Static methods defined here:\n",
      " |\n",
      " |  __new__(*args, **kwargs)\n",
      " |      Create and return a new object.  See help(type) for accurate signature.\n",
      " |\n",
      " |  ----------------------------------------------------------------------\n",
      " |  Data and other attributes defined here:\n",
      " |\n",
      " |  __class__ = <class 'type'>\n",
      " |      type(object) -> the object's type\n",
      " |      type(name, bases, dict, **kwds) -> a new type\n",
      "\n"
     ]
    }
   ],
   "source": [
    "# és a python object...\n",
    "help(object)"
   ]
  },
  {
   "cell_type": "markdown",
   "metadata": {},
   "source": [
    "### Feladatok"
   ]
  },
  {
   "cell_type": "code",
   "execution_count": null,
   "metadata": {},
   "outputs": [],
   "source": [
    "# F.1:\n",
    "# A fenti string-re meghívott dir függvény kidobott pár (legalábbi számomra /Laci/) érdekes metódust.\n",
    "# Vizsgáljunk meg párat ezekközül, úgy, hogy írunk pár sor kódot, ahol ezeket használjuk...\n",
    "# Hint általában __valami_fv_nev__ vagy __dir__ így hívható: valami_fv_nev vagy dir\n",
    "# A függvények a következők:\n",
    "notable_functions = [\n",
    "    \"str\",\n",
    "    \"hash\",\n",
    "    \"isinstance\",\n",
    "    \"help\",\n",
    "    \"id\",\n",
    "    \"callable\",\n",
    "    \"issubclass\",\n",
    "    \"vars\",\n",
    "]"
   ]
  },
  {
   "cell_type": "code",
   "execution_count": 37,
   "metadata": {},
   "outputs": [],
   "source": [
    "# F.2:\n",
    "# Ismerkedjünk meg a string-ekkel...\n",
    "# Fentebb volt a konkatenálás a \"+\" jellel...\n",
    "# írjunk ki a printtel valami ilyesmit: \"PEP RULE: [A pep8 szabály tartalma]\"\n",
    "\n",
    "identifier_names = (\n",
    "    \"CamelCase az osztályok elnevezésére\",\n",
    "    \"snake_case a függvények neveire\",\n",
    "    \"UPPER_SNAKE_CASE a konstansok jelölésére\",\n",
    ")\n",
    "for id_name in identifier_names:\n",
    "    pass\n",
    "\n",
    "# Hogyan lehetne ezt .format-al vagy f-string-el megoldani?\n",
    "# A 3 megoldás közül melyiket használják?\n",
    "# Mi az r-string??"
   ]
  },
  {
   "cell_type": "code",
   "execution_count": null,
   "metadata": {},
   "outputs": [],
   "source": [
    "# F.3:\n",
    "# Kísérletezzünk pár konverzióval...\n",
    "# int, float, str, chr\n",
    "# Mik ezek?"
   ]
  },
  {
   "cell_type": "code",
   "execution_count": 39,
   "metadata": {},
   "outputs": [],
   "source": [
    "# F.4:\n",
    "# Készítsünk programot, amelyik megkérdezi a vezeték és keresztnevünket és \n",
    "# üdvözöl bennünket!\n",
    "# Az első sorban legyen megjegyzésben a nevünk, neptun kódunk. „Üdv vnév knév!”\n",
    "# Hint ezt érdemes egy .py file-ban megoldani és terminalban futtatni..."
   ]
  },
  {
   "cell_type": "code",
   "execution_count": null,
   "metadata": {},
   "outputs": [],
   "source": []
  }
 ],
 "metadata": {
  "kernelspec": {
   "display_name": "Python 3",
   "language": "python",
   "name": "python3"
  },
  "language_info": {
   "codemirror_mode": {
    "name": "ipython",
    "version": 3
   },
   "file_extension": ".py",
   "mimetype": "text/x-python",
   "name": "python",
   "nbconvert_exporter": "python",
   "pygments_lexer": "ipython3",
   "version": "3.12.6"
  }
 },
 "nbformat": 4,
 "nbformat_minor": 2
}
